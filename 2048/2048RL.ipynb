{
  "nbformat": 4,
  "nbformat_minor": 0,
  "metadata": {
    "colab": {
      "name": "2048RL.ipynb",
      "provenance": [],
      "collapsed_sections": [
        "OSrvnPCD9u5H",
        "pnViKCDv9wtH",
        "HRU0ZGes97oo",
        "-8Y5i0kr99cS",
        "5o02lrHJ-MoJ",
        "pBRkiWNe2maH",
        "Y_YWvdsz2HJS"
      ]
    },
    "kernelspec": {
      "name": "python3",
      "display_name": "Python 3"
    },
    "language_info": {
      "name": "python"
    },
    "accelerator": "GPU"
  },
  "cells": [
    {
      "cell_type": "code",
      "metadata": {
        "colab": {
          "base_uri": "https://localhost:8080/"
        },
        "id": "loY4zbtU9pKL",
        "outputId": "22be104d-81e6-42b8-b398-ba621630139e"
      },
      "source": [
        "# Stable Baselines only supports tensorflow 1.x for now\n",
        "%tensorflow_version 1.x\n",
        "!pip install stable-baselines[mpi]==2.10.0\n",
        "!pip install pygame\n",
        "\n",
        "from stable_baselines.common.policies import MlpPolicy\n",
        "from stable_baselines import PPO2, DQN"
      ],
      "execution_count": null,
      "outputs": [
        {
          "output_type": "stream",
          "name": "stdout",
          "text": [
            "TensorFlow 1.x selected.\n",
            "Collecting stable-baselines[mpi]==2.10.0\n",
            "  Downloading stable_baselines-2.10.0-py3-none-any.whl (248 kB)\n",
            "\u001b[K     |████████████████████████████████| 248 kB 5.3 MB/s \n",
            "\u001b[?25hRequirement already satisfied: opencv-python in /usr/local/lib/python3.7/dist-packages (from stable-baselines[mpi]==2.10.0) (4.1.2.30)\n",
            "Requirement already satisfied: pandas in /usr/local/lib/python3.7/dist-packages (from stable-baselines[mpi]==2.10.0) (1.1.5)\n",
            "Requirement already satisfied: cloudpickle>=0.5.5 in /usr/local/lib/python3.7/dist-packages (from stable-baselines[mpi]==2.10.0) (1.3.0)\n",
            "Requirement already satisfied: gym[atari,classic_control]>=0.11 in /usr/local/lib/python3.7/dist-packages (from stable-baselines[mpi]==2.10.0) (0.17.3)\n",
            "Requirement already satisfied: scipy in /usr/local/lib/python3.7/dist-packages (from stable-baselines[mpi]==2.10.0) (1.4.1)\n",
            "Requirement already satisfied: numpy in /usr/local/lib/python3.7/dist-packages (from stable-baselines[mpi]==2.10.0) (1.19.5)\n",
            "Requirement already satisfied: matplotlib in /usr/local/lib/python3.7/dist-packages (from stable-baselines[mpi]==2.10.0) (3.2.2)\n",
            "Requirement already satisfied: joblib in /usr/local/lib/python3.7/dist-packages (from stable-baselines[mpi]==2.10.0) (1.0.1)\n",
            "Requirement already satisfied: mpi4py in /tensorflow-1.15.2/python3.7 (from stable-baselines[mpi]==2.10.0) (3.0.3)\n",
            "Requirement already satisfied: pyglet<=1.5.0,>=1.4.0 in /usr/local/lib/python3.7/dist-packages (from gym[atari,classic_control]>=0.11->stable-baselines[mpi]==2.10.0) (1.5.0)\n",
            "Requirement already satisfied: atari-py~=0.2.0 in /usr/local/lib/python3.7/dist-packages (from gym[atari,classic_control]>=0.11->stable-baselines[mpi]==2.10.0) (0.2.9)\n",
            "Requirement already satisfied: Pillow in /usr/local/lib/python3.7/dist-packages (from gym[atari,classic_control]>=0.11->stable-baselines[mpi]==2.10.0) (7.1.2)\n",
            "Requirement already satisfied: six in /usr/local/lib/python3.7/dist-packages (from atari-py~=0.2.0->gym[atari,classic_control]>=0.11->stable-baselines[mpi]==2.10.0) (1.15.0)\n",
            "Requirement already satisfied: future in /usr/local/lib/python3.7/dist-packages (from pyglet<=1.5.0,>=1.4.0->gym[atari,classic_control]>=0.11->stable-baselines[mpi]==2.10.0) (0.16.0)\n",
            "Requirement already satisfied: kiwisolver>=1.0.1 in /usr/local/lib/python3.7/dist-packages (from matplotlib->stable-baselines[mpi]==2.10.0) (1.3.1)\n",
            "Requirement already satisfied: pyparsing!=2.0.4,!=2.1.2,!=2.1.6,>=2.0.1 in /usr/local/lib/python3.7/dist-packages (from matplotlib->stable-baselines[mpi]==2.10.0) (2.4.7)\n",
            "Requirement already satisfied: cycler>=0.10 in /usr/local/lib/python3.7/dist-packages (from matplotlib->stable-baselines[mpi]==2.10.0) (0.10.0)\n",
            "Requirement already satisfied: python-dateutil>=2.1 in /usr/local/lib/python3.7/dist-packages (from matplotlib->stable-baselines[mpi]==2.10.0) (2.8.2)\n",
            "Requirement already satisfied: pytz>=2017.2 in /usr/local/lib/python3.7/dist-packages (from pandas->stable-baselines[mpi]==2.10.0) (2018.9)\n",
            "Installing collected packages: stable-baselines\n",
            "  Attempting uninstall: stable-baselines\n",
            "    Found existing installation: stable-baselines 2.2.1\n",
            "    Uninstalling stable-baselines-2.2.1:\n",
            "      Successfully uninstalled stable-baselines-2.2.1\n",
            "Successfully installed stable-baselines-2.10.0\n",
            "Collecting pygame\n",
            "  Downloading pygame-2.0.1-cp37-cp37m-manylinux1_x86_64.whl (11.8 MB)\n",
            "\u001b[K     |████████████████████████████████| 11.8 MB 150 kB/s \n",
            "\u001b[?25hInstalling collected packages: pygame\n",
            "Successfully installed pygame-2.0.1\n",
            "WARNING:tensorflow:\n",
            "The TensorFlow contrib module will not be included in TensorFlow 2.0.\n",
            "For more information, please see:\n",
            "  * https://github.com/tensorflow/community/blob/master/rfcs/20180907-contrib-sunset.md\n",
            "  * https://github.com/tensorflow/addons\n",
            "  * https://github.com/tensorflow/io (for I/O related ops)\n",
            "If you depend on functionality not listed there, please file an issue.\n",
            "\n"
          ]
        }
      ]
    },
    {
      "cell_type": "code",
      "metadata": {
        "id": "W3Vah6OY-BEe",
        "colab": {
          "base_uri": "https://localhost:8080/"
        },
        "outputId": "1787cbdb-78e6-4de5-fa5c-0e159b8314ff"
      },
      "source": [
        "import os\n",
        "import numpy as np\n",
        "import sys\n",
        "import math\n",
        "import random\n",
        "import cv2\n",
        "import matplotlib.pyplot as plt\n",
        "from tqdm import tqdm\n",
        "\n",
        "import gym\n",
        "from gym import spaces\n",
        "# from gym.envs.classic_control import rendering\n",
        "\n",
        "import pygame\n",
        "from pygame.locals import *\n",
        "\n",
        "from google.colab import files\n",
        "from google.colab.patches import cv2_imshow\n",
        "from google.colab import output\n",
        "\n",
        "# os.environ[\"SDL_VIDEODRIVER\"] = \"dummy\""
      ],
      "execution_count": null,
      "outputs": [
        {
          "output_type": "stream",
          "name": "stdout",
          "text": [
            "pygame 2.0.1 (SDL 2.0.14, Python 3.7.11)\n",
            "Hello from the pygame community. https://www.pygame.org/contribute.html\n"
          ]
        }
      ]
    },
    {
      "cell_type": "markdown",
      "metadata": {
        "id": "QFbxueAJ9xjv"
      },
      "source": [
        "# OOP Code"
      ]
    },
    {
      "cell_type": "markdown",
      "metadata": {
        "id": "OSrvnPCD9u5H"
      },
      "source": [
        "## Piece"
      ]
    },
    {
      "cell_type": "code",
      "metadata": {
        "id": "8tOHt0TP9rXi"
      },
      "source": [
        "class Piece:\n",
        "    def __init__(self, *args):\n",
        "        if len(args) == 0:\n",
        "            self.value = 0\n",
        "        elif len(args) == 1:\n",
        "            self.value = args[0]\n",
        "\n",
        "    def set_value(self, value):\n",
        "        self.value = value\n",
        "\n",
        "    def get_value(self):\n",
        "        return self.value\n",
        "\n",
        "    def value_upgrade(self):\n",
        "        self.value *= 2\n",
        "\n",
        "    def value_remove(self):\n",
        "        self.value = 0\n"
      ],
      "execution_count": null,
      "outputs": []
    },
    {
      "cell_type": "markdown",
      "metadata": {
        "id": "pnViKCDv9wtH"
      },
      "source": [
        "## Board"
      ]
    },
    {
      "cell_type": "code",
      "metadata": {
        "id": "SDGusMS-93Ni"
      },
      "source": [
        "class Board:\n",
        "    def __init__(self, rows, cols):\n",
        "        self.cols = cols\n",
        "        self.rows = rows\n",
        "\n",
        "        self.board = []\n",
        "        for r in range(self.rows):\n",
        "            self.board.append([])\n",
        "            for c in range(self.cols):\n",
        "                self.board[r].append(Piece())\n",
        "\n",
        "    def get_board_values(self):\n",
        "        b = []\n",
        "        for r in range(self.rows):\n",
        "            b.append([])\n",
        "            for c in range(self.cols):\n",
        "                b[r].append(self.board[r][c].get_value())\n",
        "        return b\n",
        "\n",
        "    def get_piece(self, row, col):\n",
        "        return self.board[row][col]\n",
        "\n",
        "    def put_piece(self, row, col, piece):\n",
        "        self.board[row][col] = piece\n",
        "\n",
        "    def put_piece_value(self, row, col, value):\n",
        "        self.board[row][col].set_value(value)\n",
        "\n",
        "    def remove_piece(self, row, col):\n",
        "        self.board[row][col].value_remove()\n",
        "\n",
        "    def get_empty_pos(self):\n",
        "        empty_r = []\n",
        "        empty_c = []\n",
        "\n",
        "        for r in range(self.rows):\n",
        "            for c in range(self.cols):\n",
        "                if self.board[r][c].get_value() == 0:\n",
        "                    empty_r.append(r)\n",
        "                    empty_c.append(c)\n",
        "\n",
        "        return empty_r, empty_c\n",
        "\n",
        "    def move_piece(self, old_r, old_c, new_r, new_c):\n",
        "\n",
        "        piece_o = self.get_piece(old_r, old_c)\n",
        "        piece_d = self.get_piece(new_r, new_c)\n",
        "\n",
        "        if piece_o.get_value() == 0:\n",
        "            raise ValueError('Old position ({}, {}) empty!'.format(old_r, old_c))\n",
        "        if piece_d.get_value() != 0:\n",
        "            raise ValueError('New position ({}, {}) already ocupied!'.format(new_r, new_c))\n",
        "\n",
        "        self.put_piece(new_r, new_c, piece_o)\n",
        "        self.put_piece(old_r, old_c, Piece())\n",
        "\n",
        "    def merge_pieces(self, row1, col1, row2, col2):\n",
        "        self.board[row1][col1].value_upgrade()\n",
        "        self.remove_piece(row2, col2)\n",
        "        return self.board[row1][col1].get_value()\n"
      ],
      "execution_count": null,
      "outputs": []
    },
    {
      "cell_type": "markdown",
      "metadata": {
        "id": "HRU0ZGes97oo"
      },
      "source": [
        "## BoardController"
      ]
    },
    {
      "cell_type": "code",
      "metadata": {
        "id": "5yKEr45_98zh"
      },
      "source": [
        "class BoardController:\n",
        "\tdef __init__(self, rows, cols):\n",
        "\t\tself.rows = rows\n",
        "\t\tself.cols = cols\n",
        "\t\tself.board = Board(self.rows, self.cols)\n",
        "\n",
        "\tdef get_rowcols(self):\n",
        "\t\treturn self.rows, self.cols\n",
        "\n",
        "\tdef set_board(self, new_board):\n",
        "\t\tfor ind_r, r in enumerate(new_board):\n",
        "\t\t\tfor ind_c, c in enumerate(r):\n",
        "\t\t\t\tself.board.put_piece(ind_r, ind_c, Piece(c))\n",
        "\n",
        "\tdef get_board_values(self):\n",
        "\t\treturn self.board.get_board_values()\n",
        "\n",
        "\tdef get_board(self):\n",
        "\t\treturn self.board\n",
        "\n",
        "\tdef get_score(self):\n",
        "\t\tb = self.board.get_board_values()\n",
        "\n",
        "\t\tsum = 0\n",
        "\t\tfor r in b:\n",
        "\t\t\tfor c in r:\n",
        "\t\t\t\tsum += c\n",
        "\t\treturn sum\n",
        "\n",
        "\tdef get_score_position(self, x, y):\n",
        "\t\tv = self.board.get_piece(x, y).get_value()\n",
        "\t\treturn v\n",
        "\n",
        "\tdef get_max_value(self):\n",
        "\t\tb = self.board.get_board_values()\n",
        "\n",
        "\t\tmax = 0\n",
        "\t\tfor r in b:\n",
        "\t\t\tfor c in r:\n",
        "\t\t\t\tif c > max:\n",
        "\t\t\t\t\tmax = c\n",
        "\t\treturn max\n",
        "\n",
        "\tdef get_max_value_position(self):\n",
        "\t\tb = self.board.get_board_values()\n",
        "\t\tx = 0\n",
        "\t\ty = 0\n",
        "\t\tmax = 0\n",
        "\t\tfor indr, r in enumerate(b):\n",
        "\t\t\tfor indc, c in enumerate(r):\n",
        "\t\t\t\tif c > max:\n",
        "\t\t\t\t\tx = indc\n",
        "\t\t\t\t\ty = indr\n",
        "\t\t\t\t\tmax = c\n",
        "\t\treturn x, y\n",
        "\n",
        "\tdef appear_piece(self):\n",
        "\t\tempty_r, empty_c = self.board.get_empty_pos()\n",
        "\t\trandom_ind = random.randint(0, len(empty_r)-1)\n",
        "\n",
        "\t\trandom_value = random.randint(1,10)\n",
        "\t\tif random_value <= 9: # 90% value 2\n",
        "\t\t\trandom_value = 2\n",
        "\t\telse: # 10% value 4\n",
        "\t\t\trandom_value = 4\n",
        "\n",
        "\t\t# print(empty_r, empty_c, random_ind, random_value)\n",
        "\n",
        "\t\tself.board.put_piece(empty_r[random_ind], empty_c[random_ind], Piece(random_value))\n",
        "\t\treturn empty_r[random_ind], empty_c[random_ind]\n",
        "\n",
        "\tdef reestart_board(self):\n",
        "\t\tfor r in range(self.rows):\n",
        "\t\t\tfor c in range(self.cols):\n",
        "\t\t\t\tself.board.put_piece(r, c, Piece())\n",
        "\n",
        "\tdef check_nomoves(self):\n",
        "\t\tfor r in range(self.rows):\n",
        "\t\t\tfor c in range(self.cols):\n",
        "\t\t\t\tvalue = self.board.get_piece(r, c).get_value()\n",
        "\t\t\t\tif value == 0:\n",
        "\t\t\t\t\treturn False\n",
        "\n",
        "\t\t\t\tif r != 0:\n",
        "\t\t\t\t\tvalue_up = self.board.get_piece(r-1, c).get_value()\n",
        "\t\t\t\t\tif value_up == value:\n",
        "\t\t\t\t\t\treturn False\n",
        "\t\t\t\tif c != 0:\n",
        "\t\t\t\t\tvalue_left = self.board.get_piece(r, c-1).get_value()\n",
        "\t\t\t\t\tif value_left == value:\n",
        "\t\t\t\t\t\treturn False\n",
        "\t\treturn True\n",
        "\n",
        "\tdef check_winner(self):\n",
        "\t\tb = self.get_board_values()\n",
        "\t\tfor r in b:\n",
        "\t\t\tfor c in r:\n",
        "\t\t\t\tif c == 2048:\n",
        "\t\t\t\t\treturn True\n",
        "\t\treturn False\n",
        "\n",
        "\n",
        "\tdef move_left(self):\n",
        "\t\tmovements = 0\n",
        "\t\tmerged_values = 0\n",
        "\t\ttry:\n",
        "\t\t\tfor r in range(self.rows):\n",
        "\t\t\t\tmerged_row = False\n",
        "\t\t\t\tfor c in range(self.cols):\n",
        "\t\t\t\t\tif c != 0: # ignore the pieces on position 0 that will not move\n",
        "\t\t\t\t\t\tif self.board.get_piece(r, c).get_value() != 0:\n",
        "\t\t\t\t\t\t\t# print('-----')\n",
        "\t\t\t\t\t\t\tpiece_c = c\n",
        "\t\t\t\t\t\t\twhile(self.board.get_piece(r, piece_c-1).get_value() == 0):\n",
        "\t\t\t\t\t\t\t\tself.board.move_piece(r, piece_c, r, piece_c-1)\n",
        "\t\t\t\t\t\t\t\t# print('moving ({}, {}) to ({}, {})'.format(r,piece_c, r,piece_c-1))\n",
        "\n",
        "\t\t\t\t\t\t\t\tmovements += 1\n",
        "\t\t\t\t\t\t\t\tpiece_c -= 1\n",
        "\t\t\t\t\t\t\t\tif piece_c == 0:\n",
        "\t\t\t\t\t\t\t\t\tbreak\n",
        "\n",
        "\t\t\t\t\t\t\tif merged_row == False and piece_c != 0:\n",
        "\n",
        "\t\t\t\t\t\t\t\t# b_values = self.get_board()\n",
        "\t\t\t\t\t\t\t\t# print(np.matrix(b_values))\n",
        "\n",
        "\t\t\t\t\t\t\t\tif self.can_be_merged(r, piece_c-1, r, piece_c):\n",
        "\t\t\t\t\t\t\t\t\t# print('merged')\n",
        "\t\t\t\t\t\t\t\t\tm_value = self.board.merge_pieces(r, piece_c-1, r, piece_c)\n",
        "\t\t\t\t\t\t\t\t\tmerged_row = True\n",
        "\t\t\t\t\t\t\t\t\tmovements += 1\n",
        "\t\t\t\t\t\t\t\t\tmerged_values += m_value\n",
        "\n",
        "\t\t\treturn movements, merged_values\n",
        "\n",
        "\t\texcept ValueError as ve:\n",
        "\t\t\tprint(str(ve))\n",
        "\t\t\treturn 0\n",
        "\n",
        "\tdef move_right(self):\n",
        "\t\tmovements = 0\n",
        "\t\tmerged_values = 0\n",
        "\t\ttry:\n",
        "\t\t\tfor r in range(self.rows):\n",
        "\t\t\t\tmerged_row = False\n",
        "\t\t\t\tfor c in range(self.cols-1, -1, -1):\n",
        "\t\t\t\t\tif c != self.cols-1:\n",
        "\t\t\t\t\t\tif self.board.get_piece(r, c).get_value() != 0:\n",
        "\t\t\t\t\t\t\tpiece_c = c\n",
        "\t\t\t\t\t\t\twhile(self.board.get_piece(r, piece_c+1).get_value() == 0):\n",
        "\t\t\t\t\t\t\t\tself.board.move_piece(r, piece_c, r, piece_c+1)\n",
        "\n",
        "\t\t\t\t\t\t\t\tmovements += 1\n",
        "\t\t\t\t\t\t\t\tpiece_c += 1\n",
        "\t\t\t\t\t\t\t\tif piece_c == self.cols-1:\n",
        "\t\t\t\t\t\t\t\t\tbreak\n",
        "\n",
        "\t\t\t\t\t\t\tif merged_row == False and piece_c != self.cols-1:\n",
        "\t\t\t\t\t\t\t\tif self.can_be_merged(r, piece_c+1, r, piece_c):\n",
        "\t\t\t\t\t\t\t\t\tm_value = self.board.merge_pieces(r, piece_c+1, r, piece_c)\n",
        "\t\t\t\t\t\t\t\t\tmerged_row = True\n",
        "\t\t\t\t\t\t\t\t\tmovements += 1\n",
        "\t\t\t\t\t\t\t\t\tmerged_values += m_value\n",
        "\n",
        "\t\t\treturn movements, merged_values\n",
        "\n",
        "\t\texcept ValueError as ve:\n",
        "\t\t\tprint(str(ve))\n",
        "\t\t\treturn 0\n",
        "\n",
        "\tdef move_up(self):\n",
        "\t\tmovements = 0\n",
        "\t\tmerged_values = 0\n",
        "\t\ttry:\n",
        "\t\t\tfor c in range(self.cols):\n",
        "\t\t\t\tmerged_col = False\n",
        "\t\t\t\tfor r in range(self.rows):\n",
        "\t\t\t\t\tif r != 0:\n",
        "\t\t\t\t\t\tif self.board.get_piece(r, c).get_value() != 0:\n",
        "\t\t\t\t\t\t\tpiece_r = r\n",
        "\t\t\t\t\t\t\twhile(self.board.get_piece(piece_r-1, c).get_value() == 0):\n",
        "\t\t\t\t\t\t\t\tself.board.move_piece(piece_r, c, piece_r-1, c)\n",
        "\n",
        "\t\t\t\t\t\t\t\tmovements += 1\n",
        "\t\t\t\t\t\t\t\tpiece_r -= 1\n",
        "\t\t\t\t\t\t\t\tif piece_r == 0:\n",
        "\t\t\t\t\t\t\t\t\tbreak\n",
        "\n",
        "\t\t\t\t\t\t\tif merged_col == False and piece_r != 0:\n",
        "\t\t\t\t\t\t\t\tif self.can_be_merged(piece_r-1, c, piece_r, c):\n",
        "\t\t\t\t\t\t\t\t\tm_value = self.board.merge_pieces(piece_r-1, c, piece_r, c)\n",
        "\t\t\t\t\t\t\t\t\tmerged_col = True\n",
        "\t\t\t\t\t\t\t\t\tmovements += 1\n",
        "\t\t\t\t\t\t\t\t\tmerged_values += m_value\n",
        "\n",
        "\t\t\treturn movements, merged_values\n",
        "\n",
        "\t\texcept ValueError as ve:\n",
        "\t\t\tprint(str(ve))\n",
        "\t\t\treturn 0\n",
        "\n",
        "\tdef move_down(self):\n",
        "\t\tmovements = 0\n",
        "\t\tmerged_values = 0\n",
        "\t\ttry:\n",
        "\t\t\tfor c in range(self.cols):\n",
        "\t\t\t\tmerged_col = False\n",
        "\t\t\t\tfor r in range(self.rows-1, -1, -1):\n",
        "\t\t\t\t\tif r != self.rows-1:\n",
        "\t\t\t\t\t\tif self.board.get_piece(r, c).get_value() != 0:\n",
        "\t\t\t\t\t\t\tpiece_r = r\n",
        "\t\t\t\t\t\t\twhile(self.board.get_piece(piece_r+1, c).get_value() == 0):\n",
        "\t\t\t\t\t\t\t\tself.board.move_piece(piece_r, c, piece_r+1, c)\n",
        "\n",
        "\t\t\t\t\t\t\t\tmovements += 1\n",
        "\t\t\t\t\t\t\t\tpiece_r += 1\n",
        "\t\t\t\t\t\t\t\tif piece_r == self.cols-1:\n",
        "\t\t\t\t\t\t\t\t\tbreak\n",
        "\n",
        "\t\t\t\t\t\t\tif merged_col == False and piece_r != self.cols-1:\n",
        "\t\t\t\t\t\t\t\tif self.can_be_merged(piece_r+1, c, piece_r, c):\n",
        "\t\t\t\t\t\t\t\t\tm_value = self.board.merge_pieces(piece_r+1, c, piece_r, c)\n",
        "\t\t\t\t\t\t\t\t\tmerged_col = True\n",
        "\t\t\t\t\t\t\t\t\tmovements += 1\n",
        "\t\t\t\t\t\t\t\t\tmerged_values += m_value\n",
        "\n",
        "\t\t\treturn movements, merged_values\n",
        "\n",
        "\t\texcept ValueError as ve:\n",
        "\t\t\tprint(str(ve))\n",
        "\t\t\treturn 0\n",
        "\n",
        "\tdef can_be_merged(self, row1, col1, row2, col2):\n",
        "\t\tval1 = self.board.get_piece(row1, col1).get_value()\n",
        "\t\tval2 = self.board.get_piece(row2, col2).get_value()\n",
        "\n",
        "\t\tif val1 == val2:\n",
        "\t\t\treturn True\n",
        "\t\treturn False\n"
      ],
      "execution_count": null,
      "outputs": []
    },
    {
      "cell_type": "markdown",
      "metadata": {
        "id": "-8Y5i0kr99cS"
      },
      "source": [
        "## UIBoard"
      ]
    },
    {
      "cell_type": "code",
      "metadata": {
        "id": "dSXNyWZk-EyV"
      },
      "source": [
        "class UIBoard:\n",
        "    def __init__(self, bcontrol, area, pygame, screen):\n",
        "        self.b_controller = bcontrol\n",
        "        self.rows, self.cols = bcontrol.get_rowcols()\n",
        "        self.area = area\n",
        "        self.width, self.height = area\n",
        "        self.small_width = self.width * 14/16\n",
        "        self.small_height = self.height * 14/16\n",
        "\n",
        "        self.time = '0:00'\n",
        "        self.moves = 0\n",
        "\n",
        "        self.game = pygame\n",
        "        self.screen = screen\n",
        "        self.font_numbers = self.game.font.Font(None, 60)\n",
        "        self.font_text = self.game.font.Font(None, 60)\n",
        "        self.font_info = self.game.font.Font(None, 24)\n",
        "        self.font_score = self.game.font.Font(None, 24)\n",
        "\n",
        "        self.GRAY = (185, 173, 160)\n",
        "        self.GRAY2 = (238, 228, 218)\n",
        "        self.GRAY3 = (205, 196, 179)\n",
        "        self.BLACK = (0, 0, 0)\n",
        "        self.WHITE = (255, 255, 255)\n",
        "        self.ORANGE = (242, 177, 121)\n",
        "        self.ORANGE2 = (245, 149, 99)\n",
        "        self.RED = (245, 124, 95)\n",
        "        self.RED2 = (247, 94, 60)\n",
        "        self.YELLOW = (236, 206, 115)\n",
        "        self.YELLOW2 = (236, 200, 80)\n",
        "        self.YELLOW3 = (237, 204, 97)\n",
        "        self.YELLOW4 = (237, 197, 63)\n",
        "        self.YELLOW5 = (238, 194, 46)\n",
        "        self.BLUE = (0, 0, 255)\n",
        "        self.GREEN = (0, 128, 0)\n",
        "\n",
        "        self.values2colorsPiece = {\t0: self.GRAY3,      2: self.GRAY2,      4: self.GRAY2,\n",
        "                                    8: self.ORANGE,     16: self.ORANGE2,   32: self.RED,\n",
        "                                    64: self.RED2,      128: self.YELLOW,   256: self.YELLOW2,\n",
        "                                    512: self.YELLOW3,  1024: self.YELLOW4, 2048: self.YELLOW5 }\n",
        "        self.values2colorsNumber = {0: self.WHITE,      2: self.BLACK,      4: self.BLACK,\n",
        "                                    8: self.WHITE,      16: self.WHITE,     32: self.WHITE,\n",
        "                                    64: self.WHITE,     128: self.WHITE,    256: self.WHITE,\n",
        "                                    512: self.WHITE,    1024: self.WHITE,   2048: self.WHITE }\n",
        "\n",
        "    def set_time_moves(self, t, m):\n",
        "        self.time = t\n",
        "        self.moves = m\n",
        "\n",
        "    def print_board_values(self):\n",
        "\n",
        "        b_values = self.b_controller.get_board_values()\n",
        "        print(np.matrix(b_values))\n",
        "\n",
        "    def print_base_screen(self):\n",
        "        board = self.b_controller.get_board_values()\n",
        "\n",
        "        self.screen.fill(self.WHITE)\n",
        "        white_borderx = self.width*1/16\n",
        "        white_bordery = self.height*1/16\n",
        "        self.game.draw.rect(self.screen, self.GRAY, (white_borderx, white_bordery,\n",
        "                                                    self.small_width, self.small_height))\n",
        "\n",
        "        miniborderx = 1/32*self.small_width\n",
        "        minibordery = 1/32*self.small_height\n",
        "        #there will be 5 miniborders\n",
        "        rectanglex = self.small_width*(32-5)/32 / self.cols\n",
        "        rectangley = self.small_height*(32-5)/32 / self.rows\n",
        "        for ind_r, r in enumerate(board):\n",
        "            for ind_c, c in enumerate(r):\n",
        "                x_pos =  white_borderx + (ind_c+1) * miniborderx + ind_c * rectanglex\n",
        "                y_pos =  white_bordery + (ind_r+1) * minibordery + ind_r * rectangley\n",
        "\n",
        "                rr = self.game.draw.rect(self.screen, self.values2colorsPiece[c], (x_pos, y_pos, rectanglex, rectangley), border_radius=3)\n",
        "\n",
        "                if c != 0:\n",
        "                    text_o = self.font_numbers.render(str(c), 0, self.values2colorsNumber[c])\n",
        "\n",
        "                    textRect = text_o.get_rect()\n",
        "                    textRect.center = (x_pos + rectanglex/2, y_pos + rectangley/2)\n",
        "                    self.screen.blit(text_o, textRect)\n",
        "\n",
        "\n",
        "        #score\n",
        "        score = self.b_controller.get_score()\n",
        "        text_score = self.font_score.render('Score: {}'.format(score), 0, self.BLACK)\n",
        "        textRect = text_score.get_rect()\n",
        "        textRect.x = white_borderx\n",
        "        textRect.centery = white_bordery/2\n",
        "        self.screen.blit(text_score, textRect)\n",
        "\n",
        "        #time\n",
        "        text_score = self.font_score.render(self.time, 0, self.GRAY)\n",
        "        textRect = text_score.get_rect()\n",
        "        textRect.left = self.width - white_borderx*2\n",
        "        textRect.centery = self.height - white_bordery/2\n",
        "        self.screen.blit(text_score, textRect)\n",
        "\n",
        "        #moves\n",
        "        text_score = self.font_score.render(\"{} moves\".format(self.moves), 0, self.GRAY)\n",
        "        textRect = text_score.get_rect()\n",
        "        textRect.x = white_borderx\n",
        "        textRect.centery = self.height - white_bordery/2\n",
        "        self.screen.blit(text_score, textRect)\n",
        "\n",
        "        self.game.display.update()\n",
        "\n",
        "\n",
        "    def new_piece(self, row, col):\n",
        "        self.print_base_screen()\n",
        "\n",
        "        value_p = self.b_controller.get_board().get_piece(row, col).get_value()\n",
        "\n",
        "\n",
        "        white_borderx = self.width*1/16\n",
        "        white_bordery = self.height*1/16\n",
        "        miniborderx = 1/32*self.small_width\n",
        "        minibordery = 1/32*self.small_height\n",
        "        rectanglex = self.small_width*(32-5)/32 / self.cols\n",
        "        rectangley = self.small_height*(32-5)/32 / self.rows\n",
        "\n",
        "        x_pos =  white_borderx + (col+1) * miniborderx + col * rectanglex\n",
        "        y_pos =  white_bordery + (row+1) * minibordery + row * rectangley\n",
        "\n",
        "        rect_full = self.game.Rect(x_pos, y_pos, rectanglex, rectangley)\n",
        "        rr = self.game.draw.rect(self.screen, self.values2colorsPiece[0], rect_full, border_radius=3)\n",
        "\n",
        "        divisions = 20\n",
        "        ms2wait = 5\n",
        "        for i in range(divisions):\n",
        "            rect_grow = self.game.Rect(x_pos, y_pos, rectanglex*i/divisions, rectangley*i/divisions)\n",
        "            rect_grow.center = rect_full.center\n",
        "\n",
        "            rr = self.game.draw.rect(self.screen, self.values2colorsPiece[value_p], rect_grow, border_radius=3)\n",
        "            self.game.display.update()\n",
        "\n",
        "            self.game.time.wait(ms2wait)\n",
        "\n",
        "\n",
        "    def print_ending(self, text, color_text):\n",
        "        self.print_base_screen()\n",
        "        center_screen_x = self.width / 2\n",
        "        center_screen_y = self.height / 2\n",
        "\n",
        "        self.game.draw.rect(self.screen, self.WHITE,\n",
        "                            (self.width / 4 - 1, self.height * 3 / 8 - 1, self.width / 2 + 2, self.height / 4 + 2))\n",
        "        self.game.draw.rect(self.screen, self.BLACK,\n",
        "                            (self.width / 4, self.height * 3 / 8, self.width / 2, self.height / 4))\n",
        "\n",
        "        text_o = self.textOutline(self.font_text, text, color_text, self.WHITE)\n",
        "\n",
        "        textRect = text_o.get_rect()\n",
        "        textRect.center = (self.width / 2, self.height / 2)\n",
        "        self.screen.blit(text_o, textRect)\n",
        "        self.game.display.update()\n",
        "\n",
        "    def print_win(self):\n",
        "        text = 'YOU WIN !!'\n",
        "        self.print_ending(text, self.GREEN)\n",
        "\n",
        "    def print_loss(self):\n",
        "        text = 'YOU LOSE ...'\n",
        "        self.print_ending(text, self.BLUE)\n",
        "\n",
        "    def textOutline(self, font, message, fontcolor, outlinecolor):\n",
        "        base = font.render(message, 0, fontcolor)\n",
        "        outline = self.textHollow(font, message, outlinecolor)\n",
        "        img = self.game.Surface(outline.get_size(), 16)\n",
        "        img.blit(base, (1, 1))\n",
        "        img.blit(outline, (0, 0))\n",
        "        img.set_colorkey(0)\n",
        "        return img\n",
        "\n",
        "    def textHollow(self, font, message, fontcolor):\n",
        "        notcolor = [c ^ 0xFF for c in fontcolor]\n",
        "        base = font.render(message, 0, fontcolor, notcolor)\n",
        "        size = base.get_width() + 2, base.get_height() + 2\n",
        "        img = self.game.Surface(size, 16)\n",
        "        img.fill(notcolor)\n",
        "        base.set_colorkey(0)\n",
        "        img.blit(base, (0, 0))\n",
        "        img.blit(base, (2, 0))\n",
        "        img.blit(base, (0, 2))\n",
        "        img.blit(base, (2, 2))\n",
        "        base.set_colorkey(0)\n",
        "        base.set_palette_at(1, notcolor)\n",
        "        img.blit(base, (1, 1))\n",
        "        img.set_colorkey(notcolor)\n",
        "        return img\n"
      ],
      "execution_count": null,
      "outputs": []
    },
    {
      "cell_type": "markdown",
      "metadata": {
        "id": "5o02lrHJ-MoJ"
      },
      "source": [
        "## GameController"
      ]
    },
    {
      "cell_type": "code",
      "metadata": {
        "id": "OnsSFVmq-KGK"
      },
      "source": [
        "\n",
        "\n",
        "class GameController:\n",
        "\tdef __init__(self, rows, cols):\n",
        "\t\tpygame.init()\n",
        "\n",
        "\t\tself.rows = rows\n",
        "\t\tself.columns = cols\n",
        "\t\tself.area = (600, 600)\n",
        "\n",
        "\t\tself.screen = pygame.display.set_mode(self.area)\n",
        "\t\tpygame.display.set_caption('2048')\n",
        "\t\tself.clock = pygame.time.Clock()\n",
        "\t\tself.clock.tick(30) # 60 FPS\n",
        "\t\tself.cooldown = 1000 #1s to wait when game ended\n",
        "\n",
        "\t\tself.b_controller = BoardController(self.rows, self.columns)\n",
        "\t\tself.ui = UIBoard(self.b_controller, self.area, pygame, self.screen)\n",
        "\t\tself.player = Player(self.b_controller, pygame, self.ui)\n",
        "\n",
        "\n",
        "\tdef play(self):\n",
        "\t\trunning = True\n",
        "\t\tended = False\n",
        "\n",
        "\t\tself.reestart_game()\n",
        "\n",
        "\t\tmoves = 0\n",
        "\t\tstart = pygame.time.get_ticks()\n",
        "\t\twhile running:\n",
        "\t\t\tif ended:\n",
        "\t\t\t\tmoving = self.player.wait_to_reestart()\n",
        "\t\t\t\tif moving == False:\n",
        "\t\t\t\t\trunning = False\n",
        "\n",
        "\t\t\t\tnow = pygame.time.get_ticks()\n",
        "\t\t\t\tif now - start_wait >= self.cooldown:\n",
        "\t\t\t\t\tended = False\n",
        "\t\t\t\t\tself.reestart_game()\n",
        "\t\t\t\t\tpygame.event.clear()\n",
        "\t\t\t\t\tstart = 0\n",
        "\n",
        "\t\t\telse:\n",
        "\n",
        "\t\t\t\tnow = pygame.time.get_ticks()\n",
        "\t\t\t\ttime_playing = self.ticks2time(now - start)\n",
        "\t\t\t\tself.ui.set_time_moves(time_playing, moves)\n",
        "\t\t\t\tself.ui.print_base_screen()\n",
        "\t\t\t\tmoving = self.player.move()\n",
        "\t\t\t\tif moving == True:\n",
        "\t\t\t\t\tprint('next move')\n",
        "\t\t\t\t\tmoves += 1\n",
        "\t\t\t\t\tself.ui.print_board_values()\n",
        "\t\t\t\t\tr, c = self.b_controller.appear_piece()\n",
        "\t\t\t\t\tself.ui.new_piece(r, c)\n",
        "\t\t\t\t\tif self.b_controller.check_winner():\n",
        "\t\t\t\t\t\tprint('WINNER!')\n",
        "\t\t\t\t\t\tself.ui.print_win()\n",
        "\t\t\t\t\t\tstart_wait = pygame.time.get_ticks()\n",
        "\t\t\t\t\t\tended = True\n",
        "\t\t\t\t\telif self.b_controller.check_nomoves():\n",
        "\t\t\t\t\t\tprint('NO MORE MOVES')\n",
        "\t\t\t\t\t\tself.ui.print_loss()\n",
        "\t\t\t\t\t\tstart_wait = pygame.time.get_ticks()\n",
        "\t\t\t\t\t\tended = True\n",
        "\n",
        "\t\t\t\telif moving == False:\n",
        "\t\t\t\t\trunning = False\n",
        "\n",
        "\n",
        "\tdef ticks2time(self, ticks):\n",
        "\t\tseconds = int((ticks/1000) % 60)\n",
        "\t\tminutes = int((ticks/(1000*60)) % 60)\n",
        "\t\thours = int((ticks/(1000*60*60)) % 24)\n",
        "\n",
        "\t\tif hours > 0:\n",
        "\t\t\treturn \"{}:{}:{:02d}\".format(hours, minutes, seconds)\n",
        "\t\telse:\n",
        "\t\t\treturn \"{}:{:02d}\".format(minutes, seconds)\n",
        "\n",
        "\tdef reestart_game(self):\n",
        "\t\tself.b_controller.reestart_board()\n",
        "\t\tself.ui.print_board_values()\n",
        "\n",
        "\t\tfor _ in range(2):\n",
        "\t\t\tr, c = self.b_controller.appear_piece()\n",
        "\t\t\tself.ui.new_piece(r, c)\n",
        "\n",
        "\t\tinitial_board = np.array([  [1024,1024,512,4],\n",
        "\t\t\t\t\t\t\t\t\t[4,0,2,4],\n",
        "\t\t\t\t\t\t\t\t\t[2,4,2,4],\n",
        "\t\t\t\t\t\t\t\t\t[4,2,4,2]])\n",
        "\t\tself.b_controller.set_board(initial_board)\n",
        "\t\tself.ui.print_board_values()\n"
      ],
      "execution_count": null,
      "outputs": []
    },
    {
      "cell_type": "markdown",
      "metadata": {
        "id": "J8EL1fUm-T-T"
      },
      "source": [
        "# CustomEnv"
      ]
    },
    {
      "cell_type": "code",
      "metadata": {
        "id": "8Z8oAbH6-VkW"
      },
      "source": [
        "class Game2048Env(gym.Env):\n",
        "\t\"\"\"\n",
        "\tCustom Environment to play 2048.\n",
        "\t\"\"\"\n",
        "\tmetadata = {'render.modes': ['human', 'terminal']}\n",
        "\t# Define constants for clearer code\n",
        "\tLEFT = 0\n",
        "\tRIGHT = 1\n",
        "\tUP = 2\n",
        "\tDOWN = 3\n",
        "\n",
        "\tdef __init__(self, rows, cols, reward, showing=False):\n",
        "\t\tsuper(Game2048Env, self).__init__()\n",
        "\t\tpygame.init()\n",
        "\n",
        "\t\tself.rows = rows\n",
        "\t\tself.cols = cols\n",
        "\t\t# Size of the 1Dgame grid\n",
        "\t\tself.grid_size = rows*cols\n",
        "\t\tself.moves = 0\n",
        "\t\tself.time = '0:00'\n",
        "\n",
        "\t\tself.b_controller = BoardController(self.rows, self.cols)\n",
        "\n",
        "\t\t# PRINTING PARAMETERS ------------------------------------------------------\n",
        "\t\tself.area = (600, 600)\n",
        "\n",
        "\t\tself.clock = pygame.time.Clock()\n",
        "\t\tself.clock.tick(30) # 30 FPS\n",
        "\n",
        "\t\tif showing:\n",
        "\t\t\tself.screen = pygame.display.set_mode(self.area)\n",
        "\t\t\tpygame.display.set_caption('2048')\n",
        "\n",
        "\t\t\tself.ui = UIBoard(self.b_controller, self.area, pygame, self.screen)\n",
        "\t\t\tself.ui.set_time_moves(self.time, self.moves)\n",
        "\t\telse:\n",
        "\t\t\tself.ui = []\n",
        "\t\t# --------------------------------------------------------------------------\n",
        "\n",
        "\t\t# Define action and observation space\n",
        "\t\tn_actions = 4\n",
        "\t\tself.action_space = spaces.Discrete(n_actions)\n",
        "\t\t# The observation will be the coordinate of the agent\n",
        "\t\t# this can be described both by Discrete and Box space\n",
        "\t\tself.observation_space = spaces.Box(low=0, high=2048,\n",
        "\t\t\t\t\t\t\t\t\t\t\tshape=(self.rows*self.cols, ), dtype=np.float32)\n",
        "\n",
        "\t\tself.viewer = None\n",
        "\t\tself.list_moves = []\n",
        "\t\tself.list_states = []\n",
        "\t\tself.type_reward = reward\n",
        "\t\tself.video = []\n",
        "\n",
        "\tdef reset(self):\n",
        "\t\t\"\"\"\n",
        "\t\tImportant: the observation must be a numpy array\n",
        "\t\t:return: (np.array)\n",
        "\t\t\"\"\"\n",
        "\t\tself.b_controller.reestart_board()\n",
        "\n",
        "\t\tself.list_moves = []\n",
        "\t\tself.list_states = []\n",
        "\n",
        "\t\tself.moves = 0\n",
        "\t\tself.time = '0:00'\n",
        "\t\t# self.ui.set_time_moves(self.time, self.moves)\n",
        "\t\tself.start = pygame.time.get_ticks()\n",
        "\t\t# self.ui.print_base_screen()\n",
        "\n",
        "\t\tfor _ in range(2):\n",
        "\t\t\tr, c = self.b_controller.appear_piece()\n",
        "\t\t\t# self.ui.new_piece(r, c)\n",
        "\n",
        "\t\tobs = np.array(self.b_controller.get_board_values())\n",
        "\t\tflat_obs = obs.flatten(order='C')\n",
        "\t\treturn flat_obs\n",
        "\n",
        "\tdef step(self, action):\n",
        "\t\tMAX_MOVES = 1000\n",
        "\t\tif action == self.LEFT:\n",
        "\t\t\t\tmovements, merged = self.b_controller.move_left()\n",
        "\t\t\t\tself.list_moves.append('left')\n",
        "\t\telif action == self.RIGHT:\n",
        "\t\t\t\tmovements, merged = self.b_controller.move_right()\n",
        "\t\t\t\tself.list_moves.append('right')\n",
        "\t\telif action == self.UP:\n",
        "\t\t\t\tmovements, merged = self.b_controller.move_up()\n",
        "\t\t\t\tself.list_moves.append('up')\n",
        "\t\telif action == self.DOWN:\n",
        "\t\t\t\tmovements, merged = self.b_controller.move_down()\n",
        "\t\t\t\tself.list_moves.append('down')\n",
        "\t\telse:\n",
        "\t\t\traise ValueError(\"Received invalid action={} which is not part of the action space\".format(action))\n",
        "\n",
        "\t\tself.list_states.append(self.b_controller.get_board_values())\n",
        "\n",
        "\t\tnow = pygame.time.get_ticks()\n",
        "\t\tself.time = self.ticks2time(now - self.start)\n",
        "\t\t# self.ui.set_time_moves(time_playing, self.moves)\n",
        "\n",
        "\t\tif movements != 0:\n",
        "\t\t\t# self.ui.print_base_screen()\n",
        "\t\t\tr, c = self.b_controller.appear_piece()\n",
        "\t\t\t# self.ui.new_piece(r, c)\n",
        "\n",
        "\t\tself.moves += 1\n",
        "\n",
        "\t\t# Optionally we can pass additional info, we are not using that for now\n",
        "\t\tinfo = {'finished':False, 'max_v':0, 'list_moves':self.list_moves, 'list_states':self.list_states, 'stopped':'idk', 'step':self.moves}\n",
        "\n",
        "\t\tif self.type_reward == 1:\n",
        "\t\t\t# REWARD: sum of values in screen - 1 per each move\n",
        "\t\t\t# if finished the score multiplied by 2, to try to reduce moves\n",
        "\t\t\treward = self.b_controller.get_score() - 1*self.moves\n",
        "\t\t\tif self.b_controller.check_winner():\n",
        "\t\t\t\treward *= 2\n",
        "\n",
        "\t\telif self.type_reward == 2:\n",
        "\t\t\t# REWARD: sum of the maximum value on screen plus 1/10 of the sum of all the values\n",
        "\t\t\t# if the move is invalid a negative reward, if finished 5k of reward\n",
        "\t\t\treward = 0.1*self.b_controller.get_score() + self.b_controller.get_max_value()\n",
        "\t\t\tif movements == 0:\n",
        "\t\t\t\treward = -100\n",
        "\t\t\tif self.b_controller.check_winner():\n",
        "\t\t\t\treward = 5000\n",
        "\t\t\t# print('r1', self.b_controller.get_board_values())\n",
        "\t\t\t# print('r2', self.b_controller.get_score(), self.b_controller.get_max_value(), reward)\n",
        "\n",
        "\t\telif self.type_reward == 3:\n",
        "\t\t\t# REWARD: the value of the new merged values\n",
        "\t\t\treward = merged\n",
        "\n",
        "\t\telif self.type_reward == 4:\n",
        "\t\t\t# REWARD: the value of the new merged values, penalizing if invalid move\n",
        "\t\t\treward = merged\n",
        "\t\t\tif movements == 0:\n",
        "\t\t\t\treward = -100\n",
        "\t\t\telse:\n",
        "\t\t\t\treward += 1\n",
        "\n",
        "\t\telif self.type_reward == 5:\n",
        "\t\t\t# REWARD: the value of the new merged values plus extra if the max is in the left upper corner\n",
        "\t\t\treward = merged\n",
        "\t\t\tmaxx, maxy = self.b_controller.get_max_value_position()\n",
        "\t\t\tif maxx == 0 and maxy == 0:\n",
        "\t\t\t\treward += self.b_controller.get_max_value()\n",
        "\n",
        "\t\t\tif movements == 0:\n",
        "\t\t\t\treward = -100\n",
        "\n",
        "\t\telif self.type_reward == 6:\n",
        "\t\t\t# REWARD: the value of the new merged values plus extra if the max is in the left upper corner\n",
        "\t\t\t# plus 3/4 max value if max values together\n",
        "\t\t\treward = merged\n",
        "\t\t\tmaxx, maxy = self.b_controller.get_max_value_position()\n",
        "\t\t\tmax_v = self.b_controller.get_max_value()\n",
        "\t\t\tif maxx == 0 and maxy == 0:\n",
        "\t\t\t\treward += max_v\n",
        "\n",
        "\t\t\ttogether = False\n",
        "\t\t\tif maxx > 0:\n",
        "\t\t\t\tif maxy > 0:\n",
        "\t\t\t\t\tif self.b_controller.get_score_position(maxx-1, maxy-1) == max_v:\n",
        "\t\t\t\t\t\ttogether = True\n",
        "\t\t\t\telif maxy < self.rows-1:\n",
        "\t\t\t\t\tif self.b_controller.get_score_position(maxx-1, maxy+1) == max_v:\n",
        "\t\t\t\t\t\ttogether = True\n",
        "\t\t\telif maxx < self.cols-1:\n",
        "\t\t\t\tif maxy > 0:\n",
        "\t\t\t\t\tif self.b_controller.get_score_position(maxx+1, maxy-1) == max_v:\n",
        "\t\t\t\t\t\ttogether = True\n",
        "\t\t\t\telif maxy < self.rows-1:\n",
        "\t\t\t\t\tif self.b_controller.get_score_position(maxx-1, maxy+1) == max_v:\n",
        "\t\t\t\t\t\ttogether = True\n",
        "\t\t\tif together:\n",
        "\t\t\t\treward += int(max_v*3/4)\n",
        "\n",
        "\t\t\tif movements == 0:\n",
        "\t\t\t\treward = -100\n",
        "\n",
        "\t\tdone = False\n",
        "\t\t# print(self.moves, self.b_controller.check_winner(), self.b_controller.check_nomoves())\n",
        "\t\tif self.b_controller.check_winner():\n",
        "\t\t\tinfo['finished'] = True\n",
        "\t\t\tinfo['stopped'] = 'Winner'\n",
        "\t\t\tdone = True\n",
        "\t\tif self.b_controller.check_nomoves():\n",
        "\t\t\tinfo['stopped'] = 'No moves'\n",
        "\t\t\tdone = True\n",
        "\t\tif self.moves >= MAX_MOVES:\n",
        "\t\t\tinfo['stopped'] = 'Max moves'\n",
        "\t\t\tdone = True\n",
        "\t\t# if movements == 0:\n",
        "\t\t# \tinfo['stopped'] = 'Ilegal move'\n",
        "\t\t# \tdone = True\n",
        "\n",
        "\t\tif done == True:\n",
        "\t\t\tinfo['max_v'] = self.b_controller.get_max_value()\n",
        "\n",
        "\t\tobs = np.array(self.b_controller.get_board_values())\n",
        "\t\tflat_obs = obs.flatten(order='C')\n",
        "\t\treturn flat_obs, reward, done, info\n",
        "\n",
        "\tdef get_video(self):\n",
        "\t\treturn self.video\n",
        "\n",
        "\tdef get_state(self):\n",
        "\t\tstate = np.fliplr(np.flip(np.rot90(pygame.surfarray.array3d(\n",
        "\t\t\tpygame.display.get_surface()).astype(np.uint8))))\n",
        "\t\treturn state\n",
        "\n",
        "\tdef set_specific_table(self, table):\n",
        "\t\tself.b_controller.set_board(table)\n",
        "\n",
        "\n",
        "\tdef render(self, mode='None', specific_table = False):\n",
        "\n",
        "\t\tif mode == 'human':\n",
        "\t\t\tself.ui.set_time_moves(self.time, self.moves)\n",
        "\t\t\tself.ui.print_base_screen()\n",
        "\t\t\tpygame.time.wait(400)\n",
        "\n",
        "\t\telif mode == 'colab':\n",
        "\t\t\tself.ui.set_time_moves(self.time, self.moves)\n",
        "\t\t\tself.ui.print_base_screen()\n",
        "\t\t\t#convert image so it can be displayed in OpenCV\n",
        "\t\t\tview = pygame.surfarray.array3d(self.screen)\n",
        "\t\t\t#  convert from (width, height, channel) to (height, width, channel)\n",
        "\t\t\tview = view.transpose([1, 0, 2])\n",
        "\t\t\t#  convert from rgb to bgr\n",
        "\t\t\timg_bgr = cv2.cvtColor(view, cv2.COLOR_RGB2BGR)\n",
        "\t\t\t#Display image, clear cell every 0.5 seconds\n",
        "\t\t\tcv2_imshow(img_bgr)\n",
        "\t\t\tpygame.time.wait(400)\n",
        "\t\t\toutput.clear()\n",
        "\n",
        "\t\telif mode == 'video':\n",
        "\t\t\tself.ui.set_time_moves(self.time, self.moves)\n",
        "\t\t\tself.ui.print_base_screen()\n",
        "\t\t\t#convert image so it can be displayed in OpenCV\n",
        "\t\t\tview = pygame.surfarray.array3d(self.screen)\n",
        "\t\t\t#  convert from (width, height, channel) to (height, width, channel)\n",
        "\t\t\tview = view.transpose([1, 0, 2])\n",
        "\t\t\t#  convert from rgb to bgr\n",
        "\t\t\timg_bgr = cv2.cvtColor(view, cv2.COLOR_RGB2BGR)\n",
        "\t\t\t#Display image, clear cell every 0.5 seconds\n",
        "\t\t\tself.video.append(img_bgr)\n",
        "\t\t\t# cv2_imshow(img_bgr)\n",
        "\t\t\t# pygame.time.wait(100)\n",
        "\t\t\t# output.clear()\n",
        "\n",
        "\t\telif mode == 'terminal':\n",
        "\t\t\tb_values = self.b_controller.get_board_values()\n",
        "\t\t\tprint(np.matrix(b_values))\n",
        "\n",
        "\t\telif mode == 'None':\n",
        "\t\t\tpass\n",
        "\n",
        "\t\telse:\n",
        "\t\t\traise NotImplementedError()\n",
        "\n",
        "\tdef close(self):\n",
        "\t\tpass\n",
        "\n",
        "\tdef print(self):\n",
        "\t\tself.ui.print_base_screen()\n",
        "\t\tpygame.time.wait(100)\n",
        "\n",
        "\tdef ticks2time(self, ticks):\n",
        "\t\tseconds = int((ticks/1000) % 60)\n",
        "\t\tminutes = int((ticks/(1000*60)) % 60)\n",
        "\t\thours = int((ticks/(1000*60*60)) % 24)\n",
        "\n",
        "\t\tif hours > 0:\n",
        "\t\t\treturn \"{}:{}:{:02d}\".format(hours, minutes, seconds)\n",
        "\t\telse:\n",
        "\t\t\treturn \"{}:{:02d}\".format(minutes, seconds)\n"
      ],
      "execution_count": null,
      "outputs": []
    },
    {
      "cell_type": "markdown",
      "metadata": {
        "id": "pBRkiWNe2maH"
      },
      "source": [
        "#Evaluate"
      ]
    },
    {
      "cell_type": "code",
      "metadata": {
        "id": "h3JqREfc0bZP"
      },
      "source": [
        "def evaluation(model, env, num_episodes=100):\n",
        "    best_case = {}\n",
        "    env = model.get_env()\n",
        "    all_episode_rewards = []\n",
        "    max_value = 0\n",
        "    for i in tqdm(range(num_episodes)):\n",
        "        episode_rewards = []\n",
        "        done = False\n",
        "        obs = env.reset()\n",
        "        while not done:\n",
        "            action, _states = model.predict(obs)\n",
        "            obs, reward, done, info = env.step(action)\n",
        "            episode_rewards.append(reward)\n",
        "            # print('Step {}: {} -> {}'.format(info['step'], info['stopped'], done))\n",
        "\n",
        "        if type(info) == list:\n",
        "            if info[0]['max_v']>max_value:\n",
        "              max_value = info[0]['max_v']\n",
        "              best_case = info[0]\n",
        "        elif type(info) == dict:\n",
        "            if info['max_v']>max_value:\n",
        "              max_value = info['max_v']\n",
        "              best_case = info\n",
        "        else:\n",
        "          print('other')\n",
        "          \n",
        "\n",
        "        all_episode_rewards.append(sum(episode_rewards))\n",
        "\n",
        "    mean_episode_reward = np.mean(all_episode_rewards)\n",
        "    # print(\"\\nMean reward:\", mean_episode_reward, \"Num episodes:\", num_episodes, \"Max value\", max_value)\n",
        "\n",
        "    return mean_episode_reward, max_value, best_case"
      ],
      "execution_count": null,
      "outputs": []
    },
    {
      "cell_type": "markdown",
      "metadata": {
        "id": "2-Q8PWX4IxQY"
      },
      "source": [
        "#Save/Load/Download Models"
      ]
    },
    {
      "cell_type": "code",
      "metadata": {
        "id": "naRwNV-OI8ox"
      },
      "source": [
        "def save_model(model, savedir, savename):\n",
        "  os.makedirs(savedir, exist_ok=True)\n",
        "  model.save(savedir + \"/\" + savename)\n",
        "  print('Model saved!')"
      ],
      "execution_count": null,
      "outputs": []
    },
    {
      "cell_type": "code",
      "metadata": {
        "id": "r1f51rmbI9E7"
      },
      "source": [
        "def load_model(savedir, savename, type_m='PPO2'):\n",
        "  if type_m == 'PPO2':\n",
        "    loaded_model = PPO2.load(savedir + \"/\" + savename)\n",
        "  elif type_m == 'DQN':\n",
        "    loaded_model = DQN.load(savedir + \"/\" + savename)\n",
        "  else:\n",
        "    print('bad model type')\n",
        "\n",
        "  print('Model loaded!')\n",
        "  return loaded_model"
      ],
      "execution_count": null,
      "outputs": []
    },
    {
      "cell_type": "code",
      "metadata": {
        "id": "jD-7ePtwI-s5"
      },
      "source": [
        "def download_model(savedir, savename):\n",
        "  files.download(savedir+\"/\"+savename+\".zip\")\n",
        "  print('Model downloaded!')"
      ],
      "execution_count": null,
      "outputs": []
    },
    {
      "cell_type": "markdown",
      "metadata": {
        "id": "Y_YWvdsz2HJS"
      },
      "source": [
        "# PPO2"
      ]
    },
    {
      "cell_type": "code",
      "metadata": {
        "id": "dIYoazQoKcfb"
      },
      "source": [
        "save_dir_ppo = \"/content/models_saved/\"\n",
        "save_name_ppo = 'best_model2048_ppo2'"
      ],
      "execution_count": null,
      "outputs": []
    },
    {
      "cell_type": "code",
      "metadata": {
        "id": "yNMBk0Wd3ZJj",
        "colab": {
          "base_uri": "https://localhost:8080/"
        },
        "outputId": "4bec5226-8f3e-40b1-a92e-9285c987ed44"
      },
      "source": [
        "# Training + Evaluation every X steps\n",
        "train_steps = 10000\n",
        "train_epochs = 100\n",
        "eval_epochs = 300\n",
        "print('Training for {} million steps ({} steps * {} epochs)'.format((train_steps*train_epochs)/(1e6), train_steps, train_epochs))\n",
        "\n",
        "rewardvalue = 6\n",
        "env = Game2048Env(4, 4, rewardvalue)\n",
        "\n",
        "ppo_model = PPO2(MlpPolicy, env, gamma=0.95, verbose=0, seed=42 )\n",
        "\n",
        "mean_score_evaluations = []\n",
        "max_values_evaluations = []\n",
        "best_mean_results = -9e20\n",
        "\n",
        "print('Epoch {} -----'.format(0))\n",
        "mean0, best0, _ = evaluation(ppo_model, env, num_episodes=eval_epochs)\n",
        "mean_score_evaluations.append(mean0)\n",
        "max_values_evaluations.append(best0)\n",
        "print('Mean score = {:.2f}, Max value = {}\\n'.format(mean0, best0))\n",
        "if mean0 > best_mean_results:\n",
        "  save_model(ppo_model, save_dir_ppo, save_name_ppo)\n",
        "  best_mean_results = mean0\n"
      ],
      "execution_count": null,
      "outputs": [
        {
          "output_type": "stream",
          "name": "stdout",
          "text": [
            "Training for 1.0 million steps (10000 steps * 100 epochs)\n",
            "WARNING:tensorflow:From /usr/local/lib/python3.7/dist-packages/stable_baselines/common/misc_util.py:26: The name tf.set_random_seed is deprecated. Please use tf.compat.v1.set_random_seed instead.\n",
            "\n",
            "WARNING:tensorflow:From /usr/local/lib/python3.7/dist-packages/stable_baselines/common/tf_util.py:191: The name tf.ConfigProto is deprecated. Please use tf.compat.v1.ConfigProto instead.\n",
            "\n",
            "WARNING:tensorflow:From /usr/local/lib/python3.7/dist-packages/stable_baselines/common/tf_util.py:200: The name tf.Session is deprecated. Please use tf.compat.v1.Session instead.\n",
            "\n",
            "WARNING:tensorflow:From /usr/local/lib/python3.7/dist-packages/stable_baselines/common/policies.py:116: The name tf.variable_scope is deprecated. Please use tf.compat.v1.variable_scope instead.\n",
            "\n",
            "WARNING:tensorflow:From /usr/local/lib/python3.7/dist-packages/stable_baselines/common/input.py:25: The name tf.placeholder is deprecated. Please use tf.compat.v1.placeholder instead.\n",
            "\n",
            "WARNING:tensorflow:From /usr/local/lib/python3.7/dist-packages/stable_baselines/common/policies.py:561: flatten (from tensorflow.python.layers.core) is deprecated and will be removed in a future version.\n",
            "Instructions for updating:\n",
            "Use keras.layers.flatten instead.\n",
            "WARNING:tensorflow:From /tensorflow-1.15.2/python3.7/tensorflow_core/python/layers/core.py:332: Layer.apply (from tensorflow.python.keras.engine.base_layer) is deprecated and will be removed in a future version.\n",
            "Instructions for updating:\n",
            "Please use `layer.__call__` method instead.\n",
            "WARNING:tensorflow:From /usr/local/lib/python3.7/dist-packages/stable_baselines/common/tf_layers.py:123: The name tf.get_variable is deprecated. Please use tf.compat.v1.get_variable instead.\n",
            "\n",
            "WARNING:tensorflow:From /usr/local/lib/python3.7/dist-packages/stable_baselines/common/distributions.py:326: The name tf.random_uniform is deprecated. Please use tf.random.uniform instead.\n",
            "\n",
            "WARNING:tensorflow:From /usr/local/lib/python3.7/dist-packages/stable_baselines/common/distributions.py:327: The name tf.log is deprecated. Please use tf.math.log instead.\n",
            "\n",
            "WARNING:tensorflow:From /usr/local/lib/python3.7/dist-packages/stable_baselines/ppo2/ppo2.py:190: The name tf.summary.scalar is deprecated. Please use tf.compat.v1.summary.scalar instead.\n",
            "\n",
            "WARNING:tensorflow:From /usr/local/lib/python3.7/dist-packages/stable_baselines/ppo2/ppo2.py:198: The name tf.trainable_variables is deprecated. Please use tf.compat.v1.trainable_variables instead.\n",
            "\n",
            "WARNING:tensorflow:From /tensorflow-1.15.2/python3.7/tensorflow_core/python/ops/math_grad.py:1424: where (from tensorflow.python.ops.array_ops) is deprecated and will be removed in a future version.\n",
            "Instructions for updating:\n",
            "Use tf.where in 2.0, which has the same broadcast rule as np.where\n",
            "WARNING:tensorflow:From /usr/local/lib/python3.7/dist-packages/stable_baselines/ppo2/ppo2.py:206: The name tf.train.AdamOptimizer is deprecated. Please use tf.compat.v1.train.AdamOptimizer instead.\n",
            "\n",
            "WARNING:tensorflow:From /usr/local/lib/python3.7/dist-packages/stable_baselines/ppo2/ppo2.py:240: The name tf.global_variables_initializer is deprecated. Please use tf.compat.v1.global_variables_initializer instead.\n",
            "\n",
            "WARNING:tensorflow:From /usr/local/lib/python3.7/dist-packages/stable_baselines/ppo2/ppo2.py:242: The name tf.summary.merge_all is deprecated. Please use tf.compat.v1.summary.merge_all instead.\n",
            "\n",
            "Epoch 0 -----\n"
          ]
        },
        {
          "output_type": "stream",
          "name": "stderr",
          "text": [
            "100%|██████████| 300/300 [00:31<00:00,  9.52it/s]"
          ]
        },
        {
          "output_type": "stream",
          "name": "stdout",
          "text": [
            "Mean score = -448.14, Max value = 256\n",
            "\n",
            "Model saved!\n"
          ]
        },
        {
          "output_type": "stream",
          "name": "stderr",
          "text": [
            "\n"
          ]
        }
      ]
    },
    {
      "cell_type": "code",
      "metadata": {
        "id": "7X14d87M2JFV",
        "colab": {
          "base_uri": "https://localhost:8080/"
        },
        "outputId": "52966212-2274-4750-d0c7-8320ab87a59f"
      },
      "source": [
        "for i in range(1, train_epochs+1):\n",
        "  print('Training epoch {} -----'.format(i))\n",
        "  ppo_model.learn(total_timesteps=train_steps)\n",
        "  print('Evaluation epoch {} -----'.format(i))\n",
        "  mean, best, _ = evaluation(ppo_model, env, num_episodes=eval_epochs)\n",
        "  mean_score_evaluations.append(mean)\n",
        "  max_values_evaluations.append(best)\n",
        "  print('Mean score = {:.2f}, Max value = {}'.format(mean, best))\n",
        "  if mean > best_mean_results:\n",
        "    save_model(ppo_model, save_dir_ppo, save_name_ppo)\n",
        "    best_mean_results = mean\n",
        "  print()\n"
      ],
      "execution_count": null,
      "outputs": [
        {
          "output_type": "stream",
          "name": "stdout",
          "text": [
            "Training epoch 1 -----\n",
            "Evaluation epoch 1 -----\n"
          ]
        },
        {
          "output_type": "stream",
          "name": "stderr",
          "text": [
            "100%|██████████| 300/300 [00:32<00:00,  9.19it/s]\n"
          ]
        },
        {
          "output_type": "stream",
          "name": "stdout",
          "text": [
            "Mean score = -2.08, Max value = 512\n",
            "Model saved!\n",
            "\n",
            "Training epoch 2 -----\n",
            "Evaluation epoch 2 -----\n"
          ]
        },
        {
          "output_type": "stream",
          "name": "stderr",
          "text": [
            "100%|██████████| 300/300 [00:32<00:00,  9.29it/s]\n"
          ]
        },
        {
          "output_type": "stream",
          "name": "stdout",
          "text": [
            "Mean score = -67.75, Max value = 256\n",
            "\n",
            "Training epoch 3 -----\n",
            "Evaluation epoch 3 -----\n"
          ]
        },
        {
          "output_type": "stream",
          "name": "stderr",
          "text": [
            "100%|██████████| 300/300 [00:31<00:00,  9.61it/s]\n"
          ]
        },
        {
          "output_type": "stream",
          "name": "stdout",
          "text": [
            "Mean score = -28.19, Max value = 256\n",
            "\n",
            "Training epoch 4 -----\n",
            "Evaluation epoch 4 -----\n"
          ]
        },
        {
          "output_type": "stream",
          "name": "stderr",
          "text": [
            "100%|██████████| 300/300 [00:30<00:00,  9.78it/s]\n"
          ]
        },
        {
          "output_type": "stream",
          "name": "stdout",
          "text": [
            "Mean score = 83.14, Max value = 256\n",
            "Model saved!\n",
            "\n",
            "Training epoch 5 -----\n",
            "Evaluation epoch 5 -----\n"
          ]
        },
        {
          "output_type": "stream",
          "name": "stderr",
          "text": [
            "100%|██████████| 300/300 [00:30<00:00,  9.69it/s]\n"
          ]
        },
        {
          "output_type": "stream",
          "name": "stdout",
          "text": [
            "Mean score = 137.64, Max value = 256\n",
            "Model saved!\n",
            "\n",
            "Training epoch 6 -----\n",
            "Evaluation epoch 6 -----\n"
          ]
        },
        {
          "output_type": "stream",
          "name": "stderr",
          "text": [
            "100%|██████████| 300/300 [00:29<00:00, 10.09it/s]\n"
          ]
        },
        {
          "output_type": "stream",
          "name": "stdout",
          "text": [
            "Mean score = 31.04, Max value = 256\n",
            "\n",
            "Training epoch 7 -----\n",
            "Evaluation epoch 7 -----\n"
          ]
        },
        {
          "output_type": "stream",
          "name": "stderr",
          "text": [
            "100%|██████████| 300/300 [00:31<00:00,  9.48it/s]\n"
          ]
        },
        {
          "output_type": "stream",
          "name": "stdout",
          "text": [
            "Mean score = 132.83, Max value = 256\n",
            "\n",
            "Training epoch 8 -----\n",
            "Evaluation epoch 8 -----\n"
          ]
        },
        {
          "output_type": "stream",
          "name": "stderr",
          "text": [
            "100%|██████████| 300/300 [00:30<00:00,  9.97it/s]\n"
          ]
        },
        {
          "output_type": "stream",
          "name": "stdout",
          "text": [
            "Mean score = 42.93, Max value = 256\n",
            "\n",
            "Training epoch 9 -----\n",
            "Evaluation epoch 9 -----\n"
          ]
        },
        {
          "output_type": "stream",
          "name": "stderr",
          "text": [
            "100%|██████████| 300/300 [00:32<00:00,  9.36it/s]\n"
          ]
        },
        {
          "output_type": "stream",
          "name": "stdout",
          "text": [
            "Mean score = 161.20, Max value = 256\n",
            "Model saved!\n",
            "\n",
            "Training epoch 10 -----\n",
            "Evaluation epoch 10 -----\n"
          ]
        },
        {
          "output_type": "stream",
          "name": "stderr",
          "text": [
            "100%|██████████| 300/300 [00:30<00:00,  9.78it/s]\n"
          ]
        },
        {
          "output_type": "stream",
          "name": "stdout",
          "text": [
            "Mean score = 208.11, Max value = 256\n",
            "Model saved!\n",
            "\n",
            "Training epoch 11 -----\n",
            "Evaluation epoch 11 -----\n"
          ]
        },
        {
          "output_type": "stream",
          "name": "stderr",
          "text": [
            "100%|██████████| 300/300 [00:30<00:00,  9.92it/s]\n"
          ]
        },
        {
          "output_type": "stream",
          "name": "stdout",
          "text": [
            "Mean score = 272.86, Max value = 256\n",
            "Model saved!\n",
            "\n",
            "Training epoch 12 -----\n",
            "Evaluation epoch 12 -----\n"
          ]
        },
        {
          "output_type": "stream",
          "name": "stderr",
          "text": [
            "100%|██████████| 300/300 [00:29<00:00, 10.01it/s]\n"
          ]
        },
        {
          "output_type": "stream",
          "name": "stdout",
          "text": [
            "Mean score = 242.82, Max value = 256\n",
            "\n",
            "Training epoch 13 -----\n",
            "Evaluation epoch 13 -----\n"
          ]
        },
        {
          "output_type": "stream",
          "name": "stderr",
          "text": [
            "100%|██████████| 300/300 [00:30<00:00,  9.82it/s]\n"
          ]
        },
        {
          "output_type": "stream",
          "name": "stdout",
          "text": [
            "Mean score = 525.21, Max value = 256\n",
            "Model saved!\n",
            "\n",
            "Training epoch 14 -----\n",
            "Evaluation epoch 14 -----\n"
          ]
        },
        {
          "output_type": "stream",
          "name": "stderr",
          "text": [
            "100%|██████████| 300/300 [00:31<00:00,  9.66it/s]\n"
          ]
        },
        {
          "output_type": "stream",
          "name": "stdout",
          "text": [
            "Mean score = 694.83, Max value = 256\n",
            "Model saved!\n",
            "\n",
            "Training epoch 15 -----\n",
            "Evaluation epoch 15 -----\n"
          ]
        },
        {
          "output_type": "stream",
          "name": "stderr",
          "text": [
            "100%|██████████| 300/300 [00:30<00:00,  9.94it/s]\n"
          ]
        },
        {
          "output_type": "stream",
          "name": "stdout",
          "text": [
            "Mean score = 671.23, Max value = 256\n",
            "\n",
            "Training epoch 16 -----\n",
            "Evaluation epoch 16 -----\n"
          ]
        },
        {
          "output_type": "stream",
          "name": "stderr",
          "text": [
            "100%|██████████| 300/300 [00:29<00:00, 10.13it/s]\n"
          ]
        },
        {
          "output_type": "stream",
          "name": "stdout",
          "text": [
            "Mean score = 423.13, Max value = 256\n",
            "\n",
            "Training epoch 17 -----\n",
            "Evaluation epoch 17 -----\n"
          ]
        },
        {
          "output_type": "stream",
          "name": "stderr",
          "text": [
            "100%|██████████| 300/300 [00:29<00:00, 10.24it/s]\n"
          ]
        },
        {
          "output_type": "stream",
          "name": "stdout",
          "text": [
            "Mean score = 348.29, Max value = 256\n",
            "\n",
            "Training epoch 18 -----\n",
            "Evaluation epoch 18 -----\n"
          ]
        },
        {
          "output_type": "stream",
          "name": "stderr",
          "text": [
            "100%|██████████| 300/300 [00:29<00:00, 10.11it/s]\n"
          ]
        },
        {
          "output_type": "stream",
          "name": "stdout",
          "text": [
            "Mean score = 655.73, Max value = 256\n",
            "\n",
            "Training epoch 19 -----\n",
            "Evaluation epoch 19 -----\n"
          ]
        },
        {
          "output_type": "stream",
          "name": "stderr",
          "text": [
            "100%|██████████| 300/300 [00:30<00:00,  9.98it/s]\n"
          ]
        },
        {
          "output_type": "stream",
          "name": "stdout",
          "text": [
            "Mean score = 800.31, Max value = 256\n",
            "Model saved!\n",
            "\n",
            "Training epoch 20 -----\n",
            "Evaluation epoch 20 -----\n"
          ]
        },
        {
          "output_type": "stream",
          "name": "stderr",
          "text": [
            "100%|██████████| 300/300 [00:31<00:00,  9.63it/s]\n"
          ]
        },
        {
          "output_type": "stream",
          "name": "stdout",
          "text": [
            "Mean score = 989.97, Max value = 256\n",
            "Model saved!\n",
            "\n",
            "Training epoch 21 -----\n",
            "Evaluation epoch 21 -----\n"
          ]
        },
        {
          "output_type": "stream",
          "name": "stderr",
          "text": [
            "100%|██████████| 300/300 [00:29<00:00, 10.03it/s]\n"
          ]
        },
        {
          "output_type": "stream",
          "name": "stdout",
          "text": [
            "Mean score = 1004.94, Max value = 256\n",
            "Model saved!\n",
            "\n",
            "Training epoch 22 -----\n",
            "Evaluation epoch 22 -----\n"
          ]
        },
        {
          "output_type": "stream",
          "name": "stderr",
          "text": [
            "100%|██████████| 300/300 [00:30<00:00,  9.73it/s]\n"
          ]
        },
        {
          "output_type": "stream",
          "name": "stdout",
          "text": [
            "Mean score = 1058.08, Max value = 256\n",
            "Model saved!\n",
            "\n",
            "Training epoch 23 -----\n",
            "Evaluation epoch 23 -----\n"
          ]
        },
        {
          "output_type": "stream",
          "name": "stderr",
          "text": [
            "100%|██████████| 300/300 [00:31<00:00,  9.49it/s]\n"
          ]
        },
        {
          "output_type": "stream",
          "name": "stdout",
          "text": [
            "Mean score = 1208.77, Max value = 256\n",
            "Model saved!\n",
            "\n",
            "Training epoch 24 -----\n",
            "Evaluation epoch 24 -----\n"
          ]
        },
        {
          "output_type": "stream",
          "name": "stderr",
          "text": [
            "100%|██████████| 300/300 [00:29<00:00, 10.05it/s]\n"
          ]
        },
        {
          "output_type": "stream",
          "name": "stdout",
          "text": [
            "Mean score = 719.07, Max value = 256\n",
            "\n",
            "Training epoch 25 -----\n",
            "Evaluation epoch 25 -----\n"
          ]
        },
        {
          "output_type": "stream",
          "name": "stderr",
          "text": [
            "100%|██████████| 300/300 [00:29<00:00, 10.30it/s]\n"
          ]
        },
        {
          "output_type": "stream",
          "name": "stdout",
          "text": [
            "Mean score = 451.59, Max value = 256\n",
            "\n",
            "Training epoch 26 -----\n",
            "Evaluation epoch 26 -----\n"
          ]
        },
        {
          "output_type": "stream",
          "name": "stderr",
          "text": [
            "100%|██████████| 300/300 [00:28<00:00, 10.42it/s]\n"
          ]
        },
        {
          "output_type": "stream",
          "name": "stdout",
          "text": [
            "Mean score = 481.59, Max value = 256\n",
            "\n",
            "Training epoch 27 -----\n",
            "Evaluation epoch 27 -----\n"
          ]
        },
        {
          "output_type": "stream",
          "name": "stderr",
          "text": [
            "100%|██████████| 300/300 [00:29<00:00, 10.24it/s]\n"
          ]
        },
        {
          "output_type": "stream",
          "name": "stdout",
          "text": [
            "Mean score = 504.25, Max value = 256\n",
            "\n",
            "Training epoch 28 -----\n",
            "Evaluation epoch 28 -----\n"
          ]
        },
        {
          "output_type": "stream",
          "name": "stderr",
          "text": [
            "100%|██████████| 300/300 [00:28<00:00, 10.52it/s]\n"
          ]
        },
        {
          "output_type": "stream",
          "name": "stdout",
          "text": [
            "Mean score = 719.79, Max value = 256\n",
            "\n",
            "Training epoch 29 -----\n",
            "Evaluation epoch 29 -----\n"
          ]
        },
        {
          "output_type": "stream",
          "name": "stderr",
          "text": [
            "100%|██████████| 300/300 [00:31<00:00,  9.60it/s]\n"
          ]
        },
        {
          "output_type": "stream",
          "name": "stdout",
          "text": [
            "Mean score = 454.04, Max value = 256\n",
            "\n",
            "Training epoch 30 -----\n",
            "Evaluation epoch 30 -----\n"
          ]
        },
        {
          "output_type": "stream",
          "name": "stderr",
          "text": [
            "100%|██████████| 300/300 [00:28<00:00, 10.42it/s]\n"
          ]
        },
        {
          "output_type": "stream",
          "name": "stdout",
          "text": [
            "Mean score = 547.19, Max value = 256\n",
            "\n",
            "Training epoch 31 -----\n",
            "Evaluation epoch 31 -----\n"
          ]
        },
        {
          "output_type": "stream",
          "name": "stderr",
          "text": [
            "100%|██████████| 300/300 [00:29<00:00, 10.34it/s]\n"
          ]
        },
        {
          "output_type": "stream",
          "name": "stdout",
          "text": [
            "Mean score = 773.06, Max value = 256\n",
            "\n",
            "Training epoch 32 -----\n",
            "Evaluation epoch 32 -----\n"
          ]
        },
        {
          "output_type": "stream",
          "name": "stderr",
          "text": [
            "100%|██████████| 300/300 [00:30<00:00,  9.89it/s]\n"
          ]
        },
        {
          "output_type": "stream",
          "name": "stdout",
          "text": [
            "Mean score = 835.58, Max value = 256\n",
            "\n",
            "Training epoch 33 -----\n",
            "Evaluation epoch 33 -----\n"
          ]
        },
        {
          "output_type": "stream",
          "name": "stderr",
          "text": [
            "100%|██████████| 300/300 [00:31<00:00,  9.60it/s]\n"
          ]
        },
        {
          "output_type": "stream",
          "name": "stdout",
          "text": [
            "Mean score = 1355.11, Max value = 256\n",
            "Model saved!\n",
            "\n",
            "Training epoch 34 -----\n",
            "Evaluation epoch 34 -----\n"
          ]
        },
        {
          "output_type": "stream",
          "name": "stderr",
          "text": [
            "100%|██████████| 300/300 [00:31<00:00,  9.41it/s]\n"
          ]
        },
        {
          "output_type": "stream",
          "name": "stdout",
          "text": [
            "Mean score = 1572.25, Max value = 512\n",
            "Model saved!\n",
            "\n",
            "Training epoch 35 -----\n",
            "Evaluation epoch 35 -----\n"
          ]
        },
        {
          "output_type": "stream",
          "name": "stderr",
          "text": [
            "100%|██████████| 300/300 [00:28<00:00, 10.56it/s]\n"
          ]
        },
        {
          "output_type": "stream",
          "name": "stdout",
          "text": [
            "Mean score = 659.86, Max value = 256\n",
            "\n",
            "Training epoch 36 -----\n",
            "Evaluation epoch 36 -----\n"
          ]
        },
        {
          "output_type": "stream",
          "name": "stderr",
          "text": [
            "100%|██████████| 300/300 [00:30<00:00,  9.86it/s]\n"
          ]
        },
        {
          "output_type": "stream",
          "name": "stdout",
          "text": [
            "Mean score = 929.15, Max value = 256\n",
            "\n",
            "Training epoch 37 -----\n",
            "Evaluation epoch 37 -----\n"
          ]
        },
        {
          "output_type": "stream",
          "name": "stderr",
          "text": [
            "100%|██████████| 300/300 [00:31<00:00,  9.55it/s]\n"
          ]
        },
        {
          "output_type": "stream",
          "name": "stdout",
          "text": [
            "Mean score = 986.62, Max value = 256\n",
            "\n",
            "Training epoch 38 -----\n",
            "Evaluation epoch 38 -----\n"
          ]
        },
        {
          "output_type": "stream",
          "name": "stderr",
          "text": [
            "100%|██████████| 300/300 [00:32<00:00,  9.18it/s]\n"
          ]
        },
        {
          "output_type": "stream",
          "name": "stdout",
          "text": [
            "Mean score = 1524.35, Max value = 256\n",
            "\n",
            "Training epoch 39 -----\n",
            "Evaluation epoch 39 -----\n"
          ]
        },
        {
          "output_type": "stream",
          "name": "stderr",
          "text": [
            "100%|██████████| 300/300 [00:34<00:00,  8.80it/s]\n"
          ]
        },
        {
          "output_type": "stream",
          "name": "stdout",
          "text": [
            "Mean score = 2173.89, Max value = 256\n",
            "Model saved!\n",
            "\n",
            "Training epoch 40 -----\n",
            "Evaluation epoch 40 -----\n"
          ]
        },
        {
          "output_type": "stream",
          "name": "stderr",
          "text": [
            "100%|██████████| 300/300 [00:30<00:00,  9.85it/s]\n"
          ]
        },
        {
          "output_type": "stream",
          "name": "stdout",
          "text": [
            "Mean score = 603.34, Max value = 256\n",
            "\n",
            "Training epoch 41 -----\n",
            "Evaluation epoch 41 -----\n"
          ]
        },
        {
          "output_type": "stream",
          "name": "stderr",
          "text": [
            "100%|██████████| 300/300 [00:32<00:00,  9.32it/s]\n"
          ]
        },
        {
          "output_type": "stream",
          "name": "stdout",
          "text": [
            "Mean score = 1981.32, Max value = 256\n",
            "\n",
            "Training epoch 42 -----\n",
            "Evaluation epoch 42 -----\n"
          ]
        },
        {
          "output_type": "stream",
          "name": "stderr",
          "text": [
            "100%|██████████| 300/300 [00:30<00:00,  9.88it/s]\n"
          ]
        },
        {
          "output_type": "stream",
          "name": "stdout",
          "text": [
            "Mean score = 1756.48, Max value = 256\n",
            "\n",
            "Training epoch 43 -----\n",
            "Evaluation epoch 43 -----\n"
          ]
        },
        {
          "output_type": "stream",
          "name": "stderr",
          "text": [
            "100%|██████████| 300/300 [00:29<00:00, 10.03it/s]\n"
          ]
        },
        {
          "output_type": "stream",
          "name": "stdout",
          "text": [
            "Mean score = 1296.06, Max value = 256\n",
            "\n",
            "Training epoch 44 -----\n",
            "Evaluation epoch 44 -----\n"
          ]
        },
        {
          "output_type": "stream",
          "name": "stderr",
          "text": [
            "100%|██████████| 300/300 [00:29<00:00, 10.14it/s]\n"
          ]
        },
        {
          "output_type": "stream",
          "name": "stdout",
          "text": [
            "Mean score = 623.26, Max value = 256\n",
            "\n",
            "Training epoch 45 -----\n",
            "Evaluation epoch 45 -----\n"
          ]
        },
        {
          "output_type": "stream",
          "name": "stderr",
          "text": [
            "100%|██████████| 300/300 [00:29<00:00, 10.14it/s]\n"
          ]
        },
        {
          "output_type": "stream",
          "name": "stdout",
          "text": [
            "Mean score = 1168.55, Max value = 256\n",
            "\n",
            "Training epoch 46 -----\n",
            "Evaluation epoch 46 -----\n"
          ]
        },
        {
          "output_type": "stream",
          "name": "stderr",
          "text": [
            "100%|██████████| 300/300 [00:30<00:00,  9.94it/s]\n"
          ]
        },
        {
          "output_type": "stream",
          "name": "stdout",
          "text": [
            "Mean score = 458.07, Max value = 256\n",
            "\n",
            "Training epoch 47 -----\n",
            "Evaluation epoch 47 -----\n"
          ]
        },
        {
          "output_type": "stream",
          "name": "stderr",
          "text": [
            "100%|██████████| 300/300 [00:30<00:00,  9.88it/s]\n"
          ]
        },
        {
          "output_type": "stream",
          "name": "stdout",
          "text": [
            "Mean score = 1410.42, Max value = 256\n",
            "\n",
            "Training epoch 48 -----\n",
            "Evaluation epoch 48 -----\n"
          ]
        },
        {
          "output_type": "stream",
          "name": "stderr",
          "text": [
            "100%|██████████| 300/300 [00:30<00:00,  9.74it/s]\n"
          ]
        },
        {
          "output_type": "stream",
          "name": "stdout",
          "text": [
            "Mean score = 917.79, Max value = 256\n",
            "\n",
            "Training epoch 49 -----\n",
            "Evaluation epoch 49 -----\n"
          ]
        },
        {
          "output_type": "stream",
          "name": "stderr",
          "text": [
            "100%|██████████| 300/300 [00:30<00:00,  9.85it/s]\n"
          ]
        },
        {
          "output_type": "stream",
          "name": "stdout",
          "text": [
            "Mean score = 1161.49, Max value = 256\n",
            "\n",
            "Training epoch 50 -----\n",
            "Evaluation epoch 50 -----\n"
          ]
        },
        {
          "output_type": "stream",
          "name": "stderr",
          "text": [
            "100%|██████████| 300/300 [00:30<00:00,  9.99it/s]\n"
          ]
        },
        {
          "output_type": "stream",
          "name": "stdout",
          "text": [
            "Mean score = 1018.85, Max value = 256\n",
            "\n",
            "Training epoch 51 -----\n",
            "Evaluation epoch 51 -----\n"
          ]
        },
        {
          "output_type": "stream",
          "name": "stderr",
          "text": [
            "100%|██████████| 300/300 [00:31<00:00,  9.66it/s]\n"
          ]
        },
        {
          "output_type": "stream",
          "name": "stdout",
          "text": [
            "Mean score = 501.03, Max value = 256\n",
            "\n",
            "Training epoch 52 -----\n",
            "Evaluation epoch 52 -----\n"
          ]
        },
        {
          "output_type": "stream",
          "name": "stderr",
          "text": [
            "100%|██████████| 300/300 [00:29<00:00, 10.08it/s]\n"
          ]
        },
        {
          "output_type": "stream",
          "name": "stdout",
          "text": [
            "Mean score = 309.15, Max value = 256\n",
            "\n",
            "Training epoch 53 -----\n",
            "Evaluation epoch 53 -----\n"
          ]
        },
        {
          "output_type": "stream",
          "name": "stderr",
          "text": [
            "100%|██████████| 300/300 [00:29<00:00, 10.07it/s]\n"
          ]
        },
        {
          "output_type": "stream",
          "name": "stdout",
          "text": [
            "Mean score = 852.03, Max value = 256\n",
            "\n",
            "Training epoch 54 -----\n",
            "Evaluation epoch 54 -----\n"
          ]
        },
        {
          "output_type": "stream",
          "name": "stderr",
          "text": [
            "100%|██████████| 300/300 [00:29<00:00, 10.14it/s]\n"
          ]
        },
        {
          "output_type": "stream",
          "name": "stdout",
          "text": [
            "Mean score = 126.98, Max value = 256\n",
            "\n",
            "Training epoch 55 -----\n",
            "Evaluation epoch 55 -----\n"
          ]
        },
        {
          "output_type": "stream",
          "name": "stderr",
          "text": [
            "100%|██████████| 300/300 [00:30<00:00,  9.90it/s]\n"
          ]
        },
        {
          "output_type": "stream",
          "name": "stdout",
          "text": [
            "Mean score = 848.50, Max value = 256\n",
            "\n",
            "Training epoch 56 -----\n",
            "Evaluation epoch 56 -----\n"
          ]
        },
        {
          "output_type": "stream",
          "name": "stderr",
          "text": [
            "100%|██████████| 300/300 [00:32<00:00,  9.13it/s]\n"
          ]
        },
        {
          "output_type": "stream",
          "name": "stdout",
          "text": [
            "Mean score = 1189.68, Max value = 256\n",
            "\n",
            "Training epoch 57 -----\n",
            "Evaluation epoch 57 -----\n"
          ]
        },
        {
          "output_type": "stream",
          "name": "stderr",
          "text": [
            "100%|██████████| 300/300 [00:30<00:00,  9.72it/s]\n"
          ]
        },
        {
          "output_type": "stream",
          "name": "stdout",
          "text": [
            "Mean score = 1360.43, Max value = 256\n",
            "\n",
            "Training epoch 58 -----\n",
            "Evaluation epoch 58 -----\n"
          ]
        },
        {
          "output_type": "stream",
          "name": "stderr",
          "text": [
            "100%|██████████| 300/300 [00:31<00:00,  9.54it/s]\n"
          ]
        },
        {
          "output_type": "stream",
          "name": "stdout",
          "text": [
            "Mean score = 905.97, Max value = 256\n",
            "\n",
            "Training epoch 59 -----\n",
            "Evaluation epoch 59 -----\n"
          ]
        },
        {
          "output_type": "stream",
          "name": "stderr",
          "text": [
            "100%|██████████| 300/300 [00:30<00:00,  9.88it/s]\n"
          ]
        },
        {
          "output_type": "stream",
          "name": "stdout",
          "text": [
            "Mean score = 918.89, Max value = 256\n",
            "\n",
            "Training epoch 60 -----\n",
            "Evaluation epoch 60 -----\n"
          ]
        },
        {
          "output_type": "stream",
          "name": "stderr",
          "text": [
            "100%|██████████| 300/300 [00:30<00:00,  9.69it/s]\n"
          ]
        },
        {
          "output_type": "stream",
          "name": "stdout",
          "text": [
            "Mean score = 1183.98, Max value = 512\n",
            "\n",
            "Training epoch 61 -----\n",
            "Evaluation epoch 61 -----\n"
          ]
        },
        {
          "output_type": "stream",
          "name": "stderr",
          "text": [
            "100%|██████████| 300/300 [00:30<00:00,  9.98it/s]\n"
          ]
        },
        {
          "output_type": "stream",
          "name": "stdout",
          "text": [
            "Mean score = 551.17, Max value = 256\n",
            "\n",
            "Training epoch 62 -----\n",
            "Evaluation epoch 62 -----\n"
          ]
        },
        {
          "output_type": "stream",
          "name": "stderr",
          "text": [
            "100%|██████████| 300/300 [00:30<00:00, 10.00it/s]\n"
          ]
        },
        {
          "output_type": "stream",
          "name": "stdout",
          "text": [
            "Mean score = 975.69, Max value = 256\n",
            "\n",
            "Training epoch 63 -----\n",
            "Evaluation epoch 63 -----\n"
          ]
        },
        {
          "output_type": "stream",
          "name": "stderr",
          "text": [
            "100%|██████████| 300/300 [00:28<00:00, 10.64it/s]\n"
          ]
        },
        {
          "output_type": "stream",
          "name": "stdout",
          "text": [
            "Mean score = 646.41, Max value = 256\n",
            "\n",
            "Training epoch 64 -----\n",
            "Evaluation epoch 64 -----\n"
          ]
        },
        {
          "output_type": "stream",
          "name": "stderr",
          "text": [
            "100%|██████████| 300/300 [00:29<00:00, 10.17it/s]\n"
          ]
        },
        {
          "output_type": "stream",
          "name": "stdout",
          "text": [
            "Mean score = 1072.84, Max value = 256\n",
            "\n",
            "Training epoch 65 -----\n",
            "Evaluation epoch 65 -----\n"
          ]
        },
        {
          "output_type": "stream",
          "name": "stderr",
          "text": [
            "100%|██████████| 300/300 [00:32<00:00,  9.23it/s]\n"
          ]
        },
        {
          "output_type": "stream",
          "name": "stdout",
          "text": [
            "Mean score = 976.22, Max value = 256\n",
            "\n",
            "Training epoch 66 -----\n",
            "Evaluation epoch 66 -----\n"
          ]
        },
        {
          "output_type": "stream",
          "name": "stderr",
          "text": [
            "100%|██████████| 300/300 [00:30<00:00,  9.86it/s]\n"
          ]
        },
        {
          "output_type": "stream",
          "name": "stdout",
          "text": [
            "Mean score = 1277.84, Max value = 256\n",
            "\n",
            "Training epoch 67 -----\n",
            "Evaluation epoch 67 -----\n"
          ]
        },
        {
          "output_type": "stream",
          "name": "stderr",
          "text": [
            "100%|██████████| 300/300 [00:30<00:00,  9.93it/s]\n"
          ]
        },
        {
          "output_type": "stream",
          "name": "stdout",
          "text": [
            "Mean score = 1142.98, Max value = 256\n",
            "\n",
            "Training epoch 68 -----\n",
            "Evaluation epoch 68 -----\n"
          ]
        },
        {
          "output_type": "stream",
          "name": "stderr",
          "text": [
            "100%|██████████| 300/300 [00:30<00:00,  9.84it/s]\n"
          ]
        },
        {
          "output_type": "stream",
          "name": "stdout",
          "text": [
            "Mean score = 608.59, Max value = 256\n",
            "\n",
            "Training epoch 69 -----\n",
            "Evaluation epoch 69 -----\n"
          ]
        },
        {
          "output_type": "stream",
          "name": "stderr",
          "text": [
            "100%|██████████| 300/300 [00:29<00:00, 10.16it/s]\n"
          ]
        },
        {
          "output_type": "stream",
          "name": "stdout",
          "text": [
            "Mean score = 603.18, Max value = 256\n",
            "\n",
            "Training epoch 70 -----\n",
            "Evaluation epoch 70 -----\n"
          ]
        },
        {
          "output_type": "stream",
          "name": "stderr",
          "text": [
            "100%|██████████| 300/300 [00:31<00:00,  9.50it/s]\n"
          ]
        },
        {
          "output_type": "stream",
          "name": "stdout",
          "text": [
            "Mean score = 1398.03, Max value = 256\n",
            "\n",
            "Training epoch 71 -----\n",
            "Evaluation epoch 71 -----\n"
          ]
        },
        {
          "output_type": "stream",
          "name": "stderr",
          "text": [
            "100%|██████████| 300/300 [00:34<00:00,  8.65it/s]\n"
          ]
        },
        {
          "output_type": "stream",
          "name": "stdout",
          "text": [
            "Mean score = 2614.04, Max value = 256\n",
            "Model saved!\n",
            "\n",
            "Training epoch 72 -----\n",
            "Evaluation epoch 72 -----\n"
          ]
        },
        {
          "output_type": "stream",
          "name": "stderr",
          "text": [
            "100%|██████████| 300/300 [00:30<00:00,  9.99it/s]\n"
          ]
        },
        {
          "output_type": "stream",
          "name": "stdout",
          "text": [
            "Mean score = 1096.14, Max value = 256\n",
            "\n",
            "Training epoch 73 -----\n",
            "Evaluation epoch 73 -----\n"
          ]
        },
        {
          "output_type": "stream",
          "name": "stderr",
          "text": [
            "100%|██████████| 300/300 [00:30<00:00,  9.94it/s]\n"
          ]
        },
        {
          "output_type": "stream",
          "name": "stdout",
          "text": [
            "Mean score = 1092.95, Max value = 256\n",
            "\n",
            "Training epoch 74 -----\n",
            "Evaluation epoch 74 -----\n"
          ]
        },
        {
          "output_type": "stream",
          "name": "stderr",
          "text": [
            "100%|██████████| 300/300 [00:29<00:00, 10.16it/s]\n"
          ]
        },
        {
          "output_type": "stream",
          "name": "stdout",
          "text": [
            "Mean score = 216.56, Max value = 256\n",
            "\n",
            "Training epoch 75 -----\n",
            "Evaluation epoch 75 -----\n"
          ]
        },
        {
          "output_type": "stream",
          "name": "stderr",
          "text": [
            "100%|██████████| 300/300 [00:29<00:00, 10.09it/s]\n"
          ]
        },
        {
          "output_type": "stream",
          "name": "stdout",
          "text": [
            "Mean score = 992.03, Max value = 256\n",
            "\n",
            "Training epoch 76 -----\n",
            "Evaluation epoch 76 -----\n"
          ]
        },
        {
          "output_type": "stream",
          "name": "stderr",
          "text": [
            "100%|██████████| 300/300 [00:28<00:00, 10.59it/s]\n"
          ]
        },
        {
          "output_type": "stream",
          "name": "stdout",
          "text": [
            "Mean score = 750.32, Max value = 256\n",
            "\n",
            "Training epoch 77 -----\n",
            "Evaluation epoch 77 -----\n"
          ]
        },
        {
          "output_type": "stream",
          "name": "stderr",
          "text": [
            "100%|██████████| 300/300 [00:31<00:00,  9.46it/s]\n"
          ]
        },
        {
          "output_type": "stream",
          "name": "stdout",
          "text": [
            "Mean score = 969.44, Max value = 256\n",
            "\n",
            "Training epoch 78 -----\n",
            "Evaluation epoch 78 -----\n"
          ]
        },
        {
          "output_type": "stream",
          "name": "stderr",
          "text": [
            "100%|██████████| 300/300 [00:29<00:00, 10.11it/s]\n"
          ]
        },
        {
          "output_type": "stream",
          "name": "stdout",
          "text": [
            "Mean score = 713.45, Max value = 256\n",
            "\n",
            "Training epoch 79 -----\n",
            "Evaluation epoch 79 -----\n"
          ]
        },
        {
          "output_type": "stream",
          "name": "stderr",
          "text": [
            "100%|██████████| 300/300 [00:30<00:00,  9.87it/s]\n"
          ]
        },
        {
          "output_type": "stream",
          "name": "stdout",
          "text": [
            "Mean score = 880.72, Max value = 256\n",
            "\n",
            "Training epoch 80 -----\n",
            "Evaluation epoch 80 -----\n"
          ]
        },
        {
          "output_type": "stream",
          "name": "stderr",
          "text": [
            "100%|██████████| 300/300 [00:29<00:00, 10.28it/s]\n"
          ]
        },
        {
          "output_type": "stream",
          "name": "stdout",
          "text": [
            "Mean score = -34.48, Max value = 256\n",
            "\n",
            "Training epoch 81 -----\n",
            "Evaluation epoch 81 -----\n"
          ]
        },
        {
          "output_type": "stream",
          "name": "stderr",
          "text": [
            "100%|██████████| 300/300 [00:30<00:00,  9.73it/s]\n"
          ]
        },
        {
          "output_type": "stream",
          "name": "stdout",
          "text": [
            "Mean score = 888.21, Max value = 256\n",
            "\n",
            "Training epoch 82 -----\n",
            "Evaluation epoch 82 -----\n"
          ]
        },
        {
          "output_type": "stream",
          "name": "stderr",
          "text": [
            "100%|██████████| 300/300 [00:32<00:00,  9.24it/s]\n"
          ]
        },
        {
          "output_type": "stream",
          "name": "stdout",
          "text": [
            "Mean score = 1250.26, Max value = 256\n",
            "\n",
            "Training epoch 83 -----\n",
            "Evaluation epoch 83 -----\n"
          ]
        },
        {
          "output_type": "stream",
          "name": "stderr",
          "text": [
            "100%|██████████| 300/300 [00:30<00:00,  9.69it/s]\n"
          ]
        },
        {
          "output_type": "stream",
          "name": "stdout",
          "text": [
            "Mean score = 1679.74, Max value = 256\n",
            "\n",
            "Training epoch 84 -----\n",
            "Evaluation epoch 84 -----\n"
          ]
        },
        {
          "output_type": "stream",
          "name": "stderr",
          "text": [
            "100%|██████████| 300/300 [00:38<00:00,  7.84it/s]\n"
          ]
        },
        {
          "output_type": "stream",
          "name": "stdout",
          "text": [
            "Mean score = 2457.23, Max value = 256\n",
            "\n",
            "Training epoch 85 -----\n",
            "Evaluation epoch 85 -----\n"
          ]
        },
        {
          "output_type": "stream",
          "name": "stderr",
          "text": [
            "100%|██████████| 300/300 [00:33<00:00,  8.91it/s]\n"
          ]
        },
        {
          "output_type": "stream",
          "name": "stdout",
          "text": [
            "Mean score = 1401.31, Max value = 512\n",
            "\n",
            "Training epoch 86 -----\n",
            "Evaluation epoch 86 -----\n"
          ]
        },
        {
          "output_type": "stream",
          "name": "stderr",
          "text": [
            "100%|██████████| 300/300 [00:29<00:00, 10.02it/s]\n"
          ]
        },
        {
          "output_type": "stream",
          "name": "stdout",
          "text": [
            "Mean score = 217.68, Max value = 256\n",
            "\n",
            "Training epoch 87 -----\n",
            "Evaluation epoch 87 -----\n"
          ]
        },
        {
          "output_type": "stream",
          "name": "stderr",
          "text": [
            "100%|██████████| 300/300 [00:30<00:00,  9.91it/s]\n"
          ]
        },
        {
          "output_type": "stream",
          "name": "stdout",
          "text": [
            "Mean score = 621.21, Max value = 256\n",
            "\n",
            "Training epoch 88 -----\n",
            "Evaluation epoch 88 -----\n"
          ]
        },
        {
          "output_type": "stream",
          "name": "stderr",
          "text": [
            "100%|██████████| 300/300 [00:29<00:00, 10.06it/s]\n"
          ]
        },
        {
          "output_type": "stream",
          "name": "stdout",
          "text": [
            "Mean score = 1380.66, Max value = 256\n",
            "\n",
            "Training epoch 89 -----\n",
            "Evaluation epoch 89 -----\n"
          ]
        },
        {
          "output_type": "stream",
          "name": "stderr",
          "text": [
            "100%|██████████| 300/300 [00:30<00:00,  9.87it/s]\n"
          ]
        },
        {
          "output_type": "stream",
          "name": "stdout",
          "text": [
            "Mean score = 1349.26, Max value = 256\n",
            "\n",
            "Training epoch 90 -----\n",
            "Evaluation epoch 90 -----\n"
          ]
        },
        {
          "output_type": "stream",
          "name": "stderr",
          "text": [
            "100%|██████████| 300/300 [00:31<00:00,  9.54it/s]\n"
          ]
        },
        {
          "output_type": "stream",
          "name": "stdout",
          "text": [
            "Mean score = 964.10, Max value = 256\n",
            "\n",
            "Training epoch 91 -----\n",
            "Evaluation epoch 91 -----\n"
          ]
        },
        {
          "output_type": "stream",
          "name": "stderr",
          "text": [
            "100%|██████████| 300/300 [00:32<00:00,  9.22it/s]\n"
          ]
        },
        {
          "output_type": "stream",
          "name": "stdout",
          "text": [
            "Mean score = 1775.31, Max value = 256\n",
            "\n",
            "Training epoch 92 -----\n",
            "Evaluation epoch 92 -----\n"
          ]
        },
        {
          "output_type": "stream",
          "name": "stderr",
          "text": [
            "100%|██████████| 300/300 [00:32<00:00,  9.24it/s]\n"
          ]
        },
        {
          "output_type": "stream",
          "name": "stdout",
          "text": [
            "Mean score = 1549.05, Max value = 512\n",
            "\n",
            "Training epoch 93 -----\n",
            "Evaluation epoch 93 -----\n"
          ]
        },
        {
          "output_type": "stream",
          "name": "stderr",
          "text": [
            "100%|██████████| 300/300 [00:30<00:00,  9.98it/s]\n"
          ]
        },
        {
          "output_type": "stream",
          "name": "stdout",
          "text": [
            "Mean score = 1096.59, Max value = 256\n",
            "\n",
            "Training epoch 94 -----\n",
            "Evaluation epoch 94 -----\n"
          ]
        },
        {
          "output_type": "stream",
          "name": "stderr",
          "text": [
            "100%|██████████| 300/300 [00:33<00:00,  8.86it/s]\n"
          ]
        },
        {
          "output_type": "stream",
          "name": "stdout",
          "text": [
            "Mean score = 2929.72, Max value = 512\n",
            "Model saved!\n",
            "\n",
            "Training epoch 95 -----\n",
            "Evaluation epoch 95 -----\n"
          ]
        },
        {
          "output_type": "stream",
          "name": "stderr",
          "text": [
            "100%|██████████| 300/300 [00:38<00:00,  7.73it/s]\n"
          ]
        },
        {
          "output_type": "stream",
          "name": "stdout",
          "text": [
            "Mean score = 3041.62, Max value = 512\n",
            "Model saved!\n",
            "\n",
            "Training epoch 96 -----\n",
            "Evaluation epoch 96 -----\n"
          ]
        },
        {
          "output_type": "stream",
          "name": "stderr",
          "text": [
            "100%|██████████| 300/300 [00:34<00:00,  8.77it/s]\n"
          ]
        },
        {
          "output_type": "stream",
          "name": "stdout",
          "text": [
            "Mean score = 2713.26, Max value = 512\n",
            "\n",
            "Training epoch 97 -----\n",
            "Evaluation epoch 97 -----\n"
          ]
        },
        {
          "output_type": "stream",
          "name": "stderr",
          "text": [
            "100%|██████████| 300/300 [00:31<00:00,  9.63it/s]\n"
          ]
        },
        {
          "output_type": "stream",
          "name": "stdout",
          "text": [
            "Mean score = 2179.74, Max value = 256\n",
            "\n",
            "Training epoch 98 -----\n",
            "Evaluation epoch 98 -----\n"
          ]
        },
        {
          "output_type": "stream",
          "name": "stderr",
          "text": [
            "100%|██████████| 300/300 [00:36<00:00,  8.33it/s]\n"
          ]
        },
        {
          "output_type": "stream",
          "name": "stdout",
          "text": [
            "Mean score = 2576.37, Max value = 512\n",
            "\n",
            "Training epoch 99 -----\n",
            "Evaluation epoch 99 -----\n"
          ]
        },
        {
          "output_type": "stream",
          "name": "stderr",
          "text": [
            "100%|██████████| 300/300 [00:34<00:00,  8.60it/s]\n"
          ]
        },
        {
          "output_type": "stream",
          "name": "stdout",
          "text": [
            "Mean score = 2579.91, Max value = 512\n",
            "\n",
            "Training epoch 100 -----\n",
            "Evaluation epoch 100 -----\n"
          ]
        },
        {
          "output_type": "stream",
          "name": "stderr",
          "text": [
            "100%|██████████| 300/300 [00:36<00:00,  8.24it/s]"
          ]
        },
        {
          "output_type": "stream",
          "name": "stdout",
          "text": [
            "Mean score = 3126.07, Max value = 512\n",
            "Model saved!\n",
            "\n"
          ]
        },
        {
          "output_type": "stream",
          "name": "stderr",
          "text": [
            "\n"
          ]
        }
      ]
    },
    {
      "cell_type": "code",
      "metadata": {
        "id": "0TfG2rylxwcp",
        "colab": {
          "base_uri": "https://localhost:8080/",
          "height": 567
        },
        "outputId": "6ddc681e-cfd2-46e7-a990-9d84f7da0d46"
      },
      "source": [
        "x_ind = [x*train_steps for x in range(train_epochs+1)]\n",
        "plt.plot(x_ind, mean_score_evaluations)\n",
        "plt.ylabel('Mean score (evaluated on {} episodes)'.format(eval_epochs))\n",
        "plt.xlabel('Cummulative Training Steps')\n",
        "plt.show()\n",
        "\n",
        "plt.plot(x_ind, max_values_evaluations)\n",
        "plt.yticks([pow(2, x) for x in range(7)])\n",
        "plt.ylabel('Max cell values obtained (evaluated on {} episodes)'.format(eval_epochs))\n",
        "plt.xlabel('Cummulative Training Steps')\n",
        "plt.show()"
      ],
      "execution_count": null,
      "outputs": [
        {
          "output_type": "display_data",
          "data": {
            "image/png": "[encoded data removed]",
            "text/plain": [
              "<Figure size 432x288 with 1 Axes>"
            ]
          },
          "metadata": {
            "needs_background": "light"
          }
        },
        {
          "output_type": "display_data",
          "data": {
            "image/png": "[encoded data removed]",
            "text/plain": [
              "<Figure size 432x288 with 1 Axes>"
            ]
          },
          "metadata": {
            "needs_background": "light"
          }
        }
      ]
    },
    {
      "cell_type": "code",
      "metadata": {
        "colab": {
          "base_uri": "https://localhost:8080/",
          "height": 34
        },
        "id": "CpENxLV5J-Hu",
        "outputId": "45f3f979-1f0f-4a2f-f314-ad6344fcb1d4"
      },
      "source": [
        "download_model(save_dir_ppo, save_name_ppo)"
      ],
      "execution_count": null,
      "outputs": [
        {
          "output_type": "display_data",
          "data": {
            "application/javascript": [
              "\n",
              "    async function download(id, filename, size) {\n",
              "      if (!google.colab.kernel.accessAllowed) {\n",
              "        return;\n",
              "      }\n",
              "      const div = document.createElement('div');\n",
              "      const label = document.createElement('label');\n",
              "      label.textContent = `Downloading \"${filename}\": `;\n",
              "      div.appendChild(label);\n",
              "      const progress = document.createElement('progress');\n",
              "      progress.max = size;\n",
              "      div.appendChild(progress);\n",
              "      document.body.appendChild(div);\n",
              "\n",
              "      const buffers = [];\n",
              "      let downloaded = 0;\n",
              "\n",
              "      const channel = await google.colab.kernel.comms.open(id);\n",
              "      // Send a message to notify the kernel that we're ready.\n",
              "      channel.send({})\n",
              "\n",
              "      for await (const message of channel.messages) {\n",
              "        // Send a message to notify the kernel that we're ready.\n",
              "        channel.send({})\n",
              "        if (message.buffers) {\n",
              "          for (const buffer of message.buffers) {\n",
              "            buffers.push(buffer);\n",
              "            downloaded += buffer.byteLength;\n",
              "            progress.value = downloaded;\n",
              "          }\n",
              "        }\n",
              "      }\n",
              "      const blob = new Blob(buffers, {type: 'application/binary'});\n",
              "      const a = document.createElement('a');\n",
              "      a.href = window.URL.createObjectURL(blob);\n",
              "      a.download = filename;\n",
              "      div.appendChild(a);\n",
              "      a.click();\n",
              "      div.remove();\n",
              "    }\n",
              "  "
            ],
            "text/plain": [
              "<IPython.core.display.Javascript object>"
            ]
          },
          "metadata": {}
        },
        {
          "output_type": "display_data",
          "data": {
            "application/javascript": [
              "download(\"download_b061309d-f00b-4824-a8a4-587ccdeda311\", \"best_model2048_ppo2.zip\", 57369)"
            ],
            "text/plain": [
              "<IPython.core.display.Javascript object>"
            ]
          },
          "metadata": {}
        },
        {
          "output_type": "stream",
          "name": "stdout",
          "text": [
            "Model downloaded!\n"
          ]
        }
      ]
    },
    {
      "cell_type": "code",
      "metadata": {
        "colab": {
          "base_uri": "https://localhost:8080/",
          "height": 17
        },
        "id": "9lKEoyQxWlXt",
        "outputId": "690e5de6-930a-421d-867a-8d3899382610"
      },
      "source": [
        "name_mean_file = os.path.abspath(os.getcwd())+'/resultPPO_mean_2048_reward'+str(rewardvalue)+'_stepstrain'+str(train_steps)+'_meaneval'+str(eval_epochs)+'.txt'\n",
        "with open(name_mean_file, 'w') as fopen:\n",
        "  for el in mean_score_evaluations:\n",
        "    fopen.write(str(el)+'\\n')\n",
        "\n",
        "name_max_file = os.path.abspath(os.getcwd())+'/resultPPO_max_2048_reward'+str(rewardvalue)+'_stepstrain'+str(train_steps)+'_meaneval'+str(eval_epochs)+'.txt'\n",
        "with open(name_max_file, 'w') as fopen:\n",
        "  for el in max_values_evaluations:\n",
        "    fopen.write(str(el)+'\\n')\n",
        "  \n",
        "files.download(name_mean_file)\n",
        "files.download(name_max_file)\n"
      ],
      "execution_count": null,
      "outputs": [
        {
          "output_type": "display_data",
          "data": {
            "application/javascript": [
              "\n",
              "    async function download(id, filename, size) {\n",
              "      if (!google.colab.kernel.accessAllowed) {\n",
              "        return;\n",
              "      }\n",
              "      const div = document.createElement('div');\n",
              "      const label = document.createElement('label');\n",
              "      label.textContent = `Downloading \"${filename}\": `;\n",
              "      div.appendChild(label);\n",
              "      const progress = document.createElement('progress');\n",
              "      progress.max = size;\n",
              "      div.appendChild(progress);\n",
              "      document.body.appendChild(div);\n",
              "\n",
              "      const buffers = [];\n",
              "      let downloaded = 0;\n",
              "\n",
              "      const channel = await google.colab.kernel.comms.open(id);\n",
              "      // Send a message to notify the kernel that we're ready.\n",
              "      channel.send({})\n",
              "\n",
              "      for await (const message of channel.messages) {\n",
              "        // Send a message to notify the kernel that we're ready.\n",
              "        channel.send({})\n",
              "        if (message.buffers) {\n",
              "          for (const buffer of message.buffers) {\n",
              "            buffers.push(buffer);\n",
              "            downloaded += buffer.byteLength;\n",
              "            progress.value = downloaded;\n",
              "          }\n",
              "        }\n",
              "      }\n",
              "      const blob = new Blob(buffers, {type: 'application/binary'});\n",
              "      const a = document.createElement('a');\n",
              "      a.href = window.URL.createObjectURL(blob);\n",
              "      a.download = filename;\n",
              "      div.appendChild(a);\n",
              "      a.click();\n",
              "      div.remove();\n",
              "    }\n",
              "  "
            ],
            "text/plain": [
              "<IPython.core.display.Javascript object>"
            ]
          },
          "metadata": {}
        },
        {
          "output_type": "display_data",
          "data": {
            "application/javascript": [
              "download(\"download_71141d73-d2f6-40a2-8a22-0e6a1dc713e8\", \"resultPPO_mean_2048_reward6_stepstrain10000_meaneval300.txt\", 922)"
            ],
            "text/plain": [
              "<IPython.core.display.Javascript object>"
            ]
          },
          "metadata": {}
        },
        {
          "output_type": "display_data",
          "data": {
            "application/javascript": [
              "\n",
              "    async function download(id, filename, size) {\n",
              "      if (!google.colab.kernel.accessAllowed) {\n",
              "        return;\n",
              "      }\n",
              "      const div = document.createElement('div');\n",
              "      const label = document.createElement('label');\n",
              "      label.textContent = `Downloading \"${filename}\": `;\n",
              "      div.appendChild(label);\n",
              "      const progress = document.createElement('progress');\n",
              "      progress.max = size;\n",
              "      div.appendChild(progress);\n",
              "      document.body.appendChild(div);\n",
              "\n",
              "      const buffers = [];\n",
              "      let downloaded = 0;\n",
              "\n",
              "      const channel = await google.colab.kernel.comms.open(id);\n",
              "      // Send a message to notify the kernel that we're ready.\n",
              "      channel.send({})\n",
              "\n",
              "      for await (const message of channel.messages) {\n",
              "        // Send a message to notify the kernel that we're ready.\n",
              "        channel.send({})\n",
              "        if (message.buffers) {\n",
              "          for (const buffer of message.buffers) {\n",
              "            buffers.push(buffer);\n",
              "            downloaded += buffer.byteLength;\n",
              "            progress.value = downloaded;\n",
              "          }\n",
              "        }\n",
              "      }\n",
              "      const blob = new Blob(buffers, {type: 'application/binary'});\n",
              "      const a = document.createElement('a');\n",
              "      a.href = window.URL.createObjectURL(blob);\n",
              "      a.download = filename;\n",
              "      div.appendChild(a);\n",
              "      a.click();\n",
              "      div.remove();\n",
              "    }\n",
              "  "
            ],
            "text/plain": [
              "<IPython.core.display.Javascript object>"
            ]
          },
          "metadata": {}
        },
        {
          "output_type": "display_data",
          "data": {
            "application/javascript": [
              "download(\"download_ee12d92f-7af3-4a43-a57b-00a776ef412f\", \"resultPPO_max_2048_reward6_stepstrain10000_meaneval300.txt\", 404)"
            ],
            "text/plain": [
              "<IPython.core.display.Javascript object>"
            ]
          },
          "metadata": {}
        }
      ]
    },
    {
      "cell_type": "markdown",
      "metadata": {
        "id": "OAOoQFHhO5vJ"
      },
      "source": [
        "### Show best option"
      ]
    },
    {
      "cell_type": "code",
      "metadata": {
        "colab": {
          "base_uri": "https://localhost:8080/"
        },
        "id": "9GWjGpFfcvVG",
        "outputId": "cf535773-8040-48c3-a87f-7cf2e8883cba"
      },
      "source": [
        "os.environ[\"SDL_VIDEODRIVER\"] = \"dummy\"\n",
        "ppo_model_loaded = load_model(save_dir_ppo, save_name_ppo, 'PPO2')\n",
        "\n",
        "max_value = -1e5\n",
        "video_frames = []\n",
        "times = 5\n",
        "for t in range(times):\n",
        "  env_show = Game2048Env(4, 4, 6, True)\n",
        "  observation = env_show.reset()\n",
        "  for t in range(1001):\n",
        "    env_show.render('video')\n",
        "    action, _states = ppo_model_loaded.predict(observation)\n",
        "    # action = env.action_space.sample()\n",
        "    observation, reward, done, info = env_show.step(action)\n",
        "\n",
        "    if done:\n",
        "      if type(info) == list:\n",
        "          if info[0]['max_v']>max_value:\n",
        "            max_value = info[0]['max_v']\n",
        "            video_frames = env.get_video()\n",
        "      elif type(info) == dict:\n",
        "          if info['max_v']>max_value:\n",
        "            max_value = info['max_v']\n",
        "            video_frames = env_show.get_video()\n",
        "      break"
      ],
      "execution_count": null,
      "outputs": [
        {
          "output_type": "stream",
          "name": "stdout",
          "text": [
            "Model loaded!\n"
          ]
        }
      ]
    },
    {
      "cell_type": "code",
      "metadata": {
        "colab": {
          "base_uri": "https://localhost:8080/",
          "height": 17
        },
        "id": "xhGeGuuCbnFs",
        "outputId": "a55ac71b-8f86-4548-e3ef-f9bb0833fd94"
      },
      "source": [
        "videodir = os.path.abspath(os.getcwd())+'/videos/'\n",
        "videoname = 'video2048_ppo.avi'\n",
        "os.makedirs(videodir, exist_ok=True)\n",
        "\n",
        "\n",
        "height, width, layers = video_frames[0].shape\n",
        "size = (width,height)\n",
        "out = cv2.VideoWriter(videodir+videoname,cv2.VideoWriter_fourcc(*'DIVX'), 15, size)\n",
        "\n",
        "for i in range(len(video_frames)):\n",
        "  for j in range(7):\n",
        "    out.write(video_frames[i])\n",
        "out.release()\n",
        "\n",
        "files.download(videodir+videoname)"
      ],
      "execution_count": null,
      "outputs": [
        {
          "output_type": "display_data",
          "data": {
            "application/javascript": [
              "\n",
              "    async function download(id, filename, size) {\n",
              "      if (!google.colab.kernel.accessAllowed) {\n",
              "        return;\n",
              "      }\n",
              "      const div = document.createElement('div');\n",
              "      const label = document.createElement('label');\n",
              "      label.textContent = `Downloading \"${filename}\": `;\n",
              "      div.appendChild(label);\n",
              "      const progress = document.createElement('progress');\n",
              "      progress.max = size;\n",
              "      div.appendChild(progress);\n",
              "      document.body.appendChild(div);\n",
              "\n",
              "      const buffers = [];\n",
              "      let downloaded = 0;\n",
              "\n",
              "      const channel = await google.colab.kernel.comms.open(id);\n",
              "      // Send a message to notify the kernel that we're ready.\n",
              "      channel.send({})\n",
              "\n",
              "      for await (const message of channel.messages) {\n",
              "        // Send a message to notify the kernel that we're ready.\n",
              "        channel.send({})\n",
              "        if (message.buffers) {\n",
              "          for (const buffer of message.buffers) {\n",
              "            buffers.push(buffer);\n",
              "            downloaded += buffer.byteLength;\n",
              "            progress.value = downloaded;\n",
              "          }\n",
              "        }\n",
              "      }\n",
              "      const blob = new Blob(buffers, {type: 'application/binary'});\n",
              "      const a = document.createElement('a');\n",
              "      a.href = window.URL.createObjectURL(blob);\n",
              "      a.download = filename;\n",
              "      div.appendChild(a);\n",
              "      a.click();\n",
              "      div.remove();\n",
              "    }\n",
              "  "
            ],
            "text/plain": [
              "<IPython.core.display.Javascript object>"
            ]
          },
          "metadata": {}
        },
        {
          "output_type": "display_data",
          "data": {
            "application/javascript": [
              "download(\"download_87383a6a-dd84-411f-aabe-75c20471b8fc\", \"video2048_ppo.avi\", 8444870)"
            ],
            "text/plain": [
              "<IPython.core.display.Javascript object>"
            ]
          },
          "metadata": {}
        }
      ]
    },
    {
      "cell_type": "markdown",
      "metadata": {
        "id": "3d_6ewQPaVG2"
      },
      "source": [
        "# DNQ"
      ]
    },
    {
      "cell_type": "code",
      "metadata": {
        "id": "88NjvmLjKgHd"
      },
      "source": [
        "save_dir_dqn = \"/content/models_saved/\"\n",
        "save_name_dqn = 'best_model2048_dqn'"
      ],
      "execution_count": null,
      "outputs": []
    },
    {
      "cell_type": "code",
      "metadata": {
        "id": "gaEanVxNkXEb",
        "colab": {
          "base_uri": "https://localhost:8080/"
        },
        "outputId": "59e84e14-1e38-4cbe-b9cd-66b13b705a2b"
      },
      "source": [
        "# Training + Evaluation every X steps\n",
        "train_steps = 10000\n",
        "train_epochs = 50\n",
        "eval_epochs = 100\n",
        "print('Training for {} million steps ({} steps * {} epochs)'.format((train_steps*train_epochs)/(1e6), train_steps, train_epochs))\n",
        "\n",
        "rewardvalue = 4\n",
        "env = Game2048Env(4, 4, rewardvalue)\n",
        "\n",
        "kwargs = {'double_q': True, 'prioritized_replay': True, 'policy_kwargs': dict(dueling=False)}\n",
        "\n",
        "dqn_model = DQN('MlpPolicy', env, verbose=0, gamma=0.95, learning_rate=0.01, batch_size=128, seed=42 , **kwargs)\n",
        "\n",
        "mean_score_evaluations = []\n",
        "max_values_evaluations = []\n",
        "best_mean_results = -9e20\n",
        "\n",
        "print('Epoch {} -----'.format(0))\n",
        "mean0, best0, _ = evaluation(dqn_model, env, num_episodes=eval_epochs)\n",
        "mean_score_evaluations.append(mean0)\n",
        "max_values_evaluations.append(best0)\n",
        "print('Mean score = {:.2f}, Max value = {}\\n'.format(mean0, best0))\n",
        "if mean0 > best_mean_results:\n",
        "  save_model(dqn_model, save_dir_dqn, save_name_dqn)\n",
        "  best_mean_results = mean0"
      ],
      "execution_count": null,
      "outputs": [
        {
          "output_type": "stream",
          "name": "stdout",
          "text": [
            "Training for 0.5 million steps (10000 steps * 50 epochs)\n",
            "WARNING:tensorflow:From /usr/local/lib/python3.7/dist-packages/stable_baselines/common/misc_util.py:26: The name tf.set_random_seed is deprecated. Please use tf.compat.v1.set_random_seed instead.\n",
            "\n",
            "WARNING:tensorflow:From /usr/local/lib/python3.7/dist-packages/stable_baselines/common/tf_util.py:191: The name tf.ConfigProto is deprecated. Please use tf.compat.v1.ConfigProto instead.\n",
            "\n",
            "WARNING:tensorflow:From /usr/local/lib/python3.7/dist-packages/stable_baselines/common/tf_util.py:200: The name tf.Session is deprecated. Please use tf.compat.v1.Session instead.\n",
            "\n",
            "WARNING:tensorflow:From /usr/local/lib/python3.7/dist-packages/stable_baselines/deepq/dqn.py:129: The name tf.train.AdamOptimizer is deprecated. Please use tf.compat.v1.train.AdamOptimizer instead.\n",
            "\n",
            "WARNING:tensorflow:From /usr/local/lib/python3.7/dist-packages/stable_baselines/deepq/build_graph.py:358: The name tf.variable_scope is deprecated. Please use tf.compat.v1.variable_scope instead.\n",
            "\n",
            "WARNING:tensorflow:From /usr/local/lib/python3.7/dist-packages/stable_baselines/deepq/build_graph.py:359: The name tf.placeholder is deprecated. Please use tf.compat.v1.placeholder instead.\n",
            "\n",
            "WARNING:tensorflow:From /usr/local/lib/python3.7/dist-packages/stable_baselines/deepq/build_graph.py:139: The name tf.get_variable is deprecated. Please use tf.compat.v1.get_variable instead.\n",
            "\n",
            "WARNING:tensorflow:From /usr/local/lib/python3.7/dist-packages/stable_baselines/deepq/policies.py:109: flatten (from tensorflow.python.layers.core) is deprecated and will be removed in a future version.\n",
            "Instructions for updating:\n",
            "Use keras.layers.flatten instead.\n",
            "WARNING:tensorflow:From /tensorflow-1.15.2/python3.7/tensorflow_core/python/layers/core.py:332: Layer.apply (from tensorflow.python.keras.engine.base_layer) is deprecated and will be removed in a future version.\n",
            "Instructions for updating:\n",
            "Please use `layer.__call__` method instead.\n",
            "WARNING:tensorflow:From /usr/local/lib/python3.7/dist-packages/stable_baselines/deepq/build_graph.py:147: The name tf.random_uniform is deprecated. Please use tf.random.uniform instead.\n",
            "\n",
            "WARNING:tensorflow:From /usr/local/lib/python3.7/dist-packages/stable_baselines/deepq/build_graph.py:149: where (from tensorflow.python.ops.array_ops) is deprecated and will be removed in a future version.\n",
            "Instructions for updating:\n",
            "Use tf.where in 2.0, which has the same broadcast rule as np.where\n",
            "WARNING:tensorflow:From /usr/local/lib/python3.7/dist-packages/stable_baselines/deepq/build_graph.py:372: The name tf.get_collection is deprecated. Please use tf.compat.v1.get_collection instead.\n",
            "\n",
            "WARNING:tensorflow:From /usr/local/lib/python3.7/dist-packages/stable_baselines/deepq/build_graph.py:372: The name tf.GraphKeys is deprecated. Please use tf.compat.v1.GraphKeys instead.\n",
            "\n",
            "WARNING:tensorflow:From /usr/local/lib/python3.7/dist-packages/stable_baselines/deepq/build_graph.py:372: The name tf.get_variable_scope is deprecated. Please use tf.compat.v1.get_variable_scope instead.\n",
            "\n",
            "WARNING:tensorflow:From /usr/local/lib/python3.7/dist-packages/stable_baselines/deepq/build_graph.py:415: The name tf.summary.scalar is deprecated. Please use tf.compat.v1.summary.scalar instead.\n",
            "\n",
            "WARNING:tensorflow:From /usr/local/lib/python3.7/dist-packages/stable_baselines/deepq/build_graph.py:449: The name tf.summary.merge_all is deprecated. Please use tf.compat.v1.summary.merge_all instead.\n",
            "\n",
            "WARNING:tensorflow:From /usr/local/lib/python3.7/dist-packages/stable_baselines/common/tf_util.py:241: The name tf.global_variables is deprecated. Please use tf.compat.v1.global_variables instead.\n",
            "\n",
            "WARNING:tensorflow:From /usr/local/lib/python3.7/dist-packages/stable_baselines/common/tf_util.py:242: The name tf.variables_initializer is deprecated. Please use tf.compat.v1.variables_initializer instead.\n",
            "\n",
            "Epoch 0 -----\n"
          ]
        },
        {
          "output_type": "stream",
          "name": "stderr",
          "text": [
            "100%|██████████| 100/100 [02:00<00:00,  1.21s/it]"
          ]
        },
        {
          "output_type": "stream",
          "name": "stdout",
          "text": [
            "Mean score = -99308.18, Max value = 16\n",
            "\n",
            "Model saved!\n"
          ]
        },
        {
          "output_type": "stream",
          "name": "stderr",
          "text": [
            "\n"
          ]
        }
      ]
    },
    {
      "cell_type": "code",
      "metadata": {
        "id": "TeUYCDOrkmzU",
        "colab": {
          "base_uri": "https://localhost:8080/"
        },
        "outputId": "2d82ca48-ccf1-4a74-ad77-bf4ddc948c28"
      },
      "source": [
        "for i in range(1, train_epochs+1):\n",
        "  print('Training epoch {} -----'.format(i))\n",
        "  dqn_model.learn(total_timesteps=train_steps)\n",
        "  print('Evaluation epoch {} -----'.format(i))\n",
        "  mean, best, _ = evaluation(dqn_model, env, num_episodes=eval_epochs)\n",
        "  mean_score_evaluations.append(mean)\n",
        "  max_values_evaluations.append(best)\n",
        "  print('Mean score = {:.2f}, Max value = {}\\n'.format(mean, best))\n",
        "  if mean > best_mean_results:\n",
        "    save_model(dqn_model, save_dir_dqn, save_name_dqn)\n",
        "    best_mean_results = mean\n",
        "  print()"
      ],
      "execution_count": null,
      "outputs": [
        {
          "output_type": "stream",
          "name": "stdout",
          "text": [
            "Training epoch 1 -----\n",
            "WARNING:tensorflow:From /usr/local/lib/python3.7/dist-packages/stable_baselines/common/tf_util.py:322: The name tf.get_default_session is deprecated. Please use tf.compat.v1.get_default_session instead.\n",
            "\n",
            "Evaluation epoch 1 -----\n"
          ]
        },
        {
          "output_type": "stream",
          "name": "stderr",
          "text": [
            "100%|██████████| 100/100 [02:01<00:00,  1.21s/it]\n"
          ]
        },
        {
          "output_type": "stream",
          "name": "stdout",
          "text": [
            "Mean score = -95124.82, Max value = 64\n",
            "\n",
            "Model saved!\n",
            "\n",
            "Training epoch 2 -----\n",
            "Evaluation epoch 2 -----\n"
          ]
        },
        {
          "output_type": "stream",
          "name": "stderr",
          "text": [
            "100%|██████████| 100/100 [01:58<00:00,  1.19s/it]\n"
          ]
        },
        {
          "output_type": "stream",
          "name": "stdout",
          "text": [
            "Mean score = -97712.01, Max value = 64\n",
            "\n",
            "\n",
            "Training epoch 3 -----\n",
            "Evaluation epoch 3 -----\n"
          ]
        },
        {
          "output_type": "stream",
          "name": "stderr",
          "text": [
            "100%|██████████| 100/100 [01:58<00:00,  1.18s/it]\n"
          ]
        },
        {
          "output_type": "stream",
          "name": "stdout",
          "text": [
            "Mean score = -98611.39, Max value = 32\n",
            "\n",
            "\n",
            "Training epoch 4 -----\n",
            "Evaluation epoch 4 -----\n"
          ]
        },
        {
          "output_type": "stream",
          "name": "stderr",
          "text": [
            "100%|██████████| 100/100 [02:02<00:00,  1.22s/it]\n"
          ]
        },
        {
          "output_type": "stream",
          "name": "stdout",
          "text": [
            "Mean score = -98704.51, Max value = 32\n",
            "\n",
            "\n",
            "Training epoch 5 -----\n",
            "Evaluation epoch 5 -----\n"
          ]
        },
        {
          "output_type": "stream",
          "name": "stderr",
          "text": [
            "100%|██████████| 100/100 [02:03<00:00,  1.23s/it]\n"
          ]
        },
        {
          "output_type": "stream",
          "name": "stdout",
          "text": [
            "Mean score = -99046.37, Max value = 32\n",
            "\n",
            "\n",
            "Training epoch 6 -----\n",
            "Evaluation epoch 6 -----\n"
          ]
        },
        {
          "output_type": "stream",
          "name": "stderr",
          "text": [
            "100%|██████████| 100/100 [02:02<00:00,  1.23s/it]\n"
          ]
        },
        {
          "output_type": "stream",
          "name": "stdout",
          "text": [
            "Mean score = -98604.78, Max value = 32\n",
            "\n",
            "\n",
            "Training epoch 7 -----\n",
            "Evaluation epoch 7 -----\n"
          ]
        },
        {
          "output_type": "stream",
          "name": "stderr",
          "text": [
            "100%|██████████| 100/100 [02:00<00:00,  1.21s/it]\n"
          ]
        },
        {
          "output_type": "stream",
          "name": "stdout",
          "text": [
            "Mean score = -98208.01, Max value = 32\n",
            "\n",
            "\n",
            "Training epoch 8 -----\n",
            "Evaluation epoch 8 -----\n"
          ]
        },
        {
          "output_type": "stream",
          "name": "stderr",
          "text": [
            "100%|██████████| 100/100 [02:01<00:00,  1.22s/it]\n"
          ]
        },
        {
          "output_type": "stream",
          "name": "stdout",
          "text": [
            "Mean score = -98324.05, Max value = 64\n",
            "\n",
            "\n",
            "Training epoch 9 -----\n",
            "Evaluation epoch 9 -----\n"
          ]
        },
        {
          "output_type": "stream",
          "name": "stderr",
          "text": [
            "100%|██████████| 100/100 [02:01<00:00,  1.22s/it]\n"
          ]
        },
        {
          "output_type": "stream",
          "name": "stdout",
          "text": [
            "Mean score = -98056.86, Max value = 32\n",
            "\n",
            "\n",
            "Training epoch 10 -----\n",
            "Evaluation epoch 10 -----\n"
          ]
        },
        {
          "output_type": "stream",
          "name": "stderr",
          "text": [
            "100%|██████████| 100/100 [02:00<00:00,  1.21s/it]\n"
          ]
        },
        {
          "output_type": "stream",
          "name": "stdout",
          "text": [
            "Mean score = -98303.61, Max value = 32\n",
            "\n",
            "\n",
            "Training epoch 11 -----\n",
            "Evaluation epoch 11 -----\n"
          ]
        },
        {
          "output_type": "stream",
          "name": "stderr",
          "text": [
            "100%|██████████| 100/100 [01:58<00:00,  1.19s/it]\n"
          ]
        },
        {
          "output_type": "stream",
          "name": "stdout",
          "text": [
            "Mean score = -98383.37, Max value = 32\n",
            "\n",
            "\n",
            "Training epoch 12 -----\n",
            "Evaluation epoch 12 -----\n"
          ]
        },
        {
          "output_type": "stream",
          "name": "stderr",
          "text": [
            "100%|██████████| 100/100 [01:58<00:00,  1.19s/it]\n"
          ]
        },
        {
          "output_type": "stream",
          "name": "stdout",
          "text": [
            "Mean score = -96826.86, Max value = 64\n",
            "\n",
            "\n",
            "Training epoch 13 -----\n",
            "Evaluation epoch 13 -----\n"
          ]
        },
        {
          "output_type": "stream",
          "name": "stderr",
          "text": [
            "100%|██████████| 100/100 [02:00<00:00,  1.20s/it]\n"
          ]
        },
        {
          "output_type": "stream",
          "name": "stdout",
          "text": [
            "Mean score = -98621.88, Max value = 32\n",
            "\n",
            "\n",
            "Training epoch 14 -----\n",
            "Evaluation epoch 14 -----\n"
          ]
        },
        {
          "output_type": "stream",
          "name": "stderr",
          "text": [
            "100%|██████████| 100/100 [02:02<00:00,  1.22s/it]\n"
          ]
        },
        {
          "output_type": "stream",
          "name": "stdout",
          "text": [
            "Mean score = -98110.76, Max value = 32\n",
            "\n",
            "\n",
            "Training epoch 15 -----\n",
            "Evaluation epoch 15 -----\n"
          ]
        },
        {
          "output_type": "stream",
          "name": "stderr",
          "text": [
            "100%|██████████| 100/100 [01:59<00:00,  1.20s/it]\n"
          ]
        },
        {
          "output_type": "stream",
          "name": "stdout",
          "text": [
            "Mean score = -98965.52, Max value = 32\n",
            "\n",
            "\n",
            "Training epoch 16 -----\n",
            "Evaluation epoch 16 -----\n"
          ]
        },
        {
          "output_type": "stream",
          "name": "stderr",
          "text": [
            "100%|██████████| 100/100 [01:59<00:00,  1.20s/it]\n"
          ]
        },
        {
          "output_type": "stream",
          "name": "stdout",
          "text": [
            "Mean score = -98338.40, Max value = 64\n",
            "\n",
            "\n",
            "Training epoch 17 -----\n",
            "Evaluation epoch 17 -----\n"
          ]
        },
        {
          "output_type": "stream",
          "name": "stderr",
          "text": [
            "100%|██████████| 100/100 [02:01<00:00,  1.22s/it]\n"
          ]
        },
        {
          "output_type": "stream",
          "name": "stdout",
          "text": [
            "Mean score = -98595.59, Max value = 32\n",
            "\n",
            "\n",
            "Training epoch 18 -----\n",
            "Evaluation epoch 18 -----\n"
          ]
        },
        {
          "output_type": "stream",
          "name": "stderr",
          "text": [
            "100%|██████████| 100/100 [02:00<00:00,  1.20s/it]\n"
          ]
        },
        {
          "output_type": "stream",
          "name": "stdout",
          "text": [
            "Mean score = -98658.09, Max value = 32\n",
            "\n",
            "\n",
            "Training epoch 19 -----\n",
            "Evaluation epoch 19 -----\n"
          ]
        },
        {
          "output_type": "stream",
          "name": "stderr",
          "text": [
            "100%|██████████| 100/100 [02:00<00:00,  1.20s/it]\n"
          ]
        },
        {
          "output_type": "stream",
          "name": "stdout",
          "text": [
            "Mean score = -98597.33, Max value = 64\n",
            "\n",
            "\n",
            "Training epoch 20 -----\n",
            "Evaluation epoch 20 -----\n"
          ]
        },
        {
          "output_type": "stream",
          "name": "stderr",
          "text": [
            "100%|██████████| 100/100 [02:00<00:00,  1.20s/it]\n"
          ]
        },
        {
          "output_type": "stream",
          "name": "stdout",
          "text": [
            "Mean score = -98899.06, Max value = 32\n",
            "\n",
            "\n",
            "Training epoch 21 -----\n",
            "Evaluation epoch 21 -----\n"
          ]
        },
        {
          "output_type": "stream",
          "name": "stderr",
          "text": [
            "100%|██████████| 100/100 [01:59<00:00,  1.19s/it]\n"
          ]
        },
        {
          "output_type": "stream",
          "name": "stdout",
          "text": [
            "Mean score = -99071.04, Max value = 32\n",
            "\n",
            "\n",
            "Training epoch 22 -----\n",
            "Evaluation epoch 22 -----\n"
          ]
        },
        {
          "output_type": "stream",
          "name": "stderr",
          "text": [
            "100%|██████████| 100/100 [02:01<00:00,  1.21s/it]\n"
          ]
        },
        {
          "output_type": "stream",
          "name": "stdout",
          "text": [
            "Mean score = -99293.35, Max value = 32\n",
            "\n",
            "\n",
            "Training epoch 23 -----\n",
            "Evaluation epoch 23 -----\n"
          ]
        },
        {
          "output_type": "stream",
          "name": "stderr",
          "text": [
            "100%|██████████| 100/100 [02:00<00:00,  1.20s/it]\n"
          ]
        },
        {
          "output_type": "stream",
          "name": "stdout",
          "text": [
            "Mean score = -98756.78, Max value = 32\n",
            "\n",
            "\n",
            "Training epoch 24 -----\n",
            "Evaluation epoch 24 -----\n"
          ]
        },
        {
          "output_type": "stream",
          "name": "stderr",
          "text": [
            "100%|██████████| 100/100 [01:58<00:00,  1.18s/it]\n"
          ]
        },
        {
          "output_type": "stream",
          "name": "stdout",
          "text": [
            "Mean score = -99108.73, Max value = 64\n",
            "\n",
            "\n",
            "Training epoch 25 -----\n",
            "Evaluation epoch 25 -----\n"
          ]
        },
        {
          "output_type": "stream",
          "name": "stderr",
          "text": [
            "100%|██████████| 100/100 [01:56<00:00,  1.17s/it]\n"
          ]
        },
        {
          "output_type": "stream",
          "name": "stdout",
          "text": [
            "Mean score = -99329.25, Max value = 16\n",
            "\n",
            "\n",
            "Training epoch 26 -----\n",
            "Evaluation epoch 26 -----\n"
          ]
        },
        {
          "output_type": "stream",
          "name": "stderr",
          "text": [
            "100%|██████████| 100/100 [01:56<00:00,  1.16s/it]\n"
          ]
        },
        {
          "output_type": "stream",
          "name": "stdout",
          "text": [
            "Mean score = -99333.78, Max value = 16\n",
            "\n",
            "\n",
            "Training epoch 27 -----\n",
            "Evaluation epoch 27 -----\n"
          ]
        },
        {
          "output_type": "stream",
          "name": "stderr",
          "text": [
            "100%|██████████| 100/100 [01:55<00:00,  1.16s/it]\n"
          ]
        },
        {
          "output_type": "stream",
          "name": "stdout",
          "text": [
            "Mean score = -99391.89, Max value = 16\n",
            "\n",
            "\n",
            "Training epoch 28 -----\n",
            "Evaluation epoch 28 -----\n"
          ]
        },
        {
          "output_type": "stream",
          "name": "stderr",
          "text": [
            "100%|██████████| 100/100 [01:56<00:00,  1.16s/it]\n"
          ]
        },
        {
          "output_type": "stream",
          "name": "stdout",
          "text": [
            "Mean score = -99307.51, Max value = 16\n",
            "\n",
            "\n",
            "Training epoch 29 -----\n",
            "Evaluation epoch 29 -----\n"
          ]
        },
        {
          "output_type": "stream",
          "name": "stderr",
          "text": [
            "100%|██████████| 100/100 [01:56<00:00,  1.16s/it]\n"
          ]
        },
        {
          "output_type": "stream",
          "name": "stdout",
          "text": [
            "Mean score = -99186.19, Max value = 16\n",
            "\n",
            "\n",
            "Training epoch 30 -----\n",
            "Evaluation epoch 30 -----\n"
          ]
        },
        {
          "output_type": "stream",
          "name": "stderr",
          "text": [
            "100%|██████████| 100/100 [01:55<00:00,  1.15s/it]\n"
          ]
        },
        {
          "output_type": "stream",
          "name": "stdout",
          "text": [
            "Mean score = -99428.47, Max value = 16\n",
            "\n",
            "\n",
            "Training epoch 31 -----\n",
            "Evaluation epoch 31 -----\n"
          ]
        },
        {
          "output_type": "stream",
          "name": "stderr",
          "text": [
            "100%|██████████| 100/100 [02:00<00:00,  1.20s/it]\n"
          ]
        },
        {
          "output_type": "stream",
          "name": "stdout",
          "text": [
            "Mean score = -99427.43, Max value = 16\n",
            "\n",
            "\n",
            "Training epoch 32 -----\n",
            "Evaluation epoch 32 -----\n"
          ]
        },
        {
          "output_type": "stream",
          "name": "stderr",
          "text": [
            "100%|██████████| 100/100 [01:59<00:00,  1.19s/it]\n"
          ]
        },
        {
          "output_type": "stream",
          "name": "stdout",
          "text": [
            "Mean score = -99426.13, Max value = 16\n",
            "\n",
            "\n",
            "Training epoch 33 -----\n",
            "Evaluation epoch 33 -----\n"
          ]
        },
        {
          "output_type": "stream",
          "name": "stderr",
          "text": [
            "100%|██████████| 100/100 [01:56<00:00,  1.16s/it]\n"
          ]
        },
        {
          "output_type": "stream",
          "name": "stdout",
          "text": [
            "Mean score = -99504.20, Max value = 8\n",
            "\n",
            "\n",
            "Training epoch 34 -----\n",
            "Evaluation epoch 34 -----\n"
          ]
        },
        {
          "output_type": "stream",
          "name": "stderr",
          "text": [
            "100%|██████████| 100/100 [01:58<00:00,  1.18s/it]\n"
          ]
        },
        {
          "output_type": "stream",
          "name": "stdout",
          "text": [
            "Mean score = -99486.55, Max value = 16\n",
            "\n",
            "\n",
            "Training epoch 35 -----\n",
            "Evaluation epoch 35 -----\n"
          ]
        },
        {
          "output_type": "stream",
          "name": "stderr",
          "text": [
            "100%|██████████| 100/100 [02:00<00:00,  1.21s/it]\n"
          ]
        },
        {
          "output_type": "stream",
          "name": "stdout",
          "text": [
            "Mean score = -99451.09, Max value = 16\n",
            "\n",
            "\n",
            "Training epoch 36 -----\n",
            "Evaluation epoch 36 -----\n"
          ]
        },
        {
          "output_type": "stream",
          "name": "stderr",
          "text": [
            "100%|██████████| 100/100 [02:01<00:00,  1.21s/it]\n"
          ]
        },
        {
          "output_type": "stream",
          "name": "stdout",
          "text": [
            "Mean score = -99388.26, Max value = 16\n",
            "\n",
            "\n",
            "Training epoch 37 -----\n",
            "Evaluation epoch 37 -----\n"
          ]
        },
        {
          "output_type": "stream",
          "name": "stderr",
          "text": [
            "100%|██████████| 100/100 [01:56<00:00,  1.16s/it]\n"
          ]
        },
        {
          "output_type": "stream",
          "name": "stdout",
          "text": [
            "Mean score = -99450.12, Max value = 16\n",
            "\n",
            "\n",
            "Training epoch 38 -----\n",
            "Evaluation epoch 38 -----\n"
          ]
        },
        {
          "output_type": "stream",
          "name": "stderr",
          "text": [
            "100%|██████████| 100/100 [01:55<00:00,  1.16s/it]\n"
          ]
        },
        {
          "output_type": "stream",
          "name": "stdout",
          "text": [
            "Mean score = -99416.48, Max value = 16\n",
            "\n",
            "\n",
            "Training epoch 39 -----\n",
            "Evaluation epoch 39 -----\n"
          ]
        },
        {
          "output_type": "stream",
          "name": "stderr",
          "text": [
            "100%|██████████| 100/100 [01:55<00:00,  1.15s/it]\n"
          ]
        },
        {
          "output_type": "stream",
          "name": "stdout",
          "text": [
            "Mean score = -99337.93, Max value = 16\n",
            "\n",
            "\n",
            "Training epoch 40 -----\n",
            "Evaluation epoch 40 -----\n"
          ]
        },
        {
          "output_type": "stream",
          "name": "stderr",
          "text": [
            "100%|██████████| 100/100 [01:55<00:00,  1.16s/it]\n"
          ]
        },
        {
          "output_type": "stream",
          "name": "stdout",
          "text": [
            "Mean score = -99409.85, Max value = 16\n",
            "\n",
            "\n",
            "Training epoch 41 -----\n",
            "Evaluation epoch 41 -----\n"
          ]
        },
        {
          "output_type": "stream",
          "name": "stderr",
          "text": [
            "100%|██████████| 100/100 [01:58<00:00,  1.18s/it]\n"
          ]
        },
        {
          "output_type": "stream",
          "name": "stdout",
          "text": [
            "Mean score = -99405.18, Max value = 16\n",
            "\n",
            "\n",
            "Training epoch 42 -----\n",
            "Evaluation epoch 42 -----\n"
          ]
        },
        {
          "output_type": "stream",
          "name": "stderr",
          "text": [
            "100%|██████████| 100/100 [01:57<00:00,  1.17s/it]\n"
          ]
        },
        {
          "output_type": "stream",
          "name": "stdout",
          "text": [
            "Mean score = -99436.19, Max value = 16\n",
            "\n",
            "\n",
            "Training epoch 43 -----\n",
            "Evaluation epoch 43 -----\n"
          ]
        },
        {
          "output_type": "stream",
          "name": "stderr",
          "text": [
            "100%|██████████| 100/100 [01:59<00:00,  1.19s/it]\n"
          ]
        },
        {
          "output_type": "stream",
          "name": "stdout",
          "text": [
            "Mean score = -99408.20, Max value = 16\n",
            "\n",
            "\n",
            "Training epoch 44 -----\n",
            "Evaluation epoch 44 -----\n"
          ]
        },
        {
          "output_type": "stream",
          "name": "stderr",
          "text": [
            "100%|██████████| 100/100 [02:01<00:00,  1.21s/it]\n"
          ]
        },
        {
          "output_type": "stream",
          "name": "stdout",
          "text": [
            "Mean score = -99408.52, Max value = 16\n",
            "\n",
            "\n",
            "Training epoch 45 -----\n",
            "Evaluation epoch 45 -----\n"
          ]
        },
        {
          "output_type": "stream",
          "name": "stderr",
          "text": [
            "100%|██████████| 100/100 [02:00<00:00,  1.21s/it]\n"
          ]
        },
        {
          "output_type": "stream",
          "name": "stdout",
          "text": [
            "Mean score = -99458.81, Max value = 16\n",
            "\n",
            "\n",
            "Training epoch 46 -----\n",
            "Evaluation epoch 46 -----\n"
          ]
        },
        {
          "output_type": "stream",
          "name": "stderr",
          "text": [
            "100%|██████████| 100/100 [01:59<00:00,  1.20s/it]\n"
          ]
        },
        {
          "output_type": "stream",
          "name": "stdout",
          "text": [
            "Mean score = -99318.91, Max value = 16\n",
            "\n",
            "\n",
            "Training epoch 47 -----\n",
            "Evaluation epoch 47 -----\n"
          ]
        },
        {
          "output_type": "stream",
          "name": "stderr",
          "text": [
            "100%|██████████| 100/100 [01:59<00:00,  1.20s/it]\n"
          ]
        },
        {
          "output_type": "stream",
          "name": "stdout",
          "text": [
            "Mean score = -99412.96, Max value = 16\n",
            "\n",
            "\n",
            "Training epoch 48 -----\n",
            "Evaluation epoch 48 -----\n"
          ]
        },
        {
          "output_type": "stream",
          "name": "stderr",
          "text": [
            "100%|██████████| 100/100 [02:01<00:00,  1.22s/it]\n"
          ]
        },
        {
          "output_type": "stream",
          "name": "stdout",
          "text": [
            "Mean score = -99412.12, Max value = 16\n",
            "\n",
            "\n",
            "Training epoch 49 -----\n",
            "Evaluation epoch 49 -----\n"
          ]
        },
        {
          "output_type": "stream",
          "name": "stderr",
          "text": [
            "100%|██████████| 100/100 [02:02<00:00,  1.22s/it]\n"
          ]
        },
        {
          "output_type": "stream",
          "name": "stdout",
          "text": [
            "Mean score = -99470.44, Max value = 16\n",
            "\n",
            "\n",
            "Training epoch 50 -----\n",
            "Evaluation epoch 50 -----\n"
          ]
        },
        {
          "output_type": "stream",
          "name": "stderr",
          "text": [
            "100%|██████████| 100/100 [02:02<00:00,  1.23s/it]"
          ]
        },
        {
          "output_type": "stream",
          "name": "stdout",
          "text": [
            "Mean score = -99444.83, Max value = 16\n",
            "\n",
            "\n"
          ]
        },
        {
          "output_type": "stream",
          "name": "stderr",
          "text": [
            "\n"
          ]
        }
      ]
    },
    {
      "cell_type": "code",
      "metadata": {
        "id": "LJGaP6vNks7n",
        "colab": {
          "base_uri": "https://localhost:8080/",
          "height": 567
        },
        "outputId": "005feb1f-6cdb-490d-b801-10c35a03742b"
      },
      "source": [
        "x_ind = [x*train_steps for x in range(train_epochs+1)]\n",
        "plt.plot(x_ind, mean_score_evaluations)\n",
        "plt.ylabel('Mean score (evaluated on {} episodes)'.format(eval_epochs))\n",
        "plt.xlabel('Cummulative Training Steps')\n",
        "plt.show()\n",
        "\n",
        "plt.plot(x_ind, max_values_evaluations)\n",
        "plt.yticks([pow(2, x) for x in range(7)])\n",
        "plt.ylabel('Max cell values obtained (evaluated on {} episodes)'.format(eval_epochs))\n",
        "plt.xlabel('Cummulative Training Steps')\n",
        "plt.show()"
      ],
      "execution_count": null,
      "outputs": [
        {
          "output_type": "display_data",
          "data": {
            "image/png": "[encoded data removed]",
            "text/plain": [
              "<Figure size 432x288 with 1 Axes>"
            ]
          },
          "metadata": {
            "needs_background": "light"
          }
        },
        {
          "output_type": "display_data",
          "data": {
            "image/png": "[encoded data removed]",
            "text/plain": [
              "<Figure size 432x288 with 1 Axes>"
            ]
          },
          "metadata": {
            "needs_background": "light"
          }
        }
      ]
    },
    {
      "cell_type": "code",
      "metadata": {
        "id": "lweJLArvzCka",
        "colab": {
          "base_uri": "https://localhost:8080/",
          "height": 34
        },
        "outputId": "b729d9c3-58f3-45b3-d994-a721a80df12e"
      },
      "source": [
        "download_model(save_dir_dqn, save_name_dqn)"
      ],
      "execution_count": null,
      "outputs": [
        {
          "output_type": "display_data",
          "data": {
            "application/javascript": [
              "\n",
              "    async function download(id, filename, size) {\n",
              "      if (!google.colab.kernel.accessAllowed) {\n",
              "        return;\n",
              "      }\n",
              "      const div = document.createElement('div');\n",
              "      const label = document.createElement('label');\n",
              "      label.textContent = `Downloading \"${filename}\": `;\n",
              "      div.appendChild(label);\n",
              "      const progress = document.createElement('progress');\n",
              "      progress.max = size;\n",
              "      div.appendChild(progress);\n",
              "      document.body.appendChild(div);\n",
              "\n",
              "      const buffers = [];\n",
              "      let downloaded = 0;\n",
              "\n",
              "      const channel = await google.colab.kernel.comms.open(id);\n",
              "      // Send a message to notify the kernel that we're ready.\n",
              "      channel.send({})\n",
              "\n",
              "      for await (const message of channel.messages) {\n",
              "        // Send a message to notify the kernel that we're ready.\n",
              "        channel.send({})\n",
              "        if (message.buffers) {\n",
              "          for (const buffer of message.buffers) {\n",
              "            buffers.push(buffer);\n",
              "            downloaded += buffer.byteLength;\n",
              "            progress.value = downloaded;\n",
              "          }\n",
              "        }\n",
              "      }\n",
              "      const blob = new Blob(buffers, {type: 'application/binary'});\n",
              "      const a = document.createElement('a');\n",
              "      a.href = window.URL.createObjectURL(blob);\n",
              "      a.download = filename;\n",
              "      div.appendChild(a);\n",
              "      a.click();\n",
              "      div.remove();\n",
              "    }\n",
              "  "
            ],
            "text/plain": [
              "<IPython.core.display.Javascript object>"
            ]
          },
          "metadata": {}
        },
        {
          "output_type": "display_data",
          "data": {
            "application/javascript": [
              "download(\"download_9ede79ce-356e-48a3-8b59-1ec04367b153\", \"best_model2048_dqn.zip\", 57111)"
            ],
            "text/plain": [
              "<IPython.core.display.Javascript object>"
            ]
          },
          "metadata": {}
        },
        {
          "output_type": "stream",
          "name": "stdout",
          "text": [
            "Model downloaded!\n"
          ]
        }
      ]
    },
    {
      "cell_type": "code",
      "metadata": {
        "id": "UXrnt29iYo7P",
        "colab": {
          "base_uri": "https://localhost:8080/",
          "height": 17
        },
        "outputId": "c0fa3bfe-211c-4dec-ffb2-3e9535476411"
      },
      "source": [
        "os.environ[\"SDL_VIDEODRIVER\"] = \"dummy\"\n",
        "name_mean_file = os.path.abspath(os.getcwd())+'/resultDQN_mean_2048_reward'+str(rewardvalue)+'_stepstrain'+str(train_steps)+'_meaneval'+str(eval_epochs)+'.txt'\n",
        "with open(name_mean_file, 'w') as fopen:\n",
        "  for el in mean_score_evaluations:\n",
        "    fopen.write(str(el)+'\\n')\n",
        "\n",
        "name_max_file = os.path.abspath(os.getcwd())+'/resultDQN_max_2048_reward'+str(rewardvalue)+'_stepstrain'+str(train_steps)+'_meaneval'+str(eval_epochs)+'.txt'\n",
        "with open(name_max_file, 'w') as fopen:\n",
        "  for el in max_values_evaluations:\n",
        "    fopen.write(str(el)+'\\n')\n",
        "  \n",
        "files.download(name_mean_file)\n",
        "files.download(name_max_file)\n"
      ],
      "execution_count": null,
      "outputs": [
        {
          "output_type": "display_data",
          "data": {
            "application/javascript": [
              "\n",
              "    async function download(id, filename, size) {\n",
              "      if (!google.colab.kernel.accessAllowed) {\n",
              "        return;\n",
              "      }\n",
              "      const div = document.createElement('div');\n",
              "      const label = document.createElement('label');\n",
              "      label.textContent = `Downloading \"${filename}\": `;\n",
              "      div.appendChild(label);\n",
              "      const progress = document.createElement('progress');\n",
              "      progress.max = size;\n",
              "      div.appendChild(progress);\n",
              "      document.body.appendChild(div);\n",
              "\n",
              "      const buffers = [];\n",
              "      let downloaded = 0;\n",
              "\n",
              "      const channel = await google.colab.kernel.comms.open(id);\n",
              "      // Send a message to notify the kernel that we're ready.\n",
              "      channel.send({})\n",
              "\n",
              "      for await (const message of channel.messages) {\n",
              "        // Send a message to notify the kernel that we're ready.\n",
              "        channel.send({})\n",
              "        if (message.buffers) {\n",
              "          for (const buffer of message.buffers) {\n",
              "            buffers.push(buffer);\n",
              "            downloaded += buffer.byteLength;\n",
              "            progress.value = downloaded;\n",
              "          }\n",
              "        }\n",
              "      }\n",
              "      const blob = new Blob(buffers, {type: 'application/binary'});\n",
              "      const a = document.createElement('a');\n",
              "      a.href = window.URL.createObjectURL(blob);\n",
              "      a.download = filename;\n",
              "      div.appendChild(a);\n",
              "      a.click();\n",
              "      div.remove();\n",
              "    }\n",
              "  "
            ],
            "text/plain": [
              "<IPython.core.display.Javascript object>"
            ]
          },
          "metadata": {}
        },
        {
          "output_type": "display_data",
          "data": {
            "application/javascript": [
              "download(\"download_6b291cde-bde0-419c-92f8-bb6e3244e41d\", \"resultDQN_mean_2048_reward4_stepstrain10000_meaneval100.txt\", 507)"
            ],
            "text/plain": [
              "<IPython.core.display.Javascript object>"
            ]
          },
          "metadata": {}
        },
        {
          "output_type": "display_data",
          "data": {
            "application/javascript": [
              "\n",
              "    async function download(id, filename, size) {\n",
              "      if (!google.colab.kernel.accessAllowed) {\n",
              "        return;\n",
              "      }\n",
              "      const div = document.createElement('div');\n",
              "      const label = document.createElement('label');\n",
              "      label.textContent = `Downloading \"${filename}\": `;\n",
              "      div.appendChild(label);\n",
              "      const progress = document.createElement('progress');\n",
              "      progress.max = size;\n",
              "      div.appendChild(progress);\n",
              "      document.body.appendChild(div);\n",
              "\n",
              "      const buffers = [];\n",
              "      let downloaded = 0;\n",
              "\n",
              "      const channel = await google.colab.kernel.comms.open(id);\n",
              "      // Send a message to notify the kernel that we're ready.\n",
              "      channel.send({})\n",
              "\n",
              "      for await (const message of channel.messages) {\n",
              "        // Send a message to notify the kernel that we're ready.\n",
              "        channel.send({})\n",
              "        if (message.buffers) {\n",
              "          for (const buffer of message.buffers) {\n",
              "            buffers.push(buffer);\n",
              "            downloaded += buffer.byteLength;\n",
              "            progress.value = downloaded;\n",
              "          }\n",
              "        }\n",
              "      }\n",
              "      const blob = new Blob(buffers, {type: 'application/binary'});\n",
              "      const a = document.createElement('a');\n",
              "      a.href = window.URL.createObjectURL(blob);\n",
              "      a.download = filename;\n",
              "      div.appendChild(a);\n",
              "      a.click();\n",
              "      div.remove();\n",
              "    }\n",
              "  "
            ],
            "text/plain": [
              "<IPython.core.display.Javascript object>"
            ]
          },
          "metadata": {}
        },
        {
          "output_type": "display_data",
          "data": {
            "application/javascript": [
              "download(\"download_594345b6-dae3-4929-948a-289c58e922b1\", \"resultDQN_max_2048_reward4_stepstrain10000_meaneval100.txt\", 152)"
            ],
            "text/plain": [
              "<IPython.core.display.Javascript object>"
            ]
          },
          "metadata": {}
        }
      ]
    },
    {
      "cell_type": "markdown",
      "metadata": {
        "id": "xfJJOHwKfFKC"
      },
      "source": [
        "### Show best option"
      ]
    },
    {
      "cell_type": "code",
      "metadata": {
        "colab": {
          "base_uri": "https://localhost:8080/"
        },
        "id": "ZpKfzctsfFKL",
        "outputId": "4e7845e8-516f-4f75-a1f2-1209bcdb732d"
      },
      "source": [
        "dqn_model_loaded = load_model(save_dir_dqn, save_name_dqn, 'DQN')\n",
        "\n",
        "max_value = -1e5\n",
        "video_frames = []\n",
        "times = 5\n",
        "for t in range(times):\n",
        "  env_show = Game2048Env(4, 4, 4, True)\n",
        "  observation = env_show.reset()\n",
        "  for t in range(1001):\n",
        "    env_show.render('video')\n",
        "    action, _states = dqn_model_loaded.predict(observation)\n",
        "    # action = env.action_space.sample()\n",
        "    observation, reward, done, info = env_show.step(action)\n",
        "\n",
        "    if done:\n",
        "      if type(info) == list:\n",
        "          if info[0]['max_v']>max_value:\n",
        "            max_value = info[0]['max_v']\n",
        "            video_frames = env.get_video()\n",
        "      elif type(info) == dict:\n",
        "          if info['max_v']>max_value:\n",
        "            max_value = info['max_v']\n",
        "            video_frames = env_show.get_video()\n",
        "      break"
      ],
      "execution_count": null,
      "outputs": [
        {
          "output_type": "stream",
          "name": "stdout",
          "text": [
            "Model loaded!\n"
          ]
        }
      ]
    },
    {
      "cell_type": "code",
      "metadata": {
        "colab": {
          "base_uri": "https://localhost:8080/",
          "height": 17
        },
        "id": "1Q3QdGPkfFKM",
        "outputId": "c71f3e77-f393-45dc-f4e4-3081c3e89a45"
      },
      "source": [
        "videodir = os.path.abspath(os.getcwd())+'/videos/'\n",
        "videoname = 'video2048_dqn.avi'\n",
        "os.makedirs(videodir, exist_ok=True)\n",
        "\n",
        "\n",
        "height, width, layers = video_frames[0].shape\n",
        "size = (width,height)\n",
        "out = cv2.VideoWriter(videodir+videoname,cv2.VideoWriter_fourcc(*'DIVX'), 15, size)\n",
        "\n",
        "for i in range(len(video_frames)):\n",
        "  for j in range(7):\n",
        "    out.write(video_frames[i])\n",
        "out.release()\n",
        "\n",
        "files.download(videodir+videoname)"
      ],
      "execution_count": null,
      "outputs": [
        {
          "output_type": "display_data",
          "data": {
            "application/javascript": [
              "\n",
              "    async function download(id, filename, size) {\n",
              "      if (!google.colab.kernel.accessAllowed) {\n",
              "        return;\n",
              "      }\n",
              "      const div = document.createElement('div');\n",
              "      const label = document.createElement('label');\n",
              "      label.textContent = `Downloading \"${filename}\": `;\n",
              "      div.appendChild(label);\n",
              "      const progress = document.createElement('progress');\n",
              "      progress.max = size;\n",
              "      div.appendChild(progress);\n",
              "      document.body.appendChild(div);\n",
              "\n",
              "      const buffers = [];\n",
              "      let downloaded = 0;\n",
              "\n",
              "      const channel = await google.colab.kernel.comms.open(id);\n",
              "      // Send a message to notify the kernel that we're ready.\n",
              "      channel.send({})\n",
              "\n",
              "      for await (const message of channel.messages) {\n",
              "        // Send a message to notify the kernel that we're ready.\n",
              "        channel.send({})\n",
              "        if (message.buffers) {\n",
              "          for (const buffer of message.buffers) {\n",
              "            buffers.push(buffer);\n",
              "            downloaded += buffer.byteLength;\n",
              "            progress.value = downloaded;\n",
              "          }\n",
              "        }\n",
              "      }\n",
              "      const blob = new Blob(buffers, {type: 'application/binary'});\n",
              "      const a = document.createElement('a');\n",
              "      a.href = window.URL.createObjectURL(blob);\n",
              "      a.download = filename;\n",
              "      div.appendChild(a);\n",
              "      a.click();\n",
              "      div.remove();\n",
              "    }\n",
              "  "
            ],
            "text/plain": [
              "<IPython.core.display.Javascript object>"
            ]
          },
          "metadata": {}
        },
        {
          "output_type": "display_data",
          "data": {
            "application/javascript": [
              "download(\"download_4224fd7c-3765-4e29-ba49-dc954a94b762\", \"video2048_dqn.avi\", 20755006)"
            ],
            "text/plain": [
              "<IPython.core.display.Javascript object>"
            ]
          },
          "metadata": {}
        }
      ]
    },
    {
      "cell_type": "code",
      "metadata": {
        "id": "W8IPTbDEfsHT"
      },
      "source": [
        ""
      ],
      "execution_count": null,
      "outputs": []
    }
  ]
}
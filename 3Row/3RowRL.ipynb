{
  "nbformat": 4,
  "nbformat_minor": 0,
  "metadata": {
    "colab": {
      "name": "3RowRL.ipynb",
      "provenance": [],
      "collapsed_sections": [
        "QFbxueAJ9xjv",
        "OSrvnPCD9u5H",
        "pnViKCDv9wtH",
        "HRU0ZGes97oo",
        "-8Y5i0kr99cS",
        "zSKd9EwyFN5_",
        "2-Q8PWX4IxQY"
      ]
    },
    "kernelspec": {
      "name": "python3",
      "display_name": "Python 3"
    },
    "language_info": {
      "name": "python"
    },
    "accelerator": "GPU"
  },
  "cells": [
    {
      "cell_type": "code",
      "metadata": {
        "colab": {
          "base_uri": "https://localhost:8080/"
        },
        "id": "loY4zbtU9pKL",
        "outputId": "9a4165a2-0ff8-4f7a-c7ca-95544b122bdc"
      },
      "source": [
        "# Stable Baselines only supports tensorflow 1.x for now\n",
        "%tensorflow_version 1.x\n",
        "!pip install stable-baselines[mpi]==2.10.0\n",
        "!pip install pygame\n",
        "\n",
        "from stable_baselines.common.policies import MlpPolicy\n",
        "from stable_baselines import PPO2, DQN"
      ],
      "execution_count": 1,
      "outputs": [
        {
          "output_type": "stream",
          "name": "stdout",
          "text": [
            "TensorFlow 1.x selected.\n",
            "Collecting stable-baselines[mpi]==2.10.0\n",
            "  Downloading stable_baselines-2.10.0-py3-none-any.whl (248 kB)\n",
            "\u001b[K     |████████████████████████████████| 248 kB 4.2 MB/s \n",
            "\u001b[?25hRequirement already satisfied: matplotlib in /usr/local/lib/python3.7/dist-packages (from stable-baselines[mpi]==2.10.0) (3.2.2)\n",
            "Requirement already satisfied: opencv-python in /usr/local/lib/python3.7/dist-packages (from stable-baselines[mpi]==2.10.0) (4.1.2.30)\n",
            "Requirement already satisfied: gym[atari,classic_control]>=0.11 in /usr/local/lib/python3.7/dist-packages (from stable-baselines[mpi]==2.10.0) (0.17.3)\n",
            "Requirement already satisfied: scipy in /usr/local/lib/python3.7/dist-packages (from stable-baselines[mpi]==2.10.0) (1.4.1)\n",
            "Requirement already satisfied: pandas in /usr/local/lib/python3.7/dist-packages (from stable-baselines[mpi]==2.10.0) (1.1.5)\n",
            "Requirement already satisfied: cloudpickle>=0.5.5 in /usr/local/lib/python3.7/dist-packages (from stable-baselines[mpi]==2.10.0) (1.3.0)\n",
            "Requirement already satisfied: joblib in /usr/local/lib/python3.7/dist-packages (from stable-baselines[mpi]==2.10.0) (1.0.1)\n",
            "Requirement already satisfied: numpy in /usr/local/lib/python3.7/dist-packages (from stable-baselines[mpi]==2.10.0) (1.19.5)\n",
            "Requirement already satisfied: mpi4py in /tensorflow-1.15.2/python3.7 (from stable-baselines[mpi]==2.10.0) (3.0.3)\n",
            "Requirement already satisfied: pyglet<=1.5.0,>=1.4.0 in /usr/local/lib/python3.7/dist-packages (from gym[atari,classic_control]>=0.11->stable-baselines[mpi]==2.10.0) (1.5.0)\n",
            "Requirement already satisfied: Pillow in /usr/local/lib/python3.7/dist-packages (from gym[atari,classic_control]>=0.11->stable-baselines[mpi]==2.10.0) (7.1.2)\n",
            "Requirement already satisfied: atari-py~=0.2.0 in /usr/local/lib/python3.7/dist-packages (from gym[atari,classic_control]>=0.11->stable-baselines[mpi]==2.10.0) (0.2.9)\n",
            "Requirement already satisfied: six in /usr/local/lib/python3.7/dist-packages (from atari-py~=0.2.0->gym[atari,classic_control]>=0.11->stable-baselines[mpi]==2.10.0) (1.15.0)\n",
            "Requirement already satisfied: future in /usr/local/lib/python3.7/dist-packages (from pyglet<=1.5.0,>=1.4.0->gym[atari,classic_control]>=0.11->stable-baselines[mpi]==2.10.0) (0.16.0)\n",
            "Requirement already satisfied: cycler>=0.10 in /usr/local/lib/python3.7/dist-packages (from matplotlib->stable-baselines[mpi]==2.10.0) (0.10.0)\n",
            "Requirement already satisfied: kiwisolver>=1.0.1 in /usr/local/lib/python3.7/dist-packages (from matplotlib->stable-baselines[mpi]==2.10.0) (1.3.2)\n",
            "Requirement already satisfied: pyparsing!=2.0.4,!=2.1.2,!=2.1.6,>=2.0.1 in /usr/local/lib/python3.7/dist-packages (from matplotlib->stable-baselines[mpi]==2.10.0) (2.4.7)\n",
            "Requirement already satisfied: python-dateutil>=2.1 in /usr/local/lib/python3.7/dist-packages (from matplotlib->stable-baselines[mpi]==2.10.0) (2.8.2)\n",
            "Requirement already satisfied: pytz>=2017.2 in /usr/local/lib/python3.7/dist-packages (from pandas->stable-baselines[mpi]==2.10.0) (2018.9)\n",
            "Installing collected packages: stable-baselines\n",
            "  Attempting uninstall: stable-baselines\n",
            "    Found existing installation: stable-baselines 2.2.1\n",
            "    Uninstalling stable-baselines-2.2.1:\n",
            "      Successfully uninstalled stable-baselines-2.2.1\n",
            "Successfully installed stable-baselines-2.10.0\n",
            "Collecting pygame\n",
            "  Downloading pygame-2.0.1-cp37-cp37m-manylinux1_x86_64.whl (11.8 MB)\n",
            "\u001b[K     |████████████████████████████████| 11.8 MB 4.3 MB/s \n",
            "\u001b[?25hInstalling collected packages: pygame\n",
            "Successfully installed pygame-2.0.1\n",
            "WARNING:tensorflow:\n",
            "The TensorFlow contrib module will not be included in TensorFlow 2.0.\n",
            "For more information, please see:\n",
            "  * https://github.com/tensorflow/community/blob/master/rfcs/20180907-contrib-sunset.md\n",
            "  * https://github.com/tensorflow/addons\n",
            "  * https://github.com/tensorflow/io (for I/O related ops)\n",
            "If you depend on functionality not listed there, please file an issue.\n",
            "\n"
          ]
        }
      ]
    },
    {
      "cell_type": "code",
      "metadata": {
        "id": "W3Vah6OY-BEe"
      },
      "source": [
        "import os\n",
        "import numpy as np\n",
        "import sys\n",
        "import math\n",
        "import random\n",
        "import time\n",
        "import cv2\n",
        "import matplotlib.pyplot as plt\n",
        "from tqdm import tqdm\n",
        "\n",
        "import gym\n",
        "from gym import spaces\n",
        "# from gym.envs.classic_control import rendering\n",
        "\n",
        "from google.colab import files\n",
        "from google.colab.patches import cv2_imshow\n",
        "from google.colab import output\n",
        "\n",
        "import IPython"
      ],
      "execution_count": 2,
      "outputs": []
    },
    {
      "cell_type": "markdown",
      "metadata": {
        "id": "QFbxueAJ9xjv"
      },
      "source": [
        "# OOP Code"
      ]
    },
    {
      "cell_type": "markdown",
      "metadata": {
        "id": "OSrvnPCD9u5H"
      },
      "source": [
        "## Piece"
      ]
    },
    {
      "cell_type": "code",
      "metadata": {
        "id": "8tOHt0TP9rXi"
      },
      "source": [
        "class Piece:\n",
        "    def __init__(self, player = 0):\n",
        "        self.player = player\n",
        "\n",
        "    def set_player(self, player):\n",
        "        self.player = player\n",
        "\n",
        "    def get_player(self):\n",
        "        return self.player"
      ],
      "execution_count": 3,
      "outputs": []
    },
    {
      "cell_type": "markdown",
      "metadata": {
        "id": "pnViKCDv9wtH"
      },
      "source": [
        "## Board"
      ]
    },
    {
      "cell_type": "code",
      "metadata": {
        "id": "SDGusMS-93Ni"
      },
      "source": [
        "class Board:\n",
        "    def __init__(self, rows, cols):\n",
        "        self.cols = cols\n",
        "        self.rows = rows\n",
        "\n",
        "        self.board = []\n",
        "        for r in range(self.rows):\n",
        "            self.board.append([])\n",
        "            for c in range(self.cols):\n",
        "                self.board[r].append(Piece())\n",
        "\n",
        "    def get_board_values(self):\n",
        "        b = []\n",
        "        for r in range(self.rows):\n",
        "            b.append([])\n",
        "            for c in range(self.cols):\n",
        "                b[r].append(self.board[r][c].get_player())\n",
        "        return b\n",
        "\n",
        "    def get_piece(self, row, col):\n",
        "        return self.board[row][col]\n",
        "\n",
        "    def put_piece(self, row, col, piece):\n",
        "        self.board[row][col] = piece\n"
      ],
      "execution_count": 4,
      "outputs": []
    },
    {
      "cell_type": "markdown",
      "metadata": {
        "id": "HRU0ZGes97oo"
      },
      "source": [
        "## BoardController"
      ]
    },
    {
      "cell_type": "code",
      "metadata": {
        "id": "5yKEr45_98zh"
      },
      "source": [
        "class BoardController:\n",
        "    def __init__(self, rows, cols):\n",
        "        self.rows = rows\n",
        "        self.cols = cols\n",
        "        self.level = 1\n",
        "        self.board = Board(self.rows, self.cols)\n",
        "\n",
        "    def get_rowcols(self):\n",
        "        return self.rows, self.cols\n",
        "\n",
        "    def set_board(self, new_board):\n",
        "        for ind_r, r in enumerate(new_board):\n",
        "            for ind_c, c in enumerate(r):\n",
        "                self.board.put_piece(ind_r, ind_c, Piece(c))\n",
        "\n",
        "    def get_board_values(self):\n",
        "        return self.board.get_board_values()\n",
        "\n",
        "    def get_board(self):\n",
        "        return self.board\n",
        "\n",
        "    def put_piece(self, row,  col, player):\n",
        "        if self.board.get_piece(row, col).get_player() != 0:\n",
        "            return False\n",
        "\n",
        "        self.board.put_piece(row, col, Piece(player))\n",
        "        return True\n",
        "\n",
        "    def check_winner(self, player):\n",
        "        if self.check_horizontal(self.board, player) or self.check_vertical(self.board, player) or self.check_diagonal(self.board, player):\n",
        "            return True\n",
        "        return False\n",
        "\n",
        "    def reestart_board(self):\n",
        "        for r in range(self.rows):\n",
        "            for c in range(self.cols):\n",
        "                self.board.put_piece(r, c, Piece())\n",
        "\n",
        "    def check_horizontal(self, board, player):\n",
        "        for r in range(self.rows):\n",
        "            if board.get_piece(r, 0).get_player() == player:\n",
        "                if board.get_piece(r, 1).get_player() == player:\n",
        "                    if board.get_piece(r, 2).get_player() == player:\n",
        "                        return True\n",
        "        return False\n",
        "\n",
        "    def check_vertical(self, board, player):\n",
        "        for c in range(self.cols):\n",
        "            if board.get_piece(0, c).get_player() == player:\n",
        "                if board.get_piece(1, c).get_player() == player:\n",
        "                    if board.get_piece(2, c).get_player() == player:\n",
        "                        return True\n",
        "        return False\n",
        "\n",
        "    def check_diagonal(self, board, player):\n",
        "        for c in [0, 2]:\n",
        "            # print c, '-', board.get_piece(0, c).get_player(), board.get_piece(1, 1).get_player(), board.get_piece(2, 2-c).get_player()\n",
        "            if board.get_piece(0, c).get_player() == player:\n",
        "                if board.get_piece(1, 1).get_player() == player:\n",
        "                    if board.get_piece(2, 2-c).get_player() == player:\n",
        "                        return True\n",
        "        return False\n",
        "\n",
        "    def check_nomoves(self):\n",
        "        for c in range(self.cols):\n",
        "            for r in range(self.rows):\n",
        "                if self.board.get_piece(r, c).get_player() == 0:\n",
        "                    return False\n",
        "        return True\n"
      ],
      "execution_count": 5,
      "outputs": []
    },
    {
      "cell_type": "markdown",
      "metadata": {
        "id": "-8Y5i0kr99cS"
      },
      "source": [
        "## UIBoard"
      ]
    },
    {
      "cell_type": "code",
      "metadata": {
        "id": "dSXNyWZk-EyV"
      },
      "source": [
        "import numpy as np\n",
        "import os\n",
        "\n",
        "class UIBoard:\n",
        "    def __init__(self, bcontrol):\n",
        "        self.b_controller = bcontrol\n",
        "\n",
        "    def print_board_values(self):\n",
        "        board = self.b_controller.get_board_values()\n",
        "        print(np.matrix(board))\n",
        "\n",
        "    def clear_terminal(self):\n",
        "        os.system('cls' if os.name == 'nt' else 'clear')\n"
      ],
      "execution_count": 6,
      "outputs": []
    },
    {
      "cell_type": "markdown",
      "metadata": {
        "id": "zSKd9EwyFN5_"
      },
      "source": [
        "## Aux"
      ]
    },
    {
      "cell_type": "markdown",
      "metadata": {
        "id": "a8mX0a98FNqn"
      },
      "source": [
        "###Player"
      ]
    },
    {
      "cell_type": "code",
      "metadata": {
        "id": "8w-a4TviFNbY"
      },
      "source": [
        "class Player:\n",
        "    def __init__(self, number, bc):\n",
        "        self.player = number\n",
        "        self.b_controller = bc\n",
        "\n",
        "    def get_number(self):\n",
        "        return self.player\n",
        "\n",
        "    def play_turn(self):\n",
        "\n",
        "        validmove = False\n",
        "        while not validmove:\n",
        "            column = None\n",
        "            row = None\n",
        "            while column not in range(1, 4):\n",
        "                print(\"Input a valid column (1-3):\")\n",
        "                column = int(input())\n",
        "                # column = 1\n",
        "            while row not in range(1, 4):\n",
        "                print(\"Input a valid row (1-3):\")\n",
        "                row = int(input())\n",
        "                # row = 3\n",
        "            column -= 1\n",
        "            row -= 1\n",
        "\n",
        "            validmove = self.b_controller.put_piece(row, column, self.player)\n",
        "            if not validmove:\n",
        "                print('-- Please enter a valid move!!')\n",
        "\n"
      ],
      "execution_count": 8,
      "outputs": []
    },
    {
      "cell_type": "markdown",
      "metadata": {
        "id": "5o02lrHJ-MoJ"
      },
      "source": [
        "### GameController"
      ]
    },
    {
      "cell_type": "code",
      "metadata": {
        "id": "0Sw72oshFLM5"
      },
      "source": [
        "class Controller3Row:\n",
        "\tdef __init__(self):\n",
        "\n",
        "\t\tself.rows = 3\n",
        "\t\tself.columns = 3\n",
        "\n",
        "\t\tself.b_controller = BoardController(self.rows, self.columns)\n",
        "\t\tself.ui = UIBoard(self.b_controller)\n",
        "\t\tself.player1 = Player(1, self.b_controller)\n",
        "\t\tself.player2 = Player(2, self.b_controller)\n",
        "\n",
        "\t\tself.turn = 0\n",
        "\n",
        "\n",
        "\tdef play(self):\n",
        "\t\tend = False\n",
        "\t\tself.reestart_game()\n",
        "\t\tself.ui.print_board_values()\n",
        "\n",
        "\t\tmoves = 0\n",
        "\t\twhile not end and moves < 5:\n",
        "\n",
        "\t\t\tself.turn = self.turn % 2 +1\n",
        "\n",
        "\t\t\tif self.turn == 1:\n",
        "\t\t\t\tprint('Turn', moves, ': player 1')\n",
        "\t\t\t\tself.player1.play_turn()\n",
        "\t\t\t\twinner = self.b_controller.check_winner(self.player1.get_number())\n",
        "\t\t\telif self.turn == 2:\n",
        "\t\t\t\tprint('Turn', moves, ': player 2')\n",
        "\t\t\t\tself.player2.play_turn()\n",
        "\t\t\t\twinner = self.b_controller.check_winner(self.player2.get_number())\n",
        "\n",
        "\t\t\tself.ui.print_board_values()\n",
        "\t\t\tif winner:\n",
        "\t\t\t\tif self.turn == 1:\n",
        "\t\t\t\t\tprint('Player 1 won!!')\n",
        "\t\t\t\telif self.turn == 2:\n",
        "\t\t\t\t\tprint('Player 2 won!!')\n",
        "\t\t\t\tend = True\n",
        "\t\t\telse:\n",
        "\t\t\t\tdraw = self.b_controller.check_nomoves()\n",
        "\t\t\t\tif draw:\n",
        "\t\t\t\t\tend = True\n",
        "\t\t\t\t\tprint('Draw!!')\n",
        "\n",
        "\t\t\tmoves += 1\n",
        "\n",
        "\n",
        "\tdef ticks2time(self, ticks):\n",
        "\t\tseconds = int((ticks/1000) % 60)\n",
        "\t\tminutes = int((ticks/(1000*60)) % 60)\n",
        "\t\thours = int((ticks/(1000*60*60)) % 24)\n",
        "\n",
        "\t\tif hours > 0:\n",
        "\t\t\treturn \"{}:{}:{:02d}\".format(hours, minutes, seconds)\n",
        "\t\telse:\n",
        "\t\t\treturn \"{}:{:02d}\".format(minutes, seconds)\n",
        "\n",
        "\tdef reestart_game(self):\n",
        "\t\t# self.b_controller.reestart_board()\n",
        "\t\t# initial_board = np.array([  [2,1,2],\n",
        "\t\t# \t\t\t\t\t\t\t[2,1,2],\n",
        "\t\t# \t\t\t\t\t\t\t[1,2,0]])\n",
        "\t\tself.b_controller.set_board(initial_board)\n"
      ],
      "execution_count": 11,
      "outputs": []
    },
    {
      "cell_type": "markdown",
      "metadata": {
        "id": "J8EL1fUm-T-T"
      },
      "source": [
        "# CustomEnv"
      ]
    },
    {
      "cell_type": "code",
      "metadata": {
        "id": "8Z8oAbH6-VkW"
      },
      "source": [
        "class Game3RowEnv(gym.Env):\n",
        "\t\"\"\"\n",
        "\tCustom Environment to play 3 in a row.\n",
        "\t\"\"\"\n",
        "\tmetadata = {'render.modes': ['human', 'terminal']}\n",
        "\n",
        "\tdef __init__(self, rows, cols, reward=1, vsAI = 1):\n",
        "\t\tsuper(Game3RowEnv, self).__init__()\n",
        "\n",
        "\t\tself.rows = rows\n",
        "\t\tself.cols = cols\n",
        "\t\t# Size of the 1Dgame grid\n",
        "\t\tself.grid_size = rows*cols\n",
        "\t\tself.moves = 0\n",
        "\t\tself.player = 1\n",
        "\t\tself.rival = 2\n",
        "\n",
        "\t\tself.b_controller = BoardController(self.rows, self.cols)\n",
        "\t\tself.ui = UIBoard(self.b_controller)\n",
        "\n",
        "\t\t# Define action and observation space\n",
        "\t\tn_actions = 9\n",
        "\t\tself.action_space = spaces.Discrete(n_actions)\n",
        "\t\t# The observation will be the coordinate of the agent\n",
        "\t\t# this can be described both by Discrete and Box space\n",
        "\t\tself.observation_space = spaces.Box(low=0, high=2,\n",
        "\t\t\t\t\t\t\t\t\t\t\tshape=(self.rows*self.cols, ), dtype=np.float32)\n",
        "\n",
        "\t\tself.list_moves = []\n",
        "\t\tself.list_states = []\n",
        "\t\tself.type_reward = reward\n",
        "\t\tself.type_AI = vsAI\n",
        "\t\tself.video = []\n",
        "\n",
        "\tdef reset(self):\n",
        "\t\t\"\"\"\n",
        "\t\tImportant: the observation must be a numpy array\n",
        "\t\t:return: (np.array)\n",
        "\t\t\"\"\"\n",
        "\t\tself.b_controller.reestart_board()\n",
        "\n",
        "\t\tself.list_moves = []\n",
        "\t\tself.list_states = []\n",
        "\t\tself.moves = 0\n",
        "\n",
        "\t\tobs = np.array(self.b_controller.get_board_values())\n",
        "\t\tflat_obs = obs.flatten(order='C')\n",
        "\t\treturn flat_obs\n",
        "\n",
        "\tdef step(self, action):\n",
        "\t\tmove_row = int(action/3)\n",
        "\t\tmove_col = action % 3\n",
        "\n",
        "\t\tvalidmove = self.b_controller.put_piece(move_row, move_col, self.player)\n",
        "\n",
        "\t\tself.list_states.append(self.b_controller.get_board_values())\n",
        "\t\tself.list_moves.append(action)\n",
        "\t\tself.moves += 1\n",
        "\n",
        "\t\t# Optionally we can pass additional info, we are not using that for now\n",
        "\t\tinfo = {'finished':False, 'list_moves':self.list_moves, 'list_states':self.list_states, 'step':self.moves}\n",
        "\n",
        "\t\tif validmove:\n",
        "\t\t\twinner = self.b_controller.check_winner(self.player)\n",
        "\t\t\tdraw = False\n",
        "\t\t\tif not winner: #if it hasn't win, check draw\n",
        "\t\t\t\tdraw = self.b_controller.check_nomoves()\n",
        "\n",
        "\n",
        "\t\t\tif not draw and not winner: #if it hasn't win nor draw, move the rival\n",
        "\t\t\t\tself.moveAI()\n",
        "\t\t\t\tloser = self.b_controller.check_winner(self.rival)\n",
        "\t\t\t\tif not loser: #if the rival hasn't won, check draw\n",
        "\t\t\t\t\tdraw = self.b_controller.check_nomoves()\n",
        "\n",
        "\n",
        "\t\tdone = False\n",
        "\t\tif self.type_reward == 1 or self.type_reward == 2:\n",
        "\t\t\t# REWARD: 1 if win, -1 if loss, 0 rest, if invalid move -10\n",
        "\t\t\tif not validmove:\n",
        "\t\t\t\treward = -10\n",
        "\t\t\t\tif self.type_reward == 1:\n",
        "\t\t\t\t\tinfo['finished'] = 'invalid'\n",
        "\t\t\t\t\tdone = True\n",
        "\t\t\telif winner:\n",
        "\t\t\t\tinfo['finished'] = 'win'\n",
        "\t\t\t\treward = 1\n",
        "\t\t\t\tdone = True\n",
        "\t\t\telif draw:\n",
        "\t\t\t\tinfo['finished'] = 'draw'\n",
        "\t\t\t\treward = 0\n",
        "\t\t\t\tdone = True\n",
        "\t\t\telif loser:\n",
        "\t\t\t\tinfo['finished'] = 'lose'\n",
        "\t\t\t\treward = -1\n",
        "\t\t\t\tdone = True\n",
        "\t\t\telse:\n",
        "\t\t\t\treward = 0\n",
        "\n",
        "\t\t\tif self.type_reward == 2 and self.moves > 15:\n",
        "\t\t\t\tinfo['finished'] = 'invalid'\n",
        "\t\t\t\tdone = True\n",
        "\n",
        "\t\telse:\n",
        "\t\t\traise ValueError(\"Wrong reward value provided\")\n",
        "\n",
        "\t\tobs = np.array(self.b_controller.get_board_values())\n",
        "\t\tflat_obs = obs.flatten(order='C')\n",
        "\t\treturn flat_obs, reward, done, info\n",
        "\n",
        "\tdef moveAI(self):\n",
        "\t\tif self.type_AI == 0: # no movements (vs person)\n",
        "\t\t\tpass\n",
        "\t\telif self.type_AI == 1:  # AI 1 = random AI\n",
        "\t\t\tself.move_randomAI()\n",
        "\t\telse:\n",
        "\t\t\tprint('Incorrect type AI')\n",
        "\n",
        "\tdef move_randomAI(self):\n",
        "\t\trivallvalidmove = False\n",
        "\t\twhile not rivallvalidmove:\n",
        "\t\t\taction_rival = random.randint(1, 9)\n",
        "\t\t\trival_row = int(action_rival / 3) -1\n",
        "\t\t\trival_col = (action_rival % 3) -1\n",
        "\t\t\trivallvalidmove = self.b_controller.put_piece(rival_row, rival_col, self.rival)\n",
        "\n",
        "\tdef get_video(self):\n",
        "\t\treturn self.video\n",
        "\n",
        "\tdef set_specific_table(self, table):\n",
        "\t\tself.b_controller.set_board(table)\n",
        "\n",
        "\n",
        "\tdef render(self, mode='None', specific_table = False):\n",
        "\n",
        "\t\tif mode == 'human':\n",
        "\t\t\tself.ui.clear_terminal()\n",
        "\t\t\tself.ui.print_board_values()\n",
        "\n",
        "\t\telif mode == 'terminal':\n",
        "\t\t\tself.ui.print_board_values()\n",
        "\n",
        "\t\telif mode == 'colab':\n",
        "\t\t\tIPython.display.clear_output()\n",
        "\t\t\tb_values = self.b_controller.get_board_values()\n",
        "\t\t\tprint(np.matrix(b_values))\n",
        "\t\t\ttime.sleep(1.5)\n",
        "\n",
        "\t\telif mode == 'None':\n",
        "\t\t\tpass\n",
        "\n",
        "\t\telse:\n",
        "\t\t\traise NotImplementedError()\n",
        "\n",
        "\tdef close(self):\n",
        "\t\tpass\n",
        "\n",
        "\t# for the vs player\n",
        "\tdef return_board(self):\n",
        "\t\tobs = np.array(self.b_controller.get_board_values())\n",
        "\t\tflat_obs = obs.flatten(order='C')\n",
        "\t\treturn flat_obs\n",
        "\n",
        "\tdef player_move(self, position):\n",
        "\t\tposition -= 1\n",
        "\t\tmove_row = int(position / 3)\n",
        "\t\tmove_col = (position % 3)\n",
        "\t\tprint('move', move_row, move_col)\n",
        "\t\tvalidmove = self.b_controller.put_piece(move_row, move_col, self.rival)\n",
        "\t\treturn validmove\n",
        "\n",
        "\tdef check_winner(self):\n",
        "\t\treturn self.b_controller.check_winner(self.rival)\n",
        "\tdef check_draw(self):\n",
        "\t\treturn self.b_controller.check_nomoves()\n"
      ],
      "execution_count": 12,
      "outputs": []
    },
    {
      "cell_type": "markdown",
      "metadata": {
        "id": "pBRkiWNe2maH"
      },
      "source": [
        "#Evaluate"
      ]
    },
    {
      "cell_type": "code",
      "metadata": {
        "id": "h3JqREfc0bZP"
      },
      "source": [
        "def evaluation(model, env, num_episodes=100):\n",
        "    results = {'win':0, 'lose':0, 'draw':0, 'invalid':0, 'total':0}\n",
        "    best_win = {}\n",
        "    best_moves = 999 # we will select the best case regarding least moves\n",
        "\n",
        "    env = model.get_env()\n",
        "    episode_rewards = []\n",
        "    for i in tqdm(range(num_episodes)):\n",
        "        step_reward = []\n",
        "        done = False\n",
        "        obs = env.reset()\n",
        "        while not done:\n",
        "            action, _states = model.predict(obs)\n",
        "            obs, reward, done, info = env.step(action)\n",
        "            step_reward.append(reward)\n",
        "        # if type(info) == list:\n",
        "        #   print('Step {}: {} -> {}'.format(info[0]['step'], info[0]['finished'], done))\n",
        "        #   print(info)\n",
        "        # elif type(info) == dict:\n",
        "        #   print('Step {}: {} -> {}'.format(info['step'], info['finished'], done))\n",
        "        #   print(info)\n",
        "\n",
        "        episode_rewards.append(sum(step_reward))\n",
        "\n",
        "        if type(info) == list:\n",
        "          results[info[0]['finished']] += 1\n",
        "          if info[0]['step'] < best_moves:\n",
        "            best_moves = info[0]['step']\n",
        "            best_win = info[0]\n",
        "        elif type(info) == dict:\n",
        "          results[info['finished']] += 1\n",
        "          if info['step'] < best_moves:\n",
        "            best_moves = info['step']\n",
        "            best_win = info\n",
        "        else:\n",
        "          print('other')\n",
        "\n",
        "    results['total'] = sum([results[x] for x in results.keys()])\n",
        "    mean_episode_reward = np.mean(episode_rewards)\n",
        "    # print(\"\\nMean reward:\", mean_episode_reward, \"Num episodes:\", num_episodes, \"Max value\", max_value)\n",
        "\n",
        "    return mean_episode_reward, results, best_win"
      ],
      "execution_count": 24,
      "outputs": []
    },
    {
      "cell_type": "markdown",
      "metadata": {
        "id": "2-Q8PWX4IxQY"
      },
      "source": [
        "#Save/Load/Download Models"
      ]
    },
    {
      "cell_type": "code",
      "metadata": {
        "id": "naRwNV-OI8ox"
      },
      "source": [
        "def save_model(model, savedir, savename):\n",
        "  os.makedirs(savedir, exist_ok=True)\n",
        "  model.save(savedir + \"/\" + savename)\n",
        "  print('Model saved!')"
      ],
      "execution_count": 14,
      "outputs": []
    },
    {
      "cell_type": "code",
      "metadata": {
        "id": "r1f51rmbI9E7"
      },
      "source": [
        "def load_model(savedir, savename, type_m='PPO2'):\n",
        "  if type_m == 'PPO2':\n",
        "    loaded_model = PPO2.load(savedir + \"/\" + savename)\n",
        "  elif type_m == 'DQN':\n",
        "    loaded_model = DQN.load(savedir + \"/\" + savename)\n",
        "  else:\n",
        "    print('bad model type')\n",
        "\n",
        "  print('Model loaded!')\n",
        "  return loaded_model"
      ],
      "execution_count": 15,
      "outputs": []
    },
    {
      "cell_type": "code",
      "metadata": {
        "id": "jD-7ePtwI-s5"
      },
      "source": [
        "def download_model(savedir, savename):\n",
        "  files.download(savedir+\"/\"+savename+\".zip\")\n",
        "  print('Model downloaded!')"
      ],
      "execution_count": 16,
      "outputs": []
    },
    {
      "cell_type": "markdown",
      "metadata": {
        "id": "Y_YWvdsz2HJS"
      },
      "source": [
        "# PPO2"
      ]
    },
    {
      "cell_type": "code",
      "metadata": {
        "id": "dIYoazQoKcfb"
      },
      "source": [
        "save_dir_ppo = \"/content/models_saved/\"\n",
        "save_name_ppo = 'best_model_3row_ppo2'"
      ],
      "execution_count": 17,
      "outputs": []
    },
    {
      "cell_type": "code",
      "metadata": {
        "id": "yNMBk0Wd3ZJj",
        "colab": {
          "base_uri": "https://localhost:8080/"
        },
        "outputId": "c1657fc0-8041-4c41-80df-4d7df1e4e1fd"
      },
      "source": [
        "# Training + Evaluation every X steps\n",
        "train_steps = 5000\n",
        "train_epochs = 20\n",
        "eval_epochs = 200\n",
        "print('Training for {} million steps ({} steps * {} epochs)'.format((train_steps*train_epochs)/(1e6), train_steps, train_epochs))\n",
        "\n",
        "rewardvalue = 2\n",
        "AI = 1\n",
        "env = Game3RowEnv(3, 3, reward=rewardvalue, vsAI=AI)\n",
        "\n",
        "ppo_model = PPO2(MlpPolicy, env, gamma=0.95, verbose=0, seed=42 )\n",
        "\n",
        "mean_score_evaluations = []\n",
        "results_evaluations = []\n",
        "best_mean_results = -9e20\n",
        "\n",
        "print('Epoch {} -----'.format(0))\n",
        "mean0, result0, _ = evaluation(ppo_model, env, num_episodes=eval_epochs)\n",
        "mean_score_evaluations.append(mean0)\n",
        "results_evaluations.append(result0)\n",
        "print('Mean score = {:.2f}\\n'.format(mean0))\n",
        "if mean0 > best_mean_results:\n",
        "  save_model(ppo_model, save_dir_ppo, save_name_ppo)\n",
        "  best_mean_results = mean0\n"
      ],
      "execution_count": 29,
      "outputs": [
        {
          "output_type": "stream",
          "name": "stdout",
          "text": [
            "Training for 0.1 million steps (5000 steps * 20 epochs)\n",
            "Epoch 0 -----\n"
          ]
        },
        {
          "output_type": "stream",
          "name": "stderr",
          "text": [
            "100%|██████████| 200/200 [00:03<00:00, 59.56it/s]\n"
          ]
        },
        {
          "output_type": "stream",
          "name": "stdout",
          "text": [
            "Mean score = -45.42\n",
            "\n",
            "Model saved!\n"
          ]
        }
      ]
    },
    {
      "cell_type": "code",
      "metadata": {
        "id": "7X14d87M2JFV",
        "colab": {
          "base_uri": "https://localhost:8080/"
        },
        "outputId": "ef315ee4-a06e-46d9-8caa-fbdba991e4a2"
      },
      "source": [
        "for i in range(1, train_epochs+1):\n",
        "  print('Training epoch {} -----'.format(i))\n",
        "  ppo_model.learn(total_timesteps=train_steps)\n",
        "  print('Evaluation epoch {} -----'.format(i))\n",
        "  mean, result, _ = evaluation(ppo_model, env, num_episodes=eval_epochs)\n",
        "  mean_score_evaluations.append(mean)\n",
        "  results_evaluations.append(result)\n",
        "  print('Mean score = {:.2f}'.format(mean))\n",
        "  if mean > best_mean_results:\n",
        "    save_model(ppo_model, save_dir_ppo, save_name_ppo)\n",
        "    best_mean_results = mean\n",
        "  print()\n"
      ],
      "execution_count": 30,
      "outputs": [
        {
          "output_type": "stream",
          "name": "stdout",
          "text": [
            "Training epoch 1 -----\n",
            "Evaluation epoch 1 -----\n"
          ]
        },
        {
          "output_type": "stream",
          "name": "stderr",
          "text": [
            "100%|██████████| 200/200 [00:02<00:00, 70.99it/s]\n"
          ]
        },
        {
          "output_type": "stream",
          "name": "stdout",
          "text": [
            "Mean score = -37.39\n",
            "Model saved!\n",
            "\n",
            "Training epoch 2 -----\n",
            "Evaluation epoch 2 -----\n"
          ]
        },
        {
          "output_type": "stream",
          "name": "stderr",
          "text": [
            "100%|██████████| 200/200 [00:02<00:00, 69.20it/s]\n"
          ]
        },
        {
          "output_type": "stream",
          "name": "stdout",
          "text": [
            "Mean score = -36.15\n",
            "Model saved!\n",
            "\n",
            "Training epoch 3 -----\n",
            "Evaluation epoch 3 -----\n"
          ]
        },
        {
          "output_type": "stream",
          "name": "stderr",
          "text": [
            "100%|██████████| 200/200 [00:02<00:00, 85.19it/s]\n"
          ]
        },
        {
          "output_type": "stream",
          "name": "stdout",
          "text": [
            "Mean score = -21.19\n",
            "Model saved!\n",
            "\n",
            "Training epoch 4 -----\n",
            "Evaluation epoch 4 -----\n"
          ]
        },
        {
          "output_type": "stream",
          "name": "stderr",
          "text": [
            "100%|██████████| 200/200 [00:02<00:00, 97.84it/s] \n"
          ]
        },
        {
          "output_type": "stream",
          "name": "stdout",
          "text": [
            "Mean score = -11.10\n",
            "Model saved!\n",
            "\n",
            "Training epoch 5 -----\n",
            "Evaluation epoch 5 -----\n"
          ]
        },
        {
          "output_type": "stream",
          "name": "stderr",
          "text": [
            "100%|██████████| 200/200 [00:01<00:00, 108.07it/s]\n"
          ]
        },
        {
          "output_type": "stream",
          "name": "stdout",
          "text": [
            "Mean score = -7.12\n",
            "Model saved!\n",
            "\n",
            "Training epoch 6 -----\n",
            "Evaluation epoch 6 -----\n"
          ]
        },
        {
          "output_type": "stream",
          "name": "stderr",
          "text": [
            "100%|██████████| 200/200 [00:01<00:00, 121.24it/s]\n"
          ]
        },
        {
          "output_type": "stream",
          "name": "stdout",
          "text": [
            "Mean score = -2.47\n",
            "Model saved!\n",
            "\n",
            "Training epoch 7 -----\n",
            "Evaluation epoch 7 -----\n"
          ]
        },
        {
          "output_type": "stream",
          "name": "stderr",
          "text": [
            "100%|██████████| 200/200 [00:01<00:00, 120.77it/s]\n"
          ]
        },
        {
          "output_type": "stream",
          "name": "stdout",
          "text": [
            "Mean score = -1.12\n",
            "Model saved!\n",
            "\n",
            "Training epoch 8 -----\n",
            "Evaluation epoch 8 -----\n"
          ]
        },
        {
          "output_type": "stream",
          "name": "stderr",
          "text": [
            "100%|██████████| 200/200 [00:01<00:00, 129.36it/s]\n"
          ]
        },
        {
          "output_type": "stream",
          "name": "stdout",
          "text": [
            "Mean score = -0.40\n",
            "Model saved!\n",
            "\n",
            "Training epoch 9 -----\n",
            "Evaluation epoch 9 -----\n"
          ]
        },
        {
          "output_type": "stream",
          "name": "stderr",
          "text": [
            "100%|██████████| 200/200 [00:01<00:00, 127.61it/s]\n"
          ]
        },
        {
          "output_type": "stream",
          "name": "stdout",
          "text": [
            "Mean score = -0.06\n",
            "Model saved!\n",
            "\n",
            "Training epoch 10 -----\n",
            "Evaluation epoch 10 -----\n"
          ]
        },
        {
          "output_type": "stream",
          "name": "stderr",
          "text": [
            "100%|██████████| 200/200 [00:01<00:00, 136.08it/s]\n"
          ]
        },
        {
          "output_type": "stream",
          "name": "stdout",
          "text": [
            "Mean score = 0.50\n",
            "Model saved!\n",
            "\n",
            "Training epoch 11 -----\n",
            "Evaluation epoch 11 -----\n"
          ]
        },
        {
          "output_type": "stream",
          "name": "stderr",
          "text": [
            "100%|██████████| 200/200 [00:01<00:00, 140.15it/s]\n"
          ]
        },
        {
          "output_type": "stream",
          "name": "stdout",
          "text": [
            "Mean score = 0.09\n",
            "\n",
            "Training epoch 12 -----\n",
            "Evaluation epoch 12 -----\n"
          ]
        },
        {
          "output_type": "stream",
          "name": "stderr",
          "text": [
            "100%|██████████| 200/200 [00:01<00:00, 150.71it/s]\n"
          ]
        },
        {
          "output_type": "stream",
          "name": "stdout",
          "text": [
            "Mean score = 0.50\n",
            "\n",
            "Training epoch 13 -----\n",
            "Evaluation epoch 13 -----\n"
          ]
        },
        {
          "output_type": "stream",
          "name": "stderr",
          "text": [
            "100%|██████████| 200/200 [00:01<00:00, 146.77it/s]\n"
          ]
        },
        {
          "output_type": "stream",
          "name": "stdout",
          "text": [
            "Mean score = 0.47\n",
            "\n",
            "Training epoch 14 -----\n",
            "Evaluation epoch 14 -----\n"
          ]
        },
        {
          "output_type": "stream",
          "name": "stderr",
          "text": [
            "100%|██████████| 200/200 [00:01<00:00, 146.85it/s]\n"
          ]
        },
        {
          "output_type": "stream",
          "name": "stdout",
          "text": [
            "Mean score = 0.44\n",
            "\n",
            "Training epoch 15 -----\n",
            "Evaluation epoch 15 -----\n"
          ]
        },
        {
          "output_type": "stream",
          "name": "stderr",
          "text": [
            "100%|██████████| 200/200 [00:01<00:00, 149.48it/s]\n"
          ]
        },
        {
          "output_type": "stream",
          "name": "stdout",
          "text": [
            "Mean score = 0.31\n",
            "\n",
            "Training epoch 16 -----\n",
            "Evaluation epoch 16 -----\n"
          ]
        },
        {
          "output_type": "stream",
          "name": "stderr",
          "text": [
            "100%|██████████| 200/200 [00:01<00:00, 153.37it/s]\n"
          ]
        },
        {
          "output_type": "stream",
          "name": "stdout",
          "text": [
            "Mean score = 0.71\n",
            "Model saved!\n",
            "\n",
            "Training epoch 17 -----\n",
            "Evaluation epoch 17 -----\n"
          ]
        },
        {
          "output_type": "stream",
          "name": "stderr",
          "text": [
            "100%|██████████| 200/200 [00:01<00:00, 155.45it/s]\n"
          ]
        },
        {
          "output_type": "stream",
          "name": "stdout",
          "text": [
            "Mean score = 0.79\n",
            "Model saved!\n",
            "\n",
            "Training epoch 18 -----\n",
            "Evaluation epoch 18 -----\n"
          ]
        },
        {
          "output_type": "stream",
          "name": "stderr",
          "text": [
            "100%|██████████| 200/200 [00:01<00:00, 155.76it/s]\n"
          ]
        },
        {
          "output_type": "stream",
          "name": "stdout",
          "text": [
            "Mean score = 0.20\n",
            "\n",
            "Training epoch 19 -----\n",
            "Evaluation epoch 19 -----\n"
          ]
        },
        {
          "output_type": "stream",
          "name": "stderr",
          "text": [
            "100%|██████████| 200/200 [00:01<00:00, 159.84it/s]\n"
          ]
        },
        {
          "output_type": "stream",
          "name": "stdout",
          "text": [
            "Mean score = 0.29\n",
            "\n",
            "Training epoch 20 -----\n",
            "Evaluation epoch 20 -----\n"
          ]
        },
        {
          "output_type": "stream",
          "name": "stderr",
          "text": [
            "100%|██████████| 200/200 [00:01<00:00, 151.04it/s]"
          ]
        },
        {
          "output_type": "stream",
          "name": "stdout",
          "text": [
            "Mean score = 0.64\n",
            "\n"
          ]
        },
        {
          "output_type": "stream",
          "name": "stderr",
          "text": [
            "\n"
          ]
        }
      ]
    },
    {
      "cell_type": "code",
      "metadata": {
        "id": "RCttL1Wo9q6-"
      },
      "source": [
        "wins = [r['win'] for r in results_evaluations]\n",
        "draws = [r['draw'] for r in results_evaluations]\n",
        "loses = [r['lose'] for r in results_evaluations]\n",
        "invalids = [r['invalid'] for r in results_evaluations]\n",
        "loses_inv = [r['invalid']+r['lose'] for r in results_evaluations]\n",
        "totals = [r['total'] for r in results_evaluations]\n",
        "\n",
        "perc_victories = [int(float(win)/float(total)*100) for win, total in zip(wins, totals)]"
      ],
      "execution_count": 31,
      "outputs": []
    },
    {
      "cell_type": "code",
      "metadata": {
        "colab": {
          "base_uri": "https://localhost:8080/"
        },
        "id": "AjXrSxB6BLs6",
        "outputId": "dd8f970c-16fa-47fc-d9b0-efa4f8d83c33"
      },
      "source": [
        "print(perc_victories)"
      ],
      "execution_count": 32,
      "outputs": [
        {
          "output_type": "stream",
          "name": "stdout",
          "text": [
            "[49, 50, 54, 60, 61, 68, 62, 70, 76, 78, 88, 88, 91, 91, 90, 92, 90, 91, 95, 92, 94]\n"
          ]
        }
      ]
    },
    {
      "cell_type": "code",
      "metadata": {
        "id": "0TfG2rylxwcp",
        "colab": {
          "base_uri": "https://localhost:8080/",
          "height": 541
        },
        "outputId": "bdf89fb8-b1d6-4ac8-b347-4d2a62556f46"
      },
      "source": [
        "x_ind = [x*train_steps for x in range(train_epochs+1)]\n",
        "plt.plot(x_ind, mean_score_evaluations)\n",
        "plt.ylabel('Mean score (evaluated on {} episodes)'.format(eval_epochs))\n",
        "plt.xlabel('Cummulative Training Steps')\n",
        "plt.show()\n",
        "\n",
        "plt.plot(x_ind, perc_victories, label='percentage victories', linestyle='dashed')\n",
        "plt.ylabel('Perc victories (evaluated on {} episodes)'.format(eval_epochs))\n",
        "plt.xlabel('Cummulative Training Steps')\n",
        "plt.show()"
      ],
      "execution_count": 33,
      "outputs": [
        {
          "output_type": "display_data",
          "data": {
            "image/png": "[encoded data removed]",
            "text/plain": [
              "<Figure size 432x288 with 1 Axes>"
            ]
          },
          "metadata": {
            "needs_background": "light"
          }
        },
        {
          "output_type": "display_data",
          "data": {
            "image/png": "[encoded data removed]",
            "text/plain": [
              "<Figure size 432x288 with 1 Axes>"
            ]
          },
          "metadata": {
            "needs_background": "light"
          }
        }
      ]
    },
    {
      "cell_type": "code",
      "metadata": {
        "colab": {
          "base_uri": "https://localhost:8080/",
          "height": 279
        },
        "id": "wAQFhtHH5rvm",
        "outputId": "7f119bb9-6534-4c6f-f301-d27702053d85"
      },
      "source": [
        "plt.plot(x_ind, wins, 'g', label=\"wins\")\n",
        "plt.plot(x_ind, draws, 'y', label=\"draws\")\n",
        "plt.plot(x_ind, loses, 'k', label=\"loses\")\n",
        "plt.plot(x_ind, invalids, 'r', label=\"invalids\")\n",
        "\n",
        "plt.ylabel('Count results (evaluated on {} episodes)'.format(eval_epochs))\n",
        "plt.xlabel('Cummulative Training Steps')\n",
        "plt.legend(loc=\"upper left\")\n",
        "plt.show()"
      ],
      "execution_count": 34,
      "outputs": [
        {
          "output_type": "display_data",
          "data": {
            "image/png": "[encoded data removed]",
            "text/plain": [
              "<Figure size 432x288 with 1 Axes>"
            ]
          },
          "metadata": {
            "needs_background": "light"
          }
        }
      ]
    },
    {
      "cell_type": "code",
      "metadata": {
        "colab": {
          "base_uri": "https://localhost:8080/",
          "height": 35
        },
        "id": "CpENxLV5J-Hu",
        "outputId": "0b1dafd2-df75-4a85-ca3a-fa5d0ac2a35c"
      },
      "source": [
        "download_model(save_dir_ppo, save_name_ppo)"
      ],
      "execution_count": 35,
      "outputs": [
        {
          "output_type": "display_data",
          "data": {
            "application/javascript": [
              "\n",
              "    async function download(id, filename, size) {\n",
              "      if (!google.colab.kernel.accessAllowed) {\n",
              "        return;\n",
              "      }\n",
              "      const div = document.createElement('div');\n",
              "      const label = document.createElement('label');\n",
              "      label.textContent = `Downloading \"${filename}\": `;\n",
              "      div.appendChild(label);\n",
              "      const progress = document.createElement('progress');\n",
              "      progress.max = size;\n",
              "      div.appendChild(progress);\n",
              "      document.body.appendChild(div);\n",
              "\n",
              "      const buffers = [];\n",
              "      let downloaded = 0;\n",
              "\n",
              "      const channel = await google.colab.kernel.comms.open(id);\n",
              "      // Send a message to notify the kernel that we're ready.\n",
              "      channel.send({})\n",
              "\n",
              "      for await (const message of channel.messages) {\n",
              "        // Send a message to notify the kernel that we're ready.\n",
              "        channel.send({})\n",
              "        if (message.buffers) {\n",
              "          for (const buffer of message.buffers) {\n",
              "            buffers.push(buffer);\n",
              "            downloaded += buffer.byteLength;\n",
              "            progress.value = downloaded;\n",
              "          }\n",
              "        }\n",
              "      }\n",
              "      const blob = new Blob(buffers, {type: 'application/binary'});\n",
              "      const a = document.createElement('a');\n",
              "      a.href = window.URL.createObjectURL(blob);\n",
              "      a.download = filename;\n",
              "      div.appendChild(a);\n",
              "      a.click();\n",
              "      div.remove();\n",
              "    }\n",
              "  "
            ],
            "text/plain": [
              "<IPython.core.display.Javascript object>"
            ]
          },
          "metadata": {}
        },
        {
          "output_type": "display_data",
          "data": {
            "application/javascript": [
              "download(\"download_4259738b-ea25-46c4-b4fe-d995becc8af7\", \"best_model_3row_ppo2.zip\", 56108)"
            ],
            "text/plain": [
              "<IPython.core.display.Javascript object>"
            ]
          },
          "metadata": {}
        },
        {
          "output_type": "stream",
          "name": "stdout",
          "text": [
            "Model downloaded!\n"
          ]
        }
      ]
    },
    {
      "cell_type": "code",
      "metadata": {
        "id": "9lKEoyQxWlXt",
        "colab": {
          "base_uri": "https://localhost:8080/",
          "height": 17
        },
        "outputId": "939c6281-022b-4a03-abd7-b2f17acb51c9"
      },
      "source": [
        "name_mean_file = os.path.abspath(os.getcwd())+'/resultPPO_mean_3row_reward'+str(rewardvalue)+'_ai'+str(AI)+'_stepstrain'+str(train_steps)+'_meaneval'+str(eval_epochs)+'.txt'\n",
        "with open(name_mean_file, 'w') as fopen:\n",
        "  for el in mean_score_evaluations:\n",
        "    fopen.write(str(el)+'\\n')\n",
        "  \n",
        "files.download(name_mean_file)\n"
      ],
      "execution_count": 36,
      "outputs": [
        {
          "output_type": "display_data",
          "data": {
            "application/javascript": [
              "\n",
              "    async function download(id, filename, size) {\n",
              "      if (!google.colab.kernel.accessAllowed) {\n",
              "        return;\n",
              "      }\n",
              "      const div = document.createElement('div');\n",
              "      const label = document.createElement('label');\n",
              "      label.textContent = `Downloading \"${filename}\": `;\n",
              "      div.appendChild(label);\n",
              "      const progress = document.createElement('progress');\n",
              "      progress.max = size;\n",
              "      div.appendChild(progress);\n",
              "      document.body.appendChild(div);\n",
              "\n",
              "      const buffers = [];\n",
              "      let downloaded = 0;\n",
              "\n",
              "      const channel = await google.colab.kernel.comms.open(id);\n",
              "      // Send a message to notify the kernel that we're ready.\n",
              "      channel.send({})\n",
              "\n",
              "      for await (const message of channel.messages) {\n",
              "        // Send a message to notify the kernel that we're ready.\n",
              "        channel.send({})\n",
              "        if (message.buffers) {\n",
              "          for (const buffer of message.buffers) {\n",
              "            buffers.push(buffer);\n",
              "            downloaded += buffer.byteLength;\n",
              "            progress.value = downloaded;\n",
              "          }\n",
              "        }\n",
              "      }\n",
              "      const blob = new Blob(buffers, {type: 'application/binary'});\n",
              "      const a = document.createElement('a');\n",
              "      a.href = window.URL.createObjectURL(blob);\n",
              "      a.download = filename;\n",
              "      div.appendChild(a);\n",
              "      a.click();\n",
              "      div.remove();\n",
              "    }\n",
              "  "
            ],
            "text/plain": [
              "<IPython.core.display.Javascript object>"
            ]
          },
          "metadata": {}
        },
        {
          "output_type": "display_data",
          "data": {
            "application/javascript": [
              "download(\"download_914d7c06-8336-4972-8fff-b1ed1a716839\", \"resultPPO_mean_3row_reward2_ai1_stepstrain5000_meaneval200.txt\", 133)"
            ],
            "text/plain": [
              "<IPython.core.display.Javascript object>"
            ]
          },
          "metadata": {}
        }
      ]
    },
    {
      "cell_type": "markdown",
      "metadata": {
        "id": "ufoXdwRZa65j"
      },
      "source": [
        "# Checkings"
      ]
    },
    {
      "cell_type": "markdown",
      "metadata": {
        "id": "OAOoQFHhO5vJ"
      },
      "source": [
        "## Show example vs AI"
      ]
    },
    {
      "cell_type": "code",
      "metadata": {
        "colab": {
          "base_uri": "https://localhost:8080/"
        },
        "id": "Qk7jKh6VA2zE",
        "outputId": "8ff8ac91-9dc2-4a83-f19b-99c02a3f01fe"
      },
      "source": [
        "ppo_model_loaded = load_model(save_dir_ppo, save_name_ppo, 'PPO2')\n"
      ],
      "execution_count": 37,
      "outputs": [
        {
          "output_type": "stream",
          "name": "stdout",
          "text": [
            "Model loaded!\n"
          ]
        }
      ]
    },
    {
      "cell_type": "code",
      "metadata": {
        "colab": {
          "base_uri": "https://localhost:8080/"
        },
        "id": "Zm2GORyhA3Sj",
        "outputId": "9326a6ce-18b2-4214-d32c-0a9fed744470"
      },
      "source": [
        "env_show = Game3RowEnv(3, 3, reward=2, vsAI=1)\n",
        "observation = env_show.reset()\n",
        "for t in range(10):\n",
        "  action, _states = ppo_model_loaded.predict(observation)\n",
        "  observation, reward, done, info = env_show.step(action)\n",
        "  env_show.render('colab')\n",
        "  \n",
        "  if done:\n",
        "    print(info)\n",
        "    break"
      ],
      "execution_count": 38,
      "outputs": [
        {
          "output_type": "stream",
          "name": "stdout",
          "text": [
            "[[1 0 0]\n",
            " [0 1 0]\n",
            " [2 2 1]]\n",
            "{'finished': 'win', 'list_moves': [4, 0, 8], 'list_states': [[[0, 0, 0], [0, 1, 0], [0, 0, 0]], [[1, 0, 0], [0, 1, 0], [0, 2, 0]], [[1, 0, 0], [0, 1, 0], [2, 2, 1]]], 'step': 3}\n"
          ]
        }
      ]
    },
    {
      "cell_type": "markdown",
      "metadata": {
        "id": "dthn4VR9Ee_x"
      },
      "source": [
        ""
      ]
    },
    {
      "cell_type": "markdown",
      "metadata": {
        "id": "jnmeLXVcElnU"
      },
      "source": [
        "## Play Yourself"
      ]
    },
    {
      "cell_type": "code",
      "metadata": {
        "colab": {
          "base_uri": "https://localhost:8080/"
        },
        "id": "9GWjGpFfcvVG",
        "outputId": "f706c4d7-c80c-4eff-fb61-9974227e96c4"
      },
      "source": [
        "ppo_model_loaded = load_model(save_dir_ppo, save_name_ppo, 'PPO2')"
      ],
      "execution_count": 39,
      "outputs": [
        {
          "output_type": "stream",
          "name": "stdout",
          "text": [
            "Model loaded!\n"
          ]
        }
      ]
    },
    {
      "cell_type": "code",
      "metadata": {
        "id": "qhkGyR3iFXYI"
      },
      "source": [
        "def move_player(GameEnv): #the player makes a movement and returns the new table\n",
        "  is_valid = False\n",
        "  while not is_valid:\n",
        "    pos = 0\n",
        "    while pos not in range(1, 10):\n",
        "        print(\"Input a valid position (1-9):\")\n",
        "        pos = int(input())\n",
        "\n",
        "    is_valid = GameEnv.player_move(pos)\n",
        "    if not is_valid:\n",
        "      print('--Invalid move!')\n",
        "  \n",
        "  new_board = GameEnv.return_board()\n",
        "  return new_board\n"
      ],
      "execution_count": 40,
      "outputs": []
    },
    {
      "cell_type": "code",
      "metadata": {
        "colab": {
          "base_uri": "https://localhost:8080/"
        },
        "id": "23n7eFdEErJY",
        "outputId": "44eab46d-1fdf-443e-dfe3-59c54a874cf9"
      },
      "source": [
        "\n",
        "env_player = Game3RowEnv(3, 3, reward=1, vsAI=0)\n",
        "observation = env_show.reset()\n",
        "for t in range(10):\n",
        "  loser = False\n",
        "  action, _states = ppo_model_loaded.predict(observation)\n",
        "  observation, reward, done, info = env_player.step(action)\n",
        "  env_player.render('terminal')\n",
        "  \n",
        "  if not done: #if the model hasnt win already you can move\n",
        "    observation = move_player(env_player)\n",
        "    env_player.render('terminal')\n",
        "    loser = env_player.check_winner()\n",
        "    draw = env_player.check_draw()\n",
        "    if loser or draw:\n",
        "      done = True\n",
        "  \n",
        "  if done:\n",
        "    if loser:\n",
        "      print('The player won!')\n",
        "    elif info['finished'] == 'draw' or draw:\n",
        "      print('Its a draw!')\n",
        "    else:\n",
        "      print('The AI won!')\n",
        "\n",
        "    print(info)\n",
        "    break"
      ],
      "execution_count": 44,
      "outputs": [
        {
          "output_type": "stream",
          "name": "stdout",
          "text": [
            "[[0 0 0]\n",
            " [0 1 0]\n",
            " [0 0 0]]\n",
            "Input a valid position (1-9):\n",
            "3\n",
            "move 0 2\n",
            "[[0 0 2]\n",
            " [0 1 0]\n",
            " [0 0 0]]\n",
            "[[1 0 2]\n",
            " [0 1 0]\n",
            " [0 0 0]]\n",
            "Input a valid position (1-9):\n",
            "9\n",
            "move 2 2\n",
            "[[1 0 2]\n",
            " [0 1 0]\n",
            " [0 0 2]]\n",
            "[[1 0 2]\n",
            " [0 1 0]\n",
            " [1 0 2]]\n",
            "Input a valid position (1-9):\n",
            "4\n",
            "move 1 0\n",
            "[[1 0 2]\n",
            " [2 1 0]\n",
            " [1 0 2]]\n",
            "[[1 0 2]\n",
            " [2 1 0]\n",
            " [1 1 2]]\n",
            "Input a valid position (1-9):\n",
            "2\n",
            "move 0 1\n",
            "[[1 2 2]\n",
            " [2 1 0]\n",
            " [1 1 2]]\n",
            "[[1 2 2]\n",
            " [2 1 1]\n",
            " [1 1 2]]\n",
            "Its a draw!\n",
            "{'finished': 'draw', 'list_moves': [4, 0, 6, 7, 5], 'list_states': [[[0, 0, 0], [0, 1, 0], [0, 0, 0]], [[1, 0, 2], [0, 1, 0], [0, 0, 0]], [[1, 0, 2], [0, 1, 0], [1, 0, 2]], [[1, 0, 2], [2, 1, 0], [1, 1, 2]], [[1, 2, 2], [2, 1, 1], [1, 1, 2]]], 'step': 5}\n"
          ]
        }
      ]
    },
    {
      "cell_type": "code",
      "metadata": {
        "id": "Hh_jHVn8fccY"
      },
      "source": [
        ""
      ],
      "execution_count": null,
      "outputs": []
    }
  ]
}